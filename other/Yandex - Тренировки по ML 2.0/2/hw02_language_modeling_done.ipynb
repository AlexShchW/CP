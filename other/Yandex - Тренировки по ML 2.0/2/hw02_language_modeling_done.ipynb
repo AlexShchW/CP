{
  "cells": [
    {
      "cell_type": "markdown",
      "metadata": {
        "id": "T445FVxQ6SwM"
      },
      "source": [
        "### Генерация поэзии с помощью нейронных сетей: шаг 1\n",
        "##### Автор: [Радослав Нейчев](https://www.linkedin.com/in/radoslav-neychev/), @neychev\n",
        "\n",
        "Ваша основная задача: научиться генерироват стихи с помощью простой рекуррентной нейронной сети (Vanilla RNN). В качестве корпуса текстов для обучения будет выступать роман в стихах \"Евгений Онегин\" Александра Сергеевича Пушкина."
      ]
    },
    {
      "cell_type": "code",
      "execution_count": 15,
      "metadata": {
        "id": "BZE0jC4V6SwS"
      },
      "outputs": [],
      "source": [
        "# do not change the code in the block below\n",
        "# __________start of block__________\n",
        "import string\n",
        "import os\n",
        "from random import sample\n",
        "\n",
        "import numpy as np\n",
        "import torch, torch.nn as nn\n",
        "import torch.nn.functional as F\n",
        "from torch import optim\n",
        "from torch.utils.data import DataLoader\n",
        "\n",
        "from IPython.display import clear_output\n",
        "\n",
        "import matplotlib.pyplot as plt\n",
        "# __________end of block__________"
      ]
    },
    {
      "cell_type": "code",
      "execution_count": 2,
      "metadata": {
        "colab": {
          "base_uri": "https://localhost:8080/"
        },
        "id": "tEGVIuCB6SwU",
        "outputId": "9c21f482-5bef-4f0c-e316-2bd4c5985afc"
      },
      "outputs": [
        {
          "name": "stdout",
          "output_type": "stream",
          "text": [
            "cuda device is available\n"
          ]
        }
      ],
      "source": [
        "# do not change the code in the block below\n",
        "# __________start of block__________\n",
        "device = torch.device('cuda') if torch.cuda.is_available() else torch.device('cpu')\n",
        "print('{} device is available'.format(device))\n",
        "# __________end of block__________"
      ]
    },
    {
      "cell_type": "markdown",
      "metadata": {
        "id": "MPenWOy01Ooa",
        "outputId": "a92e8e33-e009-4bd4-ac12-3b1b5e1cd3f2"
      },
      "source": [
        "#### 1. Загрузка данных."
      ]
    },
    {
      "cell_type": "code",
      "execution_count": 3,
      "metadata": {
        "colab": {
          "base_uri": "https://localhost:8080/"
        },
        "id": "66M6XZj96SwV",
        "outputId": "79dffb89-3f5b-48c8-c39b-753a4fdeff08"
      },
      "outputs": [
        {
          "name": "stdout",
          "output_type": "stream",
          "text": [
            "--2024-11-01 20:22:49--  https://raw.githubusercontent.com/neychev/small_DL_repo/master/datasets/onegin.txt\n",
            "Resolving raw.githubusercontent.com (raw.githubusercontent.com)... 185.199.109.133, 185.199.108.133, 185.199.111.133, ...\n",
            "Connecting to raw.githubusercontent.com (raw.githubusercontent.com)|185.199.109.133|:443... connected.\n",
            "HTTP request sent, awaiting response... 200 OK\n",
            "Length: 262521 (256K) [text/plain]\n",
            "Saving to: ‘onegin.txt’\n",
            "\n",
            "onegin.txt          100%[===================>] 256.37K  --.-KB/s    in 0.03s   \n",
            "\n",
            "2024-11-01 20:22:50 (9.11 MB/s) - ‘onegin.txt’ saved [262521/262521]\n",
            "\n"
          ]
        }
      ],
      "source": [
        "# do not change the code in the block below\n",
        "# __________start of block__________\n",
        "!wget https://raw.githubusercontent.com/neychev/small_DL_repo/master/datasets/onegin.txt\n",
        "\n",
        "with open('onegin.txt', 'r') as iofile:\n",
        "    text = iofile.readlines()\n",
        "\n",
        "text = \"\".join([x.replace('\\t\\t', '').lower() for x in text])\n",
        "# __________end of block__________"
      ]
    },
    {
      "cell_type": "markdown",
      "metadata": {
        "id": "XQYpmGfR_gJ8"
      },
      "source": [
        "#### 2. Построение словаря и предобработка текста\n",
        "В данном задании требуется построить языковую модель на уровне символов. Приведем весь текст к нижнему регистру и построим словарь из всех символов в доступном корпусе текстов. Также добавим токен `<sos>`."
      ]
    },
    {
      "cell_type": "code",
      "execution_count": 4,
      "metadata": {
        "colab": {
          "base_uri": "https://localhost:8080/"
        },
        "id": "H0gpJGGg6SwW",
        "outputId": "5097aa78-07f2-40ff-ceec-9134d1f20f03"
      },
      "outputs": [
        {
          "name": "stdout",
          "output_type": "stream",
          "text": [
            "Seems fine!\n"
          ]
        }
      ],
      "source": [
        "# do not change the code in the block below\n",
        "# __________start of block__________\n",
        "tokens = sorted(set(text.lower())) + ['<sos>']\n",
        "num_tokens = len(tokens)\n",
        "\n",
        "assert num_tokens == 84, \"Check the tokenization process\"\n",
        "\n",
        "token_to_idx = {x: idx for idx, x in enumerate(tokens)}\n",
        "idx_to_token = {idx: x for idx, x in enumerate(tokens)}\n",
        "\n",
        "assert len(tokens) == len(token_to_idx), \"Mapping should be unique\"\n",
        "\n",
        "print(\"Seems fine!\")\n",
        "\n",
        "\n",
        "text_encoded = [token_to_idx[x] for x in text]\n",
        "# __________end of block__________"
      ]
    },
    {
      "cell_type": "markdown",
      "metadata": {
        "id": "K2UUBRY16SwX"
      },
      "source": [
        "__Ваша задача__: обучить классическую рекуррентную нейронную сеть (Vanilla RNN) предсказывать следующий символ на полученном корпусе текстов и сгенерировать последовательность длины 100 для фиксированной начальной фразы.\n",
        "\n",
        "Вы можете воспользоваться кодом с занятие №6 или же обратиться к следующим ссылкам:\n",
        "* Замечательная статья за авторством Andrej Karpathy об использовании RNN: [link](http://karpathy.github.io/2015/05/21/rnn-effectiveness/)\n",
        "* Пример char-rnn от Andrej Karpathy: [github repo](https://github.com/karpathy/char-rnn)\n",
        "* Замечательный пример генерации поэзии Шекспира: [github repo](https://github.com/spro/practical-pytorch/blob/master/char-rnn-generation/char-rnn-generation.ipynb)\n",
        "\n",
        "Данное задание является достаточно творческим. Не страшно, если поначалу оно вызывает затруднения. Последняя ссылка в списке выше может быть особенно полезна в данном случае.\n",
        "\n",
        "Далее для вашего удобства реализована функция, которая генерирует случайный батч размера `batch_size` из строк длиной `seq_length`. Вы можете использовать его при обучении модели."
      ]
    },
    {
      "cell_type": "code",
      "execution_count": 5,
      "metadata": {
        "id": "OgvuQq5V6SwY"
      },
      "outputs": [],
      "source": [
        "# do not change the code in the block below\n",
        "# __________start of block__________\n",
        "batch_size = 256\n",
        "seq_length = 100\n",
        "start_column = np.zeros((batch_size, 1), dtype=int) + token_to_idx['<sos>']\n",
        "\n",
        "def generate_chunk():\n",
        "    global text_encoded, start_column, batch_size, seq_length\n",
        "\n",
        "    start_index = np.random.randint(0, len(text_encoded) - batch_size*seq_length - 1)\n",
        "    data = np.array(text_encoded[start_index:start_index + batch_size*seq_length]).reshape((batch_size, -1))\n",
        "    yield np.hstack((start_column, data))\n",
        "# __________end of block__________"
      ]
    },
    {
      "cell_type": "code",
      "execution_count": null,
      "metadata": {
        "id": "mIdBM1ZEbkJh"
      },
      "outputs": [],
      "source": []
    },
    {
      "cell_type": "markdown",
      "metadata": {
        "id": "KozNgRYF6SwY"
      },
      "source": [
        "Пример батча:"
      ]
    },
    {
      "cell_type": "code",
      "execution_count": 6,
      "metadata": {
        "colab": {
          "base_uri": "https://localhost:8080/"
        },
        "id": "HTmMMVcH6SwZ",
        "outputId": "7c40a52b-042d-4c44-f9a0-4fc589e90c00"
      },
      "outputs": [
        {
          "data": {
            "text/plain": [
              "array([[83, 26, 26, ..., 60, 56, 64],\n",
              "       [83,  1, 60, ..., 56,  7,  0],\n",
              "       [83, 55, 45, ..., 56, 53,  1],\n",
              "       ...,\n",
              "       [83, 45, 56, ..., 50, 58, 73],\n",
              "       [83,  7,  0, ..., 56, 53, 63],\n",
              "       [83,  7,  0, ..., 50, 54,  0]])"
            ]
          },
          "execution_count": 6,
          "metadata": {},
          "output_type": "execute_result"
        }
      ],
      "source": [
        "next(generate_chunk())"
      ]
    },
    {
      "cell_type": "markdown",
      "metadata": {
        "id": "Sccpi2kt6Swc"
      },
      "source": [
        "Далее вам предстоит написать код для обучения модели и генерации текста."
      ]
    },
    {
      "cell_type": "code",
      "execution_count": 7,
      "metadata": {
        "id": "LQfKH7dl6Swd"
      },
      "outputs": [],
      "source": [
        "# your beautiful experiments here"
      ]
    },
    {
      "cell_type": "code",
      "execution_count": 86,
      "metadata": {
        "colab": {
          "base_uri": "https://localhost:8080/",
          "height": 1000
        },
        "id": "UZ_k2eicYkbT",
        "outputId": "e44287d9-8842-4218-bf23-7d9520eb7a6e"
      },
      "outputs": [
        {
          "name": "stdout",
          "output_type": "stream",
          "text": [
            "Epoch [10/1000], Loss: 3.1227\n",
            "Epoch [20/1000], Loss: 2.7882\n",
            "Epoch [30/1000], Loss: 2.6588\n",
            "Epoch [40/1000], Loss: 2.5847\n",
            "Epoch [50/1000], Loss: 2.4888\n",
            "Epoch [60/1000], Loss: 2.4527\n",
            "Epoch [70/1000], Loss: 2.4309\n",
            "Epoch [80/1000], Loss: 2.3882\n",
            "Epoch [90/1000], Loss: 2.3297\n",
            "Epoch [100/1000], Loss: 2.3072\n",
            "Epoch [110/1000], Loss: 2.2934\n",
            "Epoch [120/1000], Loss: 2.2778\n",
            "Epoch [130/1000], Loss: 2.2497\n",
            "Epoch [140/1000], Loss: 2.2500\n",
            "Epoch [150/1000], Loss: 2.2325\n",
            "Epoch [160/1000], Loss: 2.2194\n",
            "Epoch [170/1000], Loss: 2.1807\n",
            "Epoch [180/1000], Loss: 2.1596\n",
            "Epoch [190/1000], Loss: 2.1537\n",
            "Epoch [200/1000], Loss: 2.1566\n",
            "Epoch [210/1000], Loss: 2.0938\n",
            "Epoch [220/1000], Loss: 2.0772\n",
            "Epoch [230/1000], Loss: 2.0992\n",
            "Epoch [240/1000], Loss: 2.0668\n",
            "Epoch [250/1000], Loss: 2.0807\n",
            "Epoch [260/1000], Loss: 2.0783\n",
            "Epoch [270/1000], Loss: 2.0688\n",
            "Epoch [280/1000], Loss: 2.0008\n",
            "Epoch [290/1000], Loss: 1.9776\n",
            "Epoch [300/1000], Loss: 2.0447\n",
            "Epoch [310/1000], Loss: 2.0434\n",
            "Epoch [320/1000], Loss: 2.0223\n",
            "Epoch [330/1000], Loss: 1.9830\n",
            "Epoch [340/1000], Loss: 1.9600\n",
            "Epoch [350/1000], Loss: 1.9113\n",
            "Epoch [360/1000], Loss: 1.8831\n",
            "Epoch [370/1000], Loss: 1.8953\n",
            "Epoch [380/1000], Loss: 1.9424\n",
            "Epoch [390/1000], Loss: 1.8760\n",
            "Epoch [400/1000], Loss: 1.8800\n",
            "Epoch [410/1000], Loss: 1.8386\n",
            "Epoch [420/1000], Loss: 1.9399\n",
            "Epoch [430/1000], Loss: 1.8028\n",
            "Epoch [440/1000], Loss: 1.8530\n",
            "Epoch [450/1000], Loss: 1.9143\n",
            "Epoch [460/1000], Loss: 1.8613\n",
            "Epoch [470/1000], Loss: 1.8054\n",
            "Epoch [480/1000], Loss: 1.8125\n",
            "Epoch [490/1000], Loss: 1.8622\n",
            "Epoch [500/1000], Loss: 1.8263\n",
            "Epoch [510/1000], Loss: 1.7833\n",
            "Epoch [520/1000], Loss: 1.7666\n",
            "Epoch [530/1000], Loss: 1.8889\n",
            "Epoch [540/1000], Loss: 1.7835\n",
            "Epoch [550/1000], Loss: 1.7453\n",
            "Epoch [560/1000], Loss: 1.7242\n",
            "Epoch [570/1000], Loss: 1.7266\n",
            "Epoch [580/1000], Loss: 1.6895\n",
            "Epoch [590/1000], Loss: 1.7381\n",
            "Epoch [600/1000], Loss: 1.8650\n",
            "Epoch [610/1000], Loss: 1.7127\n",
            "Epoch [620/1000], Loss: 1.7056\n",
            "Epoch [630/1000], Loss: 1.7226\n",
            "Epoch [640/1000], Loss: 1.6796\n",
            "Epoch [650/1000], Loss: 1.7503\n",
            "Epoch [660/1000], Loss: 1.8129\n",
            "Epoch [670/1000], Loss: 1.8146\n",
            "Epoch [680/1000], Loss: 1.6960\n",
            "Epoch [690/1000], Loss: 1.7519\n",
            "Epoch [700/1000], Loss: 1.7355\n",
            "Epoch [710/1000], Loss: 1.7451\n",
            "Epoch [720/1000], Loss: 1.6957\n",
            "Epoch [730/1000], Loss: 1.8079\n",
            "Epoch [740/1000], Loss: 1.6798\n",
            "Epoch [750/1000], Loss: 1.8083\n",
            "Epoch [760/1000], Loss: 1.6299\n",
            "Epoch [770/1000], Loss: 1.7331\n",
            "Epoch [780/1000], Loss: 1.6154\n",
            "Epoch [790/1000], Loss: 1.5748\n",
            "Epoch [800/1000], Loss: 1.5908\n",
            "Epoch [810/1000], Loss: 1.6537\n",
            "Epoch [820/1000], Loss: 1.7695\n",
            "Epoch [830/1000], Loss: 1.5854\n",
            "Epoch [840/1000], Loss: 1.6932\n",
            "Epoch [850/1000], Loss: 1.6168\n",
            "Epoch [860/1000], Loss: 1.7087\n",
            "Epoch [870/1000], Loss: 1.5823\n",
            "Epoch [880/1000], Loss: 1.5599\n",
            "Epoch [890/1000], Loss: 1.6069\n",
            "Epoch [900/1000], Loss: 1.5475\n",
            "Epoch [910/1000], Loss: 1.5887\n",
            "Epoch [920/1000], Loss: 1.5055\n",
            "Epoch [930/1000], Loss: 1.5201\n",
            "Epoch [940/1000], Loss: 1.6191\n",
            "Epoch [950/1000], Loss: 1.5951\n",
            "Epoch [960/1000], Loss: 1.5247\n",
            "Epoch [970/1000], Loss: 1.5055\n",
            "Epoch [980/1000], Loss: 1.5657\n",
            "Epoch [990/1000], Loss: 1.4799\n",
            "Epoch [1000/1000], Loss: 1.5601\n"
          ]
        },
        {
          "data": {
            "image/png": "[encoded data removed]",
            "text/plain": [
              "<Figure size 1000x500 with 1 Axes>"
            ]
          },
          "metadata": {},
          "output_type": "display_data"
        }
      ],
      "source": [
        "class VanillaRNN(nn.Module):\n",
        "    def __init__(self, input_size, hidden_size, output_size):\n",
        "        super().__init__()\n",
        "        self.hidden_size = hidden_size\n",
        "\n",
        "        self.embedding = nn.Embedding(input_size, hidden_size)\n",
        "\n",
        "        self.rnn = nn.RNN(hidden_size, hidden_size, batch_first=True)\n",
        "\n",
        "        self.fc = nn.Linear(hidden_size, output_size)\n",
        "\n",
        "    def forward(self, x, hidden=None):\n",
        "        batch_size = x.size(0)\n",
        "\n",
        "        if hidden is None:\n",
        "            hidden = torch.zeros(1, batch_size, self.hidden_size, device=x.device)\n",
        "\n",
        "        embedded = self.embedding(x)  # (batch_size, sequence_length, hidden_size)\n",
        "\n",
        "        output, hidden = self.rnn(embedded, hidden)\n",
        "\n",
        "        output = self.fc(output)  # (batch_size, sequence_length, output_size)\n",
        "\n",
        "        return output, hidden\n",
        "\n",
        "def train_rnn(model, num_epochs=10, learning_rate=0.001):\n",
        "    criterion = nn.CrossEntropyLoss()\n",
        "    optimizer = torch.optim.Adam(model.parameters(), lr=learning_rate)\n",
        "\n",
        "    model.train()\n",
        "    losses = []\n",
        "\n",
        "    for epoch in range(num_epochs):\n",
        "        total_loss = 0\n",
        "        num_batches = 0\n",
        "\n",
        "        batch = next(generate_chunk())\n",
        "        x = torch.tensor(batch[:, :-1], dtype=torch.long).to(device)\n",
        "        y = torch.tensor(batch[:, 1:], dtype=torch.long).to(device)\n",
        "\n",
        "        output, hidden = model(x)\n",
        "\n",
        "        output = output.view(-1, num_tokens)\n",
        "        y = y.view(-1)\n",
        "\n",
        "        loss = criterion(output, y)\n",
        "\n",
        "        optimizer.zero_grad()\n",
        "        loss.backward()\n",
        "        torch.nn.utils.clip_grad_norm_(model.parameters(), 5)  # Gradient clipping\n",
        "        optimizer.step()\n",
        "\n",
        "        total_loss += loss.item()\n",
        "        num_batches += 1\n",
        "\n",
        "        if (epoch + 1) % 10 == 0:\n",
        "            avg_loss = total_loss / num_batches\n",
        "            losses.append(avg_loss)\n",
        "            print(f'Epoch [{epoch+1}/{num_epochs}], Loss: {avg_loss:.4f}')\n",
        "\n",
        "    return losses\n",
        "\n",
        "model = VanillaRNN(\n",
        "    input_size=num_tokens,\n",
        "    hidden_size=256,\n",
        "    output_size=num_tokens\n",
        ").to(device)\n",
        "\n",
        "losses = train_rnn(model, num_epochs=1000)\n",
        "\n",
        "plt.figure(figsize=(10, 5))\n",
        "plt.plot(losses)\n",
        "plt.title('Training Loss')\n",
        "plt.xlabel('Epoch (x10)')\n",
        "plt.ylabel('Loss')\n",
        "plt.show()"
      ]
    },
    {
      "cell_type": "code",
      "execution_count": null,
      "metadata": {
        "id": "L6nhQZVYYkdy"
      },
      "outputs": [],
      "source": []
    },
    {
      "cell_type": "code",
      "execution_count": null,
      "metadata": {
        "id": "NGT-mkn2GAYn"
      },
      "outputs": [],
      "source": []
    },
    {
      "cell_type": "markdown",
      "metadata": {
        "id": "oUsSodSc6Swd"
      },
      "source": [
        "В качестве иллюстрации ниже доступен график значений функции потерь, построенный в ходе обучения авторской сети (сам код для ее обучения вам и предстоит написать)."
      ]
    },
    {
      "cell_type": "code",
      "execution_count": null,
      "metadata": {
        "id": "kelrXTKi6Swd",
        "outputId": "eb129a95-9e20-43c4-b7c6-8a6c49292545"
      },
      "outputs": [
        {
          "data": {
            "image/png": "[encoded data removed]",
            "text/plain": [
              "<Figure size 432x288 with 1 Axes>"
            ]
          },
          "metadata": {
            "needs_background": "light"
          },
          "output_type": "display_data"
        }
      ],
      "source": []
    },
    {
      "cell_type": "markdown",
      "metadata": {
        "id": "VLEjQrf26Swe"
      },
      "source": [
        "Шаблон функции `generate_sample` также доступен ниже. Вы можете как дозаполнить его, так и написать свою собственную функцию с нуля. Не забывайте, что все примеры в обучающей выборке начинались с токена `<sos>`."
      ]
    },
    {
      "cell_type": "code",
      "execution_count": null,
      "metadata": {
        "id": "qARzRh4B6Swe"
      },
      "outputs": [],
      "source": [
        "def generate_sample(char_rnn, seed_phrase=None, max_length=200, temperature=1.0, device=device):\n",
        "    '''\n",
        "    The function generates text given a phrase of length at least SEQ_LENGTH.\n",
        "    :param seed_phrase: prefix characters. The RNN is asked to continue the phrase\n",
        "    :param max_length: maximum output length, including seed_phrase\n",
        "    :param temperature: coefficient for sampling.  higher temperature produces more chaotic outputs,\n",
        "                        smaller temperature converges to the single most likely output\n",
        "    '''\n",
        "\n",
        "    if seed_phrase is not None:\n",
        "        x_sequence = [token_to_idx['<sos>']] + [token_to_idx[token] for token in seed_phrase]\n",
        "    else:\n",
        "        x_sequence = [token_to_idx['<sos>']]\n",
        "\n",
        "    x_sequence = torch.tensor([x_sequence], dtype=torch.int64).to(device)\n",
        "\n",
        "    #feed the seed phrase, if any\n",
        "\n",
        "    # your code here\n",
        "\n",
        "    return ''.join([tokens[ix] for ix in x_sequence.cpu().data.numpy()[0]])"
      ]
    },
    {
      "cell_type": "code",
      "execution_count": 87,
      "metadata": {
        "id": "Cyb5HxV0jMHb"
      },
      "outputs": [],
      "source": [
        "def generate_sample(char_rnn, seed_phrase=None, max_length=200, temperature=1.0, device=device):\n",
        "    '''\n",
        "    The function generates text given a phrase of length at least SEQ_LENGTH.\n",
        "    :param seed_phrase: prefix characters. The RNN is asked to continue the phrase\n",
        "    :param max_length: maximum output length, including seed_phrase\n",
        "    :param temperature: coefficient for sampling. higher temperature produces more chaotic outputs,\n",
        "                       smaller temperature converges to the single most likely output\n",
        "    '''\n",
        "\n",
        "    char_rnn.eval()\n",
        "\n",
        "    if seed_phrase is not None:\n",
        "        x_sequence = [token_to_idx['<sos>']] + [token_to_idx[token] for token in seed_phrase]\n",
        "    else:\n",
        "        x_sequence = [token_to_idx['<sos>']]\n",
        "\n",
        "    x_sequence = torch.tensor([x_sequence], dtype=torch.int64).to(device)\n",
        "\n",
        "    hidden = None\n",
        "\n",
        "    while x_sequence.size(1) < max_length:\n",
        "        with torch.no_grad():\n",
        "            output, hidden = char_rnn(x_sequence, hidden)\n",
        "\n",
        "        logits = output[:, -1, :] / temperature\n",
        "        probs = F.softmax(logits, dim=-1)\n",
        "\n",
        "        next_char_idx = torch.multinomial(probs, 1)\n",
        "\n",
        "        x_sequence = torch.cat([x_sequence, next_char_idx], dim=1)\n",
        "\n",
        "    return ''.join([idx_to_token[ix] for ix in x_sequence.cpu().data.numpy()[0]])"
      ]
    },
    {
      "cell_type": "code",
      "execution_count": 88,
      "metadata": {
        "colab": {
          "base_uri": "https://localhost:8080/"
        },
        "id": "Mb6-Wze1jMP5",
        "outputId": "12d5ed2a-b013-41f5-c25b-36ffaf4f76c3"
      },
      "outputs": [
        {
          "name": "stdout",
          "output_type": "stream",
          "text": [
            "<sos> мой дядя самых честных правил на вас кому венялю и молыник,\n",
            "на светел,\n",
            "но всё, —\n",
            "\n",
            "\n",
            "\n",
            "xxxii\n",
            "\n",
            "как не может,\n",
            "невольна вод небесных милый,\n",
            "но ленский; с урев,\n",
            "как барика;\n",
            "нас проходит с евгений.\n",
            "он очариной\n",
            "ее предрагает,\n",
            "или хоем был долго милой,\n",
            "то попросто счастливый,\n",
            "что неозвесть барок уж описала\n",
            "тверя возруженный дрожный друг один\n",
            "благеет евгений\n",
            "о смешно знать на том, усы одно;\n",
            "приятные день:\n",
            "то сарах очи;\n",
            "и я рукой.\n",
            "вдруг одна чувством уж едины, погружает своен;\n",
            "увиже;\n",
            "зверь, он уж о ты, к \n"
          ]
        }
      ],
      "source": [
        "print(generate_sample(model, ' мой дядя самых честных правил', max_length=500, temperature=0.8))"
      ]
    },
    {
      "cell_type": "markdown",
      "metadata": {
        "id": "c7txIjum6Swe"
      },
      "source": [
        "Пример текста сгенерированного обученной моделью доступен ниже. Не страшно, что в тексте много несуществующих слов. Используемая модель очень проста: это простая классическая RNN."
      ]
    },
    {
      "cell_type": "code",
      "execution_count": null,
      "metadata": {
        "id": "TF6WZJvY6Swf",
        "outputId": "271e1be5-8ed3-4cfe-da7b-214884cf1233"
      },
      "outputs": [
        {
          "name": "stdout",
          "output_type": "stream",
          "text": [
            "<sos> мой дядя самых честных правилас;\n",
            "\n",
            "\n",
            "\n",
            "xiv\n",
            "\n",
            "но как потокой.\n",
            "\n",
            "\n",
            "\n",
            "xii\n",
            "\n",
            "«я свобред не словавран в скорей,\n",
            "для с посвялесь мне моловой,\n",
            "те ты,\n",
            "перегиной в тям праздной\n",
            "и привезут перваю вся вновся сквозь ти стала сблился,\n",
            "и старый свимарной таня обратель любова не когда и нет волностье нежной\n",
            "тишен,\n",
            "перестоком.\n",
            "«поже постаничив очествы\n",
            "в и старько забаньем и заковенью,\n",
            "ее своя моднать наводушта;\n",
            "какой нет поли своем горозный и быле и, законно он ходушних недважный плая\n",
            "с за стра.\n",
            "\n",
            "\n",
            "\n",
            "xvii\n",
            "\n",
            "\n",
            "\n",
            "\n",
            "xxvi\n",
            "\n",
            "все \n"
          ]
        }
      ],
      "source": [
        "print(generate_sample(model, ' мой дядя самых честных правил', max_length=500, temperature=0.8))"
      ]
    },
    {
      "cell_type": "markdown",
      "metadata": {
        "id": "RuK7JMRu6Swf"
      },
      "source": [
        "### Сдача задания\n",
        "Сгенерируйте десять последовательностей длиной 500, используя строку ' мой дядя самых честных правил'. Температуру для генерации выберите самостоятельно на основании визуального качества генериуремого текста. Не забудьте удалить все технические токены в случае их наличия.\n",
        "\n",
        "Сгенерированную последовательность сохрание в переменную `generated_phrase` и сдайте сгенерированный ниже файл в контест."
      ]
    },
    {
      "cell_type": "code",
      "execution_count": 89,
      "metadata": {
        "id": "ZTAIZBWg6Swf"
      },
      "outputs": [],
      "source": [
        "seed_phrase = ' мой дядя самых честных правил'"
      ]
    },
    {
      "cell_type": "code",
      "execution_count": 94,
      "metadata": {
        "id": "5a-PiNMM6Swg"
      },
      "outputs": [],
      "source": [
        "generated_phrases = [\n",
        "     generate_sample(\n",
        "         model,\n",
        "         ' мой дядя самых честных правил',\n",
        "         max_length=501,\n",
        "         temperature=0.8\n",
        "     ).replace('<sos>', '')\n",
        "     for _ in range(10)\n",
        " ]"
      ]
    },
    {
      "cell_type": "code",
      "execution_count": 95,
      "metadata": {
        "colab": {
          "base_uri": "https://localhost:8080/"
        },
        "id": "QlIoaNVjkGE7",
        "outputId": "2e681b8c-7317-4a8f-ddcf-3b03097cada9"
      },
      "outputs": [
        {
          "name": "stdout",
          "output_type": "stream",
          "text": [
            "500\n",
            "500\n",
            "500\n",
            "500\n",
            "500\n",
            "500\n",
            "500\n",
            "500\n",
            "500\n",
            "500\n"
          ]
        }
      ],
      "source": [
        "for p in generated_phrases:\n",
        "  print(len(p))"
      ]
    },
    {
      "cell_type": "code",
      "execution_count": 96,
      "metadata": {
        "colab": {
          "base_uri": "https://localhost:8080/"
        },
        "id": "NOXHLJyU6Swg",
        "outputId": "6d60d6e5-b51b-4c1f-bf60-f61ce6c92600"
      },
      "outputs": [
        {
          "name": "stdout",
          "output_type": "stream",
          "text": [
            "File saved to `submission_dict.json`\n"
          ]
        }
      ],
      "source": [
        "# do not change the code in the block below\n",
        "# __________start of block__________\n",
        "\n",
        "import json\n",
        "if 'generated_phrases' not in locals():\n",
        "    raise ValueError(\"Please, save generated phrases to `generated_phrases` variable\")\n",
        "\n",
        "for phrase in generated_phrases:\n",
        "\n",
        "    if not isinstance(phrase, str):\n",
        "        raise ValueError(\"The generated phrase should be a string\")\n",
        "\n",
        "    if len(phrase) != 500:\n",
        "        raise ValueError(\"The `generated_phrase` length should be equal to 500\")\n",
        "\n",
        "    assert all([x in set(tokens) for x in set(list(phrase))]), 'Unknown tokens detected, check your submission!'\n",
        "\n",
        "\n",
        "submission_dict = {\n",
        "    'token_to_idx': token_to_idx,\n",
        "    'generated_phrases': generated_phrases\n",
        "}\n",
        "\n",
        "with open('submission_dict.json', 'w') as iofile:\n",
        "    json.dump(submission_dict, iofile)\n",
        "print('File saved to `submission_dict.json`')\n",
        "# __________end of block__________"
      ]
    },
    {
      "cell_type": "markdown",
      "metadata": {
        "id": "O6SDDJi36Swg"
      },
      "source": [
        "На этом задание завершено. Поздравляем!"
      ]
    }
  ],
  "metadata": {
    "accelerator": "GPU",
    "anaconda-cloud": {},
    "colab": {
      "gpuType": "T4",
      "provenance": []
    },
    "kernelspec": {
      "display_name": "Py3 Research",
      "language": "python",
      "name": "py3_research"
    },
    "language_info": {
      "codemirror_mode": {
        "name": "ipython",
        "version": 3
      },
      "file_extension": ".py",
      "mimetype": "text/x-python",
      "name": "python",
      "nbconvert_exporter": "python",
      "pygments_lexer": "ipython3",
      "version": "3.7.10"
    }
  },
  "nbformat": 4,
  "nbformat_minor": 0
}
