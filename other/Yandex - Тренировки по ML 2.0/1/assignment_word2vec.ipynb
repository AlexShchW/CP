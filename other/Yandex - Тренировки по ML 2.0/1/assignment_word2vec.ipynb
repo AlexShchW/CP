{
  "cells": [
    {
      "cell_type": "markdown",
      "metadata": {
        "id": "nTSf4ro-qU0d"
      },
      "source": [
        "## Бонусное задание: word2vec на PyTorch\n",
        "\n",
        "Как вы уже могли заметить, идея, лежащая в основе [word2vec](https://arxiv.org/pdf/1310.4546), достаточно общая. В данном задании вы реализуете его самостоятельно.\n",
        "\n",
        "Дисклеймер: не стоит удивляться тому, что реализация от `gensim` (или аналоги) обучается быстрее и работает точнее. Она использует множество доработок и ускорений, а также достаточно эффективный код. Ваша задача добиться промежуточных результатов за разумное время.\n",
        "\n",
        "P.s. Как ни странно, GPU в этом задании нам не потребуется."
      ]
    },
    {
      "cell_type": "markdown",
      "metadata": {
        "id": "7b38D8b3OJer"
      },
      "source": [
        "__Requirements:__ if you're running locally, in the selected environment run the following command:\n",
        "\n",
        "```pip install --upgrade nltk bokeh umap-learn```\n"
      ]
    },
    {
      "cell_type": "code",
      "execution_count": null,
      "metadata": {
        "colab": {
          "base_uri": "https://localhost:8080/"
        },
        "id": "Oipe2DU8qfm7",
        "outputId": "baedd02f-1a30-4433-f0a7-179aa2b201ab"
      },
      "outputs": [
        {
          "name": "stdout",
          "output_type": "stream",
          "text": [
            "Requirement already satisfied: nltk in /usr/local/lib/python3.10/dist-packages (3.8.1)\n",
            "Collecting nltk\n",
            "  Downloading nltk-3.9.1-py3-none-any.whl.metadata (2.9 kB)\n",
            "Requirement already satisfied: bokeh in /usr/local/lib/python3.10/dist-packages (3.4.3)\n",
            "Collecting bokeh\n",
            "  Downloading bokeh-3.6.0-py3-none-any.whl.metadata (12 kB)\n",
            "Collecting umap-learn\n",
            "  Downloading umap_learn-0.5.6-py3-none-any.whl.metadata (21 kB)\n",
            "Requirement already satisfied: click in /usr/local/lib/python3.10/dist-packages (from nltk) (8.1.7)\n",
            "Requirement already satisfied: joblib in /usr/local/lib/python3.10/dist-packages (from nltk) (1.4.2)\n",
            "Requirement already satisfied: regex>=2021.8.3 in /usr/local/lib/python3.10/dist-packages (from nltk) (2024.9.11)\n",
            "Requirement already satisfied: tqdm in /usr/local/lib/python3.10/dist-packages (from nltk) (4.66.5)\n",
            "Requirement already satisfied: Jinja2>=2.9 in /usr/local/lib/python3.10/dist-packages (from bokeh) (3.1.4)\n",
            "Requirement already satisfied: contourpy>=1.2 in /usr/local/lib/python3.10/dist-packages (from bokeh) (1.3.0)\n",
            "Requirement already satisfied: numpy>=1.16 in /usr/local/lib/python3.10/dist-packages (from bokeh) (1.26.4)\n",
            "Requirement already satisfied: packaging>=16.8 in /usr/local/lib/python3.10/dist-packages (from bokeh) (24.1)\n",
            "Requirement already satisfied: pandas>=1.2 in /usr/local/lib/python3.10/dist-packages (from bokeh) (2.2.2)\n",
            "Requirement already satisfied: pillow>=7.1.0 in /usr/local/lib/python3.10/dist-packages (from bokeh) (10.4.0)\n",
            "Requirement already satisfied: PyYAML>=3.10 in /usr/local/lib/python3.10/dist-packages (from bokeh) (6.0.2)\n",
            "Requirement already satisfied: tornado>=6.2 in /usr/local/lib/python3.10/dist-packages (from bokeh) (6.3.3)\n",
            "Requirement already satisfied: xyzservices>=2021.09.1 in /usr/local/lib/python3.10/dist-packages (from bokeh) (2024.9.0)\n",
            "Requirement already satisfied: scipy>=1.3.1 in /usr/local/lib/python3.10/dist-packages (from umap-learn) (1.13.1)\n",
            "Requirement already satisfied: scikit-learn>=0.22 in /usr/local/lib/python3.10/dist-packages (from umap-learn) (1.5.2)\n",
            "Requirement already satisfied: numba>=0.51.2 in /usr/local/lib/python3.10/dist-packages (from umap-learn) (0.60.0)\n",
            "Collecting pynndescent>=0.5 (from umap-learn)\n",
            "  Downloading pynndescent-0.5.13-py3-none-any.whl.metadata (6.8 kB)\n",
            "Requirement already satisfied: MarkupSafe>=2.0 in /usr/local/lib/python3.10/dist-packages (from Jinja2>=2.9->bokeh) (3.0.2)\n",
            "Requirement already satisfied: llvmlite<0.44,>=0.43.0dev0 in /usr/local/lib/python3.10/dist-packages (from numba>=0.51.2->umap-learn) (0.43.0)\n",
            "Requirement already satisfied: python-dateutil>=2.8.2 in /usr/local/lib/python3.10/dist-packages (from pandas>=1.2->bokeh) (2.8.2)\n",
            "Requirement already satisfied: pytz>=2020.1 in /usr/local/lib/python3.10/dist-packages (from pandas>=1.2->bokeh) (2024.2)\n",
            "Requirement already satisfied: tzdata>=2022.7 in /usr/local/lib/python3.10/dist-packages (from pandas>=1.2->bokeh) (2024.2)\n",
            "Requirement already satisfied: threadpoolctl>=3.1.0 in /usr/local/lib/python3.10/dist-packages (from scikit-learn>=0.22->umap-learn) (3.5.0)\n",
            "Requirement already satisfied: six>=1.5 in /usr/local/lib/python3.10/dist-packages (from python-dateutil>=2.8.2->pandas>=1.2->bokeh) (1.16.0)\n",
            "Downloading nltk-3.9.1-py3-none-any.whl (1.5 MB)\n",
            "\u001b[2K   \u001b[90m━━━━━━━━━━━━━━━━━━━━━━━━━━━━━━━━━━━━━━━━\u001b[0m \u001b[32m1.5/1.5 MB\u001b[0m \u001b[31m28.5 MB/s\u001b[0m eta \u001b[36m0:00:00\u001b[0m\n",
            "\u001b[?25hDownloading bokeh-3.6.0-py3-none-any.whl (6.9 MB)\n",
            "\u001b[2K   \u001b[90m━━━━━━━━━━━━━━━━━━━━━━━━━━━━━━━━━━━━━━━━\u001b[0m \u001b[32m6.9/6.9 MB\u001b[0m \u001b[31m49.3 MB/s\u001b[0m eta \u001b[36m0:00:00\u001b[0m\n",
            "\u001b[?25hDownloading umap_learn-0.5.6-py3-none-any.whl (85 kB)\n",
            "\u001b[2K   \u001b[90m━━━━━━━━━━━━━━━━━━━━━━━━━━━━━━━━━━━━━━━━\u001b[0m \u001b[32m85.7/85.7 kB\u001b[0m \u001b[31m4.8 MB/s\u001b[0m eta \u001b[36m0:00:00\u001b[0m\n",
            "\u001b[?25hDownloading pynndescent-0.5.13-py3-none-any.whl (56 kB)\n",
            "\u001b[2K   \u001b[90m━━━━━━━━━━━━━━━━━━━━━━━━━━━━━━━━━━━━━━━━\u001b[0m \u001b[32m56.9/56.9 kB\u001b[0m \u001b[31m2.8 MB/s\u001b[0m eta \u001b[36m0:00:00\u001b[0m\n",
            "\u001b[?25hInstalling collected packages: nltk, pynndescent, bokeh, umap-learn\n",
            "  Attempting uninstall: nltk\n",
            "    Found existing installation: nltk 3.8.1\n",
            "    Uninstalling nltk-3.8.1:\n",
            "      Successfully uninstalled nltk-3.8.1\n",
            "  Attempting uninstall: bokeh\n",
            "    Found existing installation: bokeh 3.4.3\n",
            "    Uninstalling bokeh-3.4.3:\n",
            "      Successfully uninstalled bokeh-3.4.3\n",
            "\u001b[31mERROR: pip's dependency resolver does not currently take into account all the packages that are installed. This behaviour is the source of the following dependency conflicts.\n",
            "panel 1.4.5 requires bokeh<3.5.0,>=3.4.0, but you have bokeh 3.6.0 which is incompatible.\u001b[0m\u001b[31m\n",
            "\u001b[0mSuccessfully installed bokeh-3.6.0 nltk-3.9.1 pynndescent-0.5.13 umap-learn-0.5.6\n"
          ]
        }
      ],
      "source": [
        "#!pip install --upgrade nltk bokeh umap-learn"
      ]
    },
    {
      "cell_type": "code",
      "execution_count": null,
      "metadata": {
        "id": "pqPU4Lu2qU0h"
      },
      "outputs": [],
      "source": [
        "import itertools\n",
        "import random\n",
        "import string\n",
        "from collections import Counter\n",
        "from itertools import chain\n",
        "\n",
        "import matplotlib.pyplot as plt\n",
        "import numpy as np\n",
        "import torch\n",
        "import torch.autograd as autograd\n",
        "import torch.nn as nn\n",
        "import torch.nn.functional as F\n",
        "import torch.optim as optim\n",
        "import umap\n",
        "from IPython.display import clear_output\n",
        "from matplotlib import pyplot as plt\n",
        "from nltk.tokenize import WordPunctTokenizer\n",
        "from torch.optim.lr_scheduler import ReduceLROnPlateau, StepLR\n",
        "from tqdm.auto import tqdm as tqdma"
      ]
    },
    {
      "cell_type": "code",
      "execution_count": null,
      "metadata": {
        "colab": {
          "base_uri": "https://localhost:8080/"
        },
        "id": "8Fbx57z3qU0i",
        "outputId": "b6f376b8-2855-485d-8f56-19fc57c9c408"
      },
      "outputs": [
        {
          "name": "stdout",
          "output_type": "stream",
          "text": [
            "--2024-10-28 13:05:11--  https://www.dropbox.com/s/obaitrix9jyu84r/quora.txt?dl=1\n",
            "Resolving www.dropbox.com (www.dropbox.com)... 162.125.6.18, 2620:100:6019:18::a27d:412\n",
            "Connecting to www.dropbox.com (www.dropbox.com)|162.125.6.18|:443... connected.\n",
            "HTTP request sent, awaiting response... 302 Found\n",
            "Location: https://www.dropbox.com/scl/fi/p0t2dw6oqs6oxpd6zz534/quora.txt?rlkey=bjupppwua4zmd4elz8octecy9&dl=1 [following]\n",
            "--2024-10-28 13:05:11--  https://www.dropbox.com/scl/fi/p0t2dw6oqs6oxpd6zz534/quora.txt?rlkey=bjupppwua4zmd4elz8octecy9&dl=1\n",
            "Reusing existing connection to www.dropbox.com:443.\n",
            "HTTP request sent, awaiting response... 302 Found\n",
            "Location: https://uc3c17b58d2f8ca6a32c2b2e060a.dl.dropboxusercontent.com/cd/0/inline/CdRuGu7AKvx61LCUZu3KkMe2djO5SDKxsm6bjaDfObl_7MMLaorkEVGJuVk9dYVCmTsI7epgVg5iD6YLE8cHtirMD4APK2_gWcrSn0jX7oFQIfqI8rvtjUEpm2J7liTohX0/file?dl=1# [following]\n",
            "--2024-10-28 13:05:12--  https://uc3c17b58d2f8ca6a32c2b2e060a.dl.dropboxusercontent.com/cd/0/inline/CdRuGu7AKvx61LCUZu3KkMe2djO5SDKxsm6bjaDfObl_7MMLaorkEVGJuVk9dYVCmTsI7epgVg5iD6YLE8cHtirMD4APK2_gWcrSn0jX7oFQIfqI8rvtjUEpm2J7liTohX0/file?dl=1\n",
            "Resolving uc3c17b58d2f8ca6a32c2b2e060a.dl.dropboxusercontent.com (uc3c17b58d2f8ca6a32c2b2e060a.dl.dropboxusercontent.com)... 162.125.4.15, 2620:100:601c:15::a27d:60f\n",
            "Connecting to uc3c17b58d2f8ca6a32c2b2e060a.dl.dropboxusercontent.com (uc3c17b58d2f8ca6a32c2b2e060a.dl.dropboxusercontent.com)|162.125.4.15|:443... connected.\n",
            "HTTP request sent, awaiting response... 200 OK\n",
            "Length: 33813903 (32M) [application/binary]\n",
            "Saving to: ‘./quora.txt’\n",
            "\n",
            "./quora.txt         100%[===================>]  32.25M   115MB/s    in 0.3s    \n",
            "\n",
            "2024-10-28 13:05:12 (115 MB/s) - ‘./quora.txt’ saved [33813903/33813903]\n",
            "\n"
          ]
        }
      ],
      "source": [
        "# download the data:\n",
        "!wget https://www.dropbox.com/s/obaitrix9jyu84r/quora.txt?dl=1 -O ./quora.txt -nc\n",
        "# alternative download link: https://yadi.sk/i/BPQrUu1NaTduEw"
      ]
    },
    {
      "cell_type": "code",
      "execution_count": null,
      "metadata": {
        "colab": {
          "base_uri": "https://localhost:8080/",
          "height": 36
        },
        "id": "8EYy5dQpqU0i",
        "outputId": "02db96bc-9fa8-4c94-ce22-ef48814b5413",
        "scrolled": false
      },
      "outputs": [
        {
          "data": {
            "application/vnd.google.colaboratory.intrinsic+json": {
              "type": "string"
            },
            "text/plain": [
              "\"What TV shows or books help you read people's body language?\\n\""
            ]
          },
          "execution_count": 6,
          "metadata": {},
          "output_type": "execute_result"
        }
      ],
      "source": [
        "data = list(open(\"./quora.txt\", encoding=\"utf-8\"))\n",
        "data[50]"
      ]
    },
    {
      "cell_type": "markdown",
      "metadata": {
        "id": "feBEGI2eqU0j"
      },
      "source": [
        "Токенизация – первый шаг.\n",
        "Тексты, с которыми мы работаем, включают в себя пунктуацию, смайлики и прочие нестандартные токены, так что простой `str.split` не подойдет.\n",
        "\n",
        "Обратимся к `nltk` - библиотеку, нашла широкое применеие в области NLP."
      ]
    },
    {
      "cell_type": "code",
      "execution_count": null,
      "metadata": {
        "colab": {
          "base_uri": "https://localhost:8080/"
        },
        "id": "7mWTvm50qU0j",
        "outputId": "b23f06b9-4df8-4103-88fe-c8ac01240e5b"
      },
      "outputs": [
        {
          "name": "stdout",
          "output_type": "stream",
          "text": [
            "['What', 'TV', 'shows', 'or', 'books', 'help', 'you', 'read', 'people', \"'\", 's', 'body', 'language', '?']\n"
          ]
        }
      ],
      "source": [
        "tokenizer = WordPunctTokenizer()\n",
        "\n",
        "print(tokenizer.tokenize(data[50]))"
      ]
    },
    {
      "cell_type": "code",
      "execution_count": null,
      "metadata": {
        "id": "HzC05EHWqU0j"
      },
      "outputs": [],
      "source": [
        "data_tok = [\n",
        "    tokenizer.tokenize(\n",
        "        line.translate(str.maketrans(\"\", \"\", string.punctuation)).lower()\n",
        "    )\n",
        "    for line in data\n",
        "]\n",
        "data_tok = [x for x in data_tok if len(x) >= 3]"
      ]
    },
    {
      "cell_type": "markdown",
      "metadata": {
        "id": "6azRAgHIqU0k"
      },
      "source": [
        "Несколько проверок:"
      ]
    },
    {
      "cell_type": "code",
      "execution_count": null,
      "metadata": {
        "id": "Cp8UpxdWqU0k"
      },
      "outputs": [],
      "source": [
        "assert all(\n",
        "    isinstance(row, (list, tuple)) for row in data_tok\n",
        "), \"please convert each line into a list of tokens (strings)\"\n",
        "assert all(\n",
        "    all(isinstance(tok, str) for tok in row) for row in data_tok\n",
        "), \"please convert each line into a list of tokens (strings)\"\n",
        "is_latin = lambda tok: all(\"a\" <= x.lower() <= \"z\" for x in tok)\n",
        "assert all(\n",
        "    map(lambda l: not is_latin(l) or l.islower(), map(\" \".join, data_tok))\n",
        "), \"please make sure to lowercase the data\""
      ]
    },
    {
      "cell_type": "markdown",
      "metadata": {
        "id": "37e7-MIhqU0x"
      },
      "source": [
        "Ниже заданы константы ширины окна контекста и проведена предобработка для построения skip-gram модели."
      ]
    },
    {
      "cell_type": "code",
      "execution_count": 51,
      "metadata": {
        "id": "fugc1IomqU0x"
      },
      "outputs": [],
      "source": [
        "min_count = 5\n",
        "window_radius = 5"
      ]
    },
    {
      "cell_type": "code",
      "execution_count": 52,
      "metadata": {
        "id": "NdHzhy8gOJey"
      },
      "outputs": [],
      "source": [
        "vocabulary_with_counter = Counter(chain.from_iterable(data_tok))\n",
        "\n",
        "word_count_dict = dict()\n",
        "for word, counter in vocabulary_with_counter.items():\n",
        "    if counter >= min_count:\n",
        "        word_count_dict[word] = counter\n",
        "\n",
        "vocabulary = set(word_count_dict.keys())\n",
        "del vocabulary_with_counter"
      ]
    },
    {
      "cell_type": "code",
      "execution_count": 53,
      "metadata": {
        "id": "wDArb_9oOJez"
      },
      "outputs": [],
      "source": [
        "word_to_index = {word: index for index, word in enumerate(vocabulary)}\n",
        "index_to_word = {index: word for word, index in word_to_index.items()}"
      ]
    },
    {
      "cell_type": "markdown",
      "metadata": {
        "id": "4Y8rlBfqqU0x"
      },
      "source": [
        "Пары `(слово, контекст)` на основе доступного датасета сгенерированы ниже."
      ]
    },
    {
      "cell_type": "code",
      "execution_count": 54,
      "metadata": {
        "colab": {
          "base_uri": "https://localhost:8080/"
        },
        "id": "h2-aqyyaqU0x",
        "outputId": "82066d51-3b88-460f-dd23-e64fe37294ef"
      },
      "outputs": [
        {
          "name": "stdout",
          "output_type": "stream",
          "text": [
            "Generated 40220313 pairs of target and context words.\n"
          ]
        }
      ],
      "source": [
        "context_pairs = []\n",
        "\n",
        "for text in data_tok:\n",
        "    for i, central_word in enumerate(text):\n",
        "        context_indices = range(\n",
        "            max(0, i - window_radius), min(i + window_radius, len(text))\n",
        "        )\n",
        "        for j in context_indices:\n",
        "            if j == i:\n",
        "                continue\n",
        "            context_word = text[j]\n",
        "            if central_word in vocabulary and context_word in vocabulary:\n",
        "                context_pairs.append(\n",
        "                    (word_to_index[central_word], word_to_index[context_word])\n",
        "                )\n",
        "\n",
        "print(f\"Generated {len(context_pairs)} pairs of target and context words.\")"
      ]
    },
    {
      "cell_type": "markdown",
      "metadata": {
        "id": "pucXQbzwOJez"
      },
      "source": [
        "#### Подзадача №1: subsampling\n",
        "Для того, чтобы сгладить разницу в частоте встречаемсости слов, необходимо реализовать механизм subsampling'а.\n",
        "Для этого вам необходимо реализовать функцию ниже.\n",
        "\n",
        "Вероятность **исключить** слово из обучения (на фиксированном шаге) вычисляется как\n",
        "$$\n",
        "P_\\text{drop}(w_i)=1 - \\sqrt{\\frac{t}{f(w_i)}},\n",
        "$$\n",
        "где $f(w_i)$ – нормированная частота встречаемости слова, а $t$ – заданный порог (threshold)."
      ]
    },
    {
      "cell_type": "code",
      "execution_count": 55,
      "metadata": {
        "id": "7z40SCRgOJe0"
      },
      "outputs": [],
      "source": [
        "def subsample_frequent_words(word_count_dict, threshold=1e-5):\n",
        "    \"\"\"\n",
        "    Calculates the subsampling probabilities for words based on their frequencies.\n",
        "\n",
        "    This function is used to determine the probability of keeping a word in the dataset\n",
        "    when subsampling frequent words. The method used is inspired by the subsampling approach\n",
        "    in Word2Vec, where each word's frequency affects its probability of being kept.\n",
        "\n",
        "    Parameters:\n",
        "    - word_count_dict (dict): A dictionary where keys are words and values are the counts of those words.\n",
        "    - threshold (float, optional): A threshold parameter used to adjust the frequency of word subsampling.\n",
        "                                   Defaults to 1e-5.\n",
        "\n",
        "    Returns:\n",
        "    - dict: A dictionary where keys are words and values are the probabilities of keeping each word.\n",
        "\n",
        "    Example:\n",
        "    >>> word_counts = {'the': 5000, 'is': 1000, 'apple': 50}\n",
        "    >>> subsample_frequent_words(word_counts)\n",
        "    {'the': 0.028, 'is': 0.223, 'apple': 1.0}\n",
        "    \"\"\"\n",
        "\n",
        "    ### YOUR CODE HERE\n",
        "    total_count = sum(word_count_dict.values())\n",
        "    keep_prob_dict = {\n",
        "        word: (threshold/(word_count_dict[word] / total_count)) ** 0.5 for word in word_count_dict.keys()\n",
        "    }\n",
        "    return keep_prob_dict"
      ]
    },
    {
      "cell_type": "markdown",
      "metadata": {
        "id": "r7wZ0r08OJe0"
      },
      "source": [
        "#### Подзадача №2: negative sampling\n",
        "Для более эффективного обучения необходимо не только предсказывать высокие вероятности для слов из контекста, но и предсказывать низкие для слов, не встреченных в контексте. Для этого вам необходимо вычислить вероятност использовать слово в качестве negative sample, реализовав функцию ниже.\n",
        "\n",
        "В оригинальной статье предлагается оценивать вероятность слов выступать в качестве negative sample согласно распределению $P_n(w)$\n",
        "$$\n",
        "P_n(w) = \\frac{U(w)^{3/4}}{Z},\n",
        "$$\n",
        "\n",
        "где $U(w)$ распределение слов по частоте (или, как его еще называют, по униграммам), а $Z$ – нормировочная константа, чтобы общая мера была равна $1$."
      ]
    },
    {
      "cell_type": "code",
      "execution_count": 56,
      "metadata": {
        "id": "CUEL7e2eOJe0"
      },
      "outputs": [],
      "source": [
        "def get_negative_sampling_prob(word_count_dict):\n",
        "    \"\"\"\n",
        "    Calculates the negative sampling probabilities for words based on their frequencies.\n",
        "\n",
        "    This function adjusts the frequency of each word raised to the power of 0.75, which is\n",
        "    commonly used in algorithms like Word2Vec to moderate the influence of very frequent words.\n",
        "    It then normalizes these adjusted frequencies to ensure they sum to 1, forming a probability\n",
        "    distribution used for negative sampling.\n",
        "\n",
        "    Parameters:\n",
        "    - word_count_dict (dict): A dictionary where keys are words and values are the counts of those words.\n",
        "\n",
        "    Returns:\n",
        "    - dict: A dictionary where keys are words and values are the probabilities of selecting each word\n",
        "            for negative sampling.\n",
        "\n",
        "    Example:\n",
        "    >>> word_counts = {'the': 5000, 'is': 1000, 'apple': 50}\n",
        "    >>> get_negative_sampling_prob(word_counts)\n",
        "    {'the': 0.298, 'is': 0.160, 'apple': 0.042}\n",
        "    \"\"\"\n",
        "\n",
        "    ### YOUR CODE HERE\n",
        "\n",
        "    adjusted_freq = {word: count ** 0.75 for word, count in word_count_dict.items()}\n",
        "    total_adjusted_freq = sum(adjusted_freq.values())\n",
        "\n",
        "    negative_sampling_prob_dict = {\n",
        "        word: freq / total_adjusted_freq for word, freq in adjusted_freq.items()\n",
        "    }\n",
        "\n",
        "    return negative_sampling_prob_dict"
      ]
    },
    {
      "cell_type": "markdown",
      "metadata": {
        "id": "RGOxuCMbOJe0"
      },
      "source": [
        "Для удобства, преобразуем полученные словари в массивы (т.к. все слова все равно уже пронумерованы)."
      ]
    },
    {
      "cell_type": "code",
      "execution_count": 57,
      "metadata": {
        "id": "VGlqyJlrOJe0"
      },
      "outputs": [],
      "source": [
        "keep_prob_dict = subsample_frequent_words(word_count_dict)\n",
        "assert keep_prob_dict.keys() == word_count_dict.keys()"
      ]
    },
    {
      "cell_type": "code",
      "execution_count": 58,
      "metadata": {
        "id": "GGwDi2crOJe1"
      },
      "outputs": [],
      "source": [
        "negative_sampling_prob_dict = get_negative_sampling_prob(word_count_dict)\n",
        "assert negative_sampling_prob_dict.keys() == negative_sampling_prob_dict.keys()\n",
        "assert np.allclose(sum(negative_sampling_prob_dict.values()), 1)"
      ]
    },
    {
      "cell_type": "code",
      "execution_count": 59,
      "metadata": {
        "id": "GY7faoEqOJe1"
      },
      "outputs": [],
      "source": [
        "keep_prob_array = np.array(\n",
        "    [keep_prob_dict[index_to_word[idx]] for idx in range(len(word_to_index))]\n",
        ")\n",
        "negative_sampling_prob_array = np.array(\n",
        "    [\n",
        "        negative_sampling_prob_dict[index_to_word[idx]]\n",
        "        for idx in range(len(word_to_index))\n",
        "    ]\n",
        ")"
      ]
    },
    {
      "cell_type": "markdown",
      "metadata": {
        "id": "D9P2mMfFOJe1"
      },
      "source": [
        "Если все прошло успешно, функция ниже поможет вам с генерацией подвыборок (батчей)."
      ]
    },
    {
      "cell_type": "code",
      "execution_count": 60,
      "metadata": {
        "id": "Qrezk5rEOJe1"
      },
      "outputs": [],
      "source": [
        "def generate_batch_with_neg_samples(\n",
        "    context_pairs,\n",
        "    batch_size,\n",
        "    keep_prob_array,\n",
        "    word_to_index,\n",
        "    num_negatives,\n",
        "    negative_sampling_prob_array,\n",
        "):\n",
        "    batch = []\n",
        "    neg_samples = []\n",
        "\n",
        "    while len(batch) < batch_size:\n",
        "        center, context = random.choice(context_pairs)\n",
        "        if random.random() < keep_prob_array[center]:\n",
        "            batch.append((center, context))\n",
        "            neg_sample = np.random.choice(\n",
        "                range(len(negative_sampling_prob_array)),\n",
        "                size=num_negatives,\n",
        "                p=negative_sampling_prob_array,\n",
        "            )\n",
        "            neg_samples.append(neg_sample)\n",
        "    batch = np.array(batch)\n",
        "    neg_samples = np.vstack(neg_samples)\n",
        "    return batch, neg_samples"
      ]
    },
    {
      "cell_type": "code",
      "execution_count": 61,
      "metadata": {
        "id": "AyyQiguyOJe1"
      },
      "outputs": [],
      "source": [
        "batch_size = 4\n",
        "num_negatives = 15\n",
        "batch, neg_samples = generate_batch_with_neg_samples(\n",
        "    context_pairs,\n",
        "    batch_size,\n",
        "    keep_prob_array,\n",
        "    word_to_index,\n",
        "    num_negatives,\n",
        "    negative_sampling_prob_array,\n",
        ")"
      ]
    },
    {
      "cell_type": "markdown",
      "metadata": {
        "id": "KPe5sF2VOJe1"
      },
      "source": [
        "Наконец, время реализовать модель. Обращаем ваше внимание, использование линейных слоев (`nn.Linear`) далеко не всегда оправданно!\n",
        "\n",
        "Напомним, что в случае negative sampling решается задача максимизации следующего функционала:\n",
        "\n",
        "$$\n",
        "\\mathcal{L} = \\log \\sigma({\\mathbf{v}'_{w_O}}^\\top \\mathbf{v}_{w_I}) + \\sum_{i=1}^{k} \\mathbb{E}_{w_i \\sim P_n(w)} \\left[ \\log \\sigma({-\\mathbf{v}'_{w_i}}^\\top \\mathbf{v}_{w_I}) \\right],\n",
        "$$\n",
        "\n",
        "где:\n",
        "- $\\mathbf{v}_{w_I}$ – вектор центрального слова $w_I$,\n",
        "- $\\mathbf{v}'_{w_O}$ – вектор слова из контекста $w_O$,\n",
        "- $k$ – число negative samplesЮ,\n",
        "- $P_n(w)$ – распределение negative samples, заданное выше,\n",
        "- $\\sigma$ – сигмоида."
      ]
    },
    {
      "cell_type": "code",
      "execution_count": 62,
      "metadata": {
        "id": "sRob_mK3OJe2"
      },
      "outputs": [],
      "source": [
        "class SkipGramModelWithNegSampling(nn.Module):\n",
        "    def __init__(self, vocab_size, embedding_dim):\n",
        "        super().__init__()\n",
        "        self.center_embeddings = nn.Embedding(vocab_size, embedding_dim)\n",
        "        self.context_embeddings = nn.Embedding(vocab_size, embedding_dim)\n",
        "\n",
        "        self.center_embeddings.weight.data.uniform_(-0.1, 0.1)\n",
        "        self.context_embeddings.weight.data.uniform_(-0.1, 0.1)\n",
        "\n",
        "    def forward(self, center_words, pos_context_words, neg_context_words):\n",
        "        center_embeds = self.center_embeddings(center_words)  # [batch_size, embed_dim]\n",
        "        pos_context_embeds = self.context_embeddings(pos_context_words)  # [batch_size, embed_dim]\n",
        "        neg_context_embeds = self.context_embeddings(neg_context_words)  # [batch_size, neg_samples, embed_dim]\n",
        "\n",
        "        pos_scores = torch.sum(center_embeds * pos_context_embeds, dim=1)  # [batch_size]\n",
        "\n",
        "        center_embeds = center_embeds.unsqueeze(1)  # [batch_size, 1, embed_dim]\n",
        "        neg_scores = torch.bmm(center_embeds, neg_context_embeds.transpose(1, 2)).squeeze(1)  # [batch_size, neg_samples]\n",
        "\n",
        "        return pos_scores, neg_scores"
      ]
    },
    {
      "cell_type": "code",
      "execution_count": 63,
      "metadata": {
        "id": "VfDD51qsOJe2"
      },
      "outputs": [],
      "source": [
        "device = torch.device(\"cpu\")"
      ]
    },
    {
      "cell_type": "code",
      "execution_count": 64,
      "metadata": {
        "id": "UUiphYQYOJe2"
      },
      "outputs": [],
      "source": [
        "vocab_size = len(word_to_index)\n",
        "embedding_dim = 32\n",
        "num_negatives = 5\n",
        "\n",
        "model = SkipGramModelWithNegSampling(vocab_size, embedding_dim).to(device)\n",
        "optimizer = optim.Adam(model.parameters(), lr=0.01)\n",
        "lr_scheduler = ReduceLROnPlateau(optimizer, factor=0.5, patience=64)\n",
        "criterion = nn.BCEWithLogitsLoss()"
      ]
    },
    {
      "cell_type": "code",
      "execution_count": 65,
      "metadata": {
        "id": "qtVAmS31OJe2"
      },
      "outputs": [],
      "source": [
        "params_counter = 0\n",
        "for weights in model.parameters():\n",
        "    params_counter += weights.shape.numel()\n",
        "assert params_counter == len(word_to_index) * embedding_dim * 2"
      ]
    },
    {
      "cell_type": "code",
      "execution_count": 83,
      "metadata": {
        "id": "hyVS-hGEOJe2"
      },
      "outputs": [],
      "source": [
        "def train_skipgram_with_neg_sampling(\n",
        "    model,\n",
        "    context_pairs,\n",
        "    keep_prob_array,\n",
        "    word_to_index,\n",
        "    batch_size,\n",
        "    num_negatives,\n",
        "    negative_sampling_prob_array,\n",
        "    steps,\n",
        "    optimizer=optim.Adam(model.parameters(), lr=0.01),\n",
        "    lr_scheduler=ReduceLROnPlateau(optimizer, factor=0.5, patience=128),\n",
        "    device=device,\n",
        "):\n",
        "    pos_labels = torch.ones(batch_size).to(device)\n",
        "    neg_labels = torch.zeros(batch_size, num_negatives).to(device)\n",
        "    loss_history = []\n",
        "    for step in tqdma(range(steps)):\n",
        "        batch, neg_samples = generate_batch_with_neg_samples(\n",
        "            context_pairs,\n",
        "            batch_size,\n",
        "            keep_prob_array,\n",
        "            word_to_index,\n",
        "            num_negatives,\n",
        "            negative_sampling_prob_array,\n",
        "        )\n",
        "        center_words = torch.tensor([pair[0] for pair in batch], dtype=torch.long).to(\n",
        "            device\n",
        "        )\n",
        "        pos_context_words = torch.tensor(\n",
        "            [pair[1] for pair in batch], dtype=torch.long\n",
        "        ).to(device)\n",
        "        neg_context_words = torch.tensor(neg_samples, dtype=torch.long).to(device)\n",
        "\n",
        "        optimizer.zero_grad()\n",
        "        pos_scores, neg_scores = model(\n",
        "            center_words, pos_context_words, neg_context_words\n",
        "        )\n",
        "\n",
        "        loss_pos = criterion(pos_scores, pos_labels)\n",
        "        loss_neg = criterion(neg_scores, neg_labels)\n",
        "\n",
        "        loss = loss_pos + loss_neg\n",
        "        loss.backward()\n",
        "        optimizer.step()\n",
        "\n",
        "        loss_history.append(loss.item())\n",
        "        lr_scheduler.step(loss_history[-1])\n",
        "\n",
        "        if step % 100 == 0:\n",
        "            print(\n",
        "                f\"Step {step}, Loss: {np.mean(loss_history[-100:])}, learning rate: {lr_scheduler._last_lr}\"\n",
        "            )"
      ]
    },
    {
      "cell_type": "code",
      "execution_count": 81,
      "metadata": {
        "id": "vXkypXES4JqK"
      },
      "outputs": [],
      "source": [
        "optimizer = optim.Adam(model.parameters(), lr=0.01)\n",
        "lr_scheduler = ReduceLROnPlateau(optimizer, factor=0.5, patience=128)"
      ]
    },
    {
      "cell_type": "code",
      "execution_count": 84,
      "metadata": {
        "colab": {
          "base_uri": "https://localhost:8080/",
          "height": 223,
          "referenced_widgets": [
            "97666e8648764888acfd7aadcc2589e5",
            "a16f658f479a41729477f8e271e89fde",
            "40c43a1e5e64454bac7d2808246159e7",
            "a102023ae6eb459e810cf59878e36250",
            "e06e4493f9e640d6bad404846b971412",
            "d1e87bfc30534458a81789e917a87189",
            "a74d130f6151444aad3b9513b790fad1",
            "36a28b8a8b7f416ba23930b189695b50",
            "806b3a63ee4b4e2fbb151cdfc1e637c0",
            "861d3aba6c75404590c01200c4449319",
            "34b2e36c5d974976aff383116c07b32f"
          ]
        },
        "id": "cJuerG0COJe3",
        "outputId": "7b9ffb9f-79ae-43d3-c683-f08bcdb4490f"
      },
      "outputs": [
        {
          "data": {
            "application/vnd.jupyter.widget-view+json": {
              "model_id": "97666e8648764888acfd7aadcc2589e5",
              "version_major": 2,
              "version_minor": 0
            },
            "text/plain": [
              "  0%|          | 0/1000 [00:00<?, ?it/s]"
            ]
          },
          "metadata": {},
          "output_type": "display_data"
        },
        {
          "name": "stdout",
          "output_type": "stream",
          "text": [
            "Step 0, Loss: 1.3353615999221802, learning rate: [0.01]\n",
            "Step 100, Loss: 1.323760323524475, learning rate: [0.01]\n",
            "Step 200, Loss: 1.297434778213501, learning rate: [0.01]\n",
            "Step 300, Loss: 1.2788034904003143, learning rate: [0.01]\n",
            "Step 400, Loss: 1.2682882785797118, learning rate: [0.01]\n",
            "Step 500, Loss: 1.2558194267749787, learning rate: [0.01]\n",
            "Step 600, Loss: 1.2455742383003234, learning rate: [0.01]\n",
            "Step 700, Loss: 1.2406245517730712, learning rate: [0.01]\n",
            "Step 800, Loss: 1.2278362274169923, learning rate: [0.01]\n",
            "Step 900, Loss: 1.22265988945961, learning rate: [0.01]\n"
          ]
        }
      ],
      "source": [
        "steps = 1000\n",
        "batch_size = 1024\n",
        "train_skipgram_with_neg_sampling(\n",
        "    model,\n",
        "    context_pairs,\n",
        "    keep_prob_array,\n",
        "    word_to_index,\n",
        "    batch_size,\n",
        "    num_negatives,\n",
        "    negative_sampling_prob_array,\n",
        "    steps,\n",
        ")"
      ]
    },
    {
      "cell_type": "markdown",
      "metadata": {
        "id": "-VG7aFSfOJe3"
      },
      "source": [
        "Наконец, используйте полученную матрицу весов в качестве матрицы в векторными представлениями слов. Рекомендуем использовать для сдачи матрицу, которая отвечала за слова из контекста (т.е. декодера)."
      ]
    },
    {
      "cell_type": "code",
      "execution_count": 68,
      "metadata": {
        "id": "4N6BL4oiOJe3"
      },
      "outputs": [],
      "source": [
        "_model_parameters = model.parameters()\n",
        "embedding_matrix_center = next(\n",
        "    _model_parameters\n",
        ").detach()  # Assuming that first matrix was for central word\n",
        "embedding_matrix_context = next(\n",
        "    _model_parameters\n",
        ").detach()  # Assuming that second matrix was for context word"
      ]
    },
    {
      "cell_type": "code",
      "execution_count": 69,
      "metadata": {
        "id": "8sn0kLKCOJe3"
      },
      "outputs": [],
      "source": [
        "def get_word_vector(word, embedding_matrix, word_to_index=word_to_index):\n",
        "    return embedding_matrix[word_to_index[word]]"
      ]
    },
    {
      "cell_type": "markdown",
      "metadata": {
        "id": "gaEEKpVfOJe3"
      },
      "source": [
        "Простые проверки:"
      ]
    },
    {
      "cell_type": "code",
      "execution_count": 88,
      "metadata": {
        "colab": {
          "base_uri": "https://localhost:8080/",
          "height": 176
        },
        "id": "cK1U3ti9OJe8",
        "outputId": "993fa88c-862d-4d4e-9039-8eac9c129fe7"
      },
      "outputs": [
        {
          "ename": "AssertionError",
          "evalue": "",
          "output_type": "error",
          "traceback": [
            "\u001b[0;31m---------------------------------------------------------------------------\u001b[0m",
            "\u001b[0;31mAssertionError\u001b[0m                            Traceback (most recent call last)",
            "\u001b[0;32m<ipython-input-88-16bed20f46b1>\u001b[0m in \u001b[0;36m<cell line: 9>\u001b[0;34m()\u001b[0m\n\u001b[1;32m      7\u001b[0m     \u001b[0mget_word_vector\u001b[0m\u001b[0;34m(\u001b[0m\u001b[0;34m\"dell\"\u001b[0m\u001b[0;34m,\u001b[0m \u001b[0membedding_matrix_context\u001b[0m\u001b[0;34m)\u001b[0m\u001b[0;34m[\u001b[0m\u001b[0;32mNone\u001b[0m\u001b[0;34m,\u001b[0m \u001b[0;34m:\u001b[0m\u001b[0;34m]\u001b[0m\u001b[0;34m,\u001b[0m\u001b[0;34m\u001b[0m\u001b[0;34m\u001b[0m\u001b[0m\n\u001b[1;32m      8\u001b[0m )\n\u001b[0;32m----> 9\u001b[0;31m \u001b[0;32massert\u001b[0m \u001b[0msimilarity_1\u001b[0m \u001b[0;34m>\u001b[0m \u001b[0msimilarity_2\u001b[0m\u001b[0;34m\u001b[0m\u001b[0;34m\u001b[0m\u001b[0m\n\u001b[0m",
            "\u001b[0;31mAssertionError\u001b[0m: "
          ]
        }
      ],
      "source": [
        "similarity_1 = F.cosine_similarity(\n",
        "    get_word_vector(\"iphone\", embedding_matrix_context)[None, :],\n",
        "    get_word_vector(\"apple\", embedding_matrix_context)[None, :],\n",
        ")\n",
        "similarity_2 = F.cosine_similarity(\n",
        "    get_word_vector(\"iphone\", embedding_matrix_context)[None, :],\n",
        "    get_word_vector(\"dell\", embedding_matrix_context)[None, :],\n",
        ")\n",
        "assert similarity_1 > similarity_2"
      ]
    },
    {
      "cell_type": "code",
      "execution_count": 89,
      "metadata": {
        "id": "9S0FCjeKOJe8"
      },
      "outputs": [],
      "source": [
        "similarity_1 = F.cosine_similarity(\n",
        "    get_word_vector(\"windows\", embedding_matrix_context)[None, :],\n",
        "    get_word_vector(\"laptop\", embedding_matrix_context)[None, :],\n",
        ")\n",
        "similarity_2 = F.cosine_similarity(\n",
        "    get_word_vector(\"windows\", embedding_matrix_context)[None, :],\n",
        "    get_word_vector(\"macbook\", embedding_matrix_context)[None, :],\n",
        ")\n",
        "assert similarity_1 > similarity_2"
      ]
    },
    {
      "cell_type": "markdown",
      "metadata": {
        "id": "S2Rrq_1HOJe8"
      },
      "source": [
        "Наконец, взглянем на ближайшие по косинусной мере слова. Функция реализована ниже."
      ]
    },
    {
      "cell_type": "code",
      "execution_count": 72,
      "metadata": {
        "id": "dA0V6rOYtsLk"
      },
      "outputs": [],
      "source": [
        "def find_nearest(word, embedding_matrix, word_to_index=word_to_index, k=10):\n",
        "    word_vector = get_word_vector(word, embedding_matrix)[None, :]\n",
        "    dists = F.cosine_similarity(embedding_matrix, word_vector)\n",
        "    index_sorted = torch.argsort(dists)\n",
        "    top_k = index_sorted[-k:]\n",
        "    return [(index_to_word[x], dists[x].item()) for x in top_k.numpy()]"
      ]
    },
    {
      "cell_type": "code",
      "execution_count": 87,
      "metadata": {
        "colab": {
          "base_uri": "https://localhost:8080/"
        },
        "id": "0XYWg_5xOJe9",
        "outputId": "469ff2ae-e961-4923-9b4b-9117c31d3b30"
      },
      "outputs": [
        {
          "data": {
            "text/plain": [
              "[('tracfone', 0.6122234463691711),\n",
              " ('ide', 0.6220488548278809),\n",
              " ('2d', 0.6235566139221191),\n",
              " ('php', 0.6298424601554871),\n",
              " ('framework', 0.6330093741416931),\n",
              " ('code', 0.6399227976799011),\n",
              " ('javascript', 0.6432968974113464),\n",
              " ('learn', 0.6545668244361877),\n",
              " ('tutorials', 0.6637560725212097),\n",
              " ('python', 1.0)]"
            ]
          },
          "execution_count": 87,
          "metadata": {},
          "output_type": "execute_result"
        }
      ],
      "source": [
        "find_nearest(\"python\", embedding_matrix_context, k=10)"
      ]
    },
    {
      "cell_type": "markdown",
      "metadata": {
        "id": "G1F8pd2SOJe9"
      },
      "source": [
        "Также вы можете визуально проверить, как представлены в латентном пространстве часто встречающиеся слова."
      ]
    },
    {
      "cell_type": "code",
      "execution_count": 74,
      "metadata": {
        "id": "6XYPMlIfOJe9"
      },
      "outputs": [],
      "source": [
        "top_k = 5000\n",
        "_top_words = sorted([x for x in word_count_dict.items()], key=lambda x: x[1])[\n",
        "    -top_k - 100 : -100\n",
        "]  # ignoring 100 most frequent words\n",
        "top_words = [x[0] for x in _top_words]\n",
        "del _top_words"
      ]
    },
    {
      "cell_type": "code",
      "execution_count": 75,
      "metadata": {
        "id": "rgR4axNROJe9"
      },
      "outputs": [],
      "source": [
        "word_embeddings = torch.cat(\n",
        "    [embedding_matrix_context[word_to_index[x]][None, :] for x in top_words], dim=0\n",
        ").numpy()"
      ]
    },
    {
      "cell_type": "code",
      "execution_count": 76,
      "metadata": {
        "id": "61mjGTcMOJe-"
      },
      "outputs": [],
      "source": [
        "import bokeh.models as bm\n",
        "import bokeh.plotting as pl\n",
        "from bokeh.io import output_notebook\n",
        "\n",
        "output_notebook()\n",
        "\n",
        "\n",
        "def draw_vectors(\n",
        "    x,\n",
        "    y,\n",
        "    radius=10,\n",
        "    alpha=0.25,\n",
        "    color=\"blue\",\n",
        "    width=600,\n",
        "    height=400,\n",
        "    show=True,\n",
        "    **kwargs,\n",
        "):\n",
        "    \"\"\"draws an interactive plot for data points with auxilirary info on hover\"\"\"\n",
        "    if isinstance(color, str):\n",
        "        color = [color] * len(x)\n",
        "    data_source = bm.ColumnDataSource({\"x\": x, \"y\": y, \"color\": color, **kwargs})\n",
        "\n",
        "    fig = pl.figure(active_scroll=\"wheel_zoom\", width=width, height=height)\n",
        "    fig.scatter(\"x\", \"y\", size=radius, color=\"color\", alpha=alpha, source=data_source)\n",
        "\n",
        "    fig.add_tools(bm.HoverTool(tooltips=[(key, \"@\" + key) for key in kwargs.keys()]))\n",
        "    if show:\n",
        "        pl.show(fig)\n",
        "    return fig"
      ]
    },
    {
      "cell_type": "code",
      "execution_count": 77,
      "metadata": {
        "id": "1-01_S7HOJe-"
      },
      "outputs": [],
      "source": [
        "embedding = umap.UMAP(n_neighbors=5).fit_transform(word_embeddings)"
      ]
    },
    {
      "cell_type": "code",
      "execution_count": 78,
      "metadata": {
        "colab": {
          "base_uri": "https://localhost:8080/",
          "height": 434
        },
        "id": "Uw16FEA1OJe_",
        "outputId": "2a70b82e-afb4-43f6-edf6-167e9d09185d"
      },
      "outputs": [
        {
          "data": {
            "application/javascript": "'use strict';\n(function(root) {\n  function now() {\n    return new Date();\n  }\n\n  const force = true;\n\n  if (typeof root._bokeh_onload_callbacks === \"undefined\" || force === true) {\n    root._bokeh_onload_callbacks = [];\n    root._bokeh_is_loading = undefined;\n  }\n\nconst JS_MIME_TYPE = 'application/javascript';\n  const HTML_MIME_TYPE = 'text/html';\n  const EXEC_MIME_TYPE = 'application/vnd.bokehjs_exec.v0+json';\n  const CLASS_NAME = 'output_bokeh rendered_html';\n\n  /**\n   * Render data to the DOM node\n   */\n  function render(props, node) {\n    const script = document.createElement(\"script\");\n    node.appendChild(script);\n  }\n\n  /**\n   * Handle when an output is cleared or removed\n   */\n  function handleClearOutput(event, handle) {\n    function drop(id) {\n      const view = Bokeh.index.get_by_id(id)\n      if (view != null) {\n        view.model.document.clear()\n        Bokeh.index.delete(view)\n      }\n    }\n\n    const cell = handle.cell;\n\n    const id = cell.output_area._bokeh_element_id;\n    const server_id = cell.output_area._bokeh_server_id;\n\n    // Clean up Bokeh references\n    if (id != null) {\n      drop(id)\n    }\n\n    if (server_id !== undefined) {\n      // Clean up Bokeh references\n      const cmd_clean = \"from bokeh.io.state import curstate; print(curstate().uuid_to_server['\" + server_id + \"'].get_sessions()[0].document.roots[0]._id)\";\n      cell.notebook.kernel.execute(cmd_clean, {\n        iopub: {\n          output: function(msg) {\n            const id = msg.content.text.trim()\n            drop(id)\n          }\n        }\n      });\n      // Destroy server and session\n      const cmd_destroy = \"import bokeh.io.notebook as ion; ion.destroy_server('\" + server_id + \"')\";\n      cell.notebook.kernel.execute(cmd_destroy);\n    }\n  }\n\n  /**\n   * Handle when a new output is added\n   */\n  function handleAddOutput(event, handle) {\n    const output_area = handle.output_area;\n    const output = handle.output;\n\n    // limit handleAddOutput to display_data with EXEC_MIME_TYPE content only\n    if ((output.output_type != \"display_data\") || (!Object.prototype.hasOwnProperty.call(output.data, EXEC_MIME_TYPE))) {\n      return\n    }\n\n    const toinsert = output_area.element.find(\".\" + CLASS_NAME.split(' ')[0]);\n\n    if (output.metadata[EXEC_MIME_TYPE][\"id\"] !== undefined) {\n      toinsert[toinsert.length - 1].firstChild.textContent = output.data[JS_MIME_TYPE];\n      // store reference to embed id on output_area\n      output_area._bokeh_element_id = output.metadata[EXEC_MIME_TYPE][\"id\"];\n    }\n    if (output.metadata[EXEC_MIME_TYPE][\"server_id\"] !== undefined) {\n      const bk_div = document.createElement(\"div\");\n      bk_div.innerHTML = output.data[HTML_MIME_TYPE];\n      const script_attrs = bk_div.children[0].attributes;\n      for (let i = 0; i < script_attrs.length; i++) {\n        toinsert[toinsert.length - 1].firstChild.setAttribute(script_attrs[i].name, script_attrs[i].value);\n        toinsert[toinsert.length - 1].firstChild.textContent = bk_div.children[0].textContent\n      }\n      // store reference to server id on output_area\n      output_area._bokeh_server_id = output.metadata[EXEC_MIME_TYPE][\"server_id\"];\n    }\n  }\n\n  function register_renderer(events, OutputArea) {\n\n    function append_mime(data, metadata, element) {\n      // create a DOM node to render to\n      const toinsert = this.create_output_subarea(\n        metadata,\n        CLASS_NAME,\n        EXEC_MIME_TYPE\n      );\n      this.keyboard_manager.register_events(toinsert);\n      // Render to node\n      const props = {data: data, metadata: metadata[EXEC_MIME_TYPE]};\n      render(props, toinsert[toinsert.length - 1]);\n      element.append(toinsert);\n      return toinsert\n    }\n\n    /* Handle when an output is cleared or removed */\n    events.on('clear_output.CodeCell', handleClearOutput);\n    events.on('delete.Cell', handleClearOutput);\n\n    /* Handle when a new output is added */\n    events.on('output_added.OutputArea', handleAddOutput);\n\n    /**\n     * Register the mime type and append_mime function with output_area\n     */\n    OutputArea.prototype.register_mime_type(EXEC_MIME_TYPE, append_mime, {\n      /* Is output safe? */\n      safe: true,\n      /* Index of renderer in `output_area.display_order` */\n      index: 0\n    });\n  }\n\n  // register the mime type if in Jupyter Notebook environment and previously unregistered\n  if (root.Jupyter !== undefined) {\n    const events = require('base/js/events');\n    const OutputArea = require('notebook/js/outputarea').OutputArea;\n\n    if (OutputArea.prototype.mime_types().indexOf(EXEC_MIME_TYPE) == -1) {\n      register_renderer(events, OutputArea);\n    }\n  }\n  if (typeof (root._bokeh_timeout) === \"undefined\" || force === true) {\n    root._bokeh_timeout = Date.now() + 5000;\n    root._bokeh_failed_load = false;\n  }\n\n  const NB_LOAD_WARNING = {'data': {'text/html':\n     \"<div style='background-color: #fdd'>\\n\"+\n     \"<p>\\n\"+\n     \"BokehJS does not appear to have successfully loaded. If loading BokehJS from CDN, this \\n\"+\n     \"may be due to a slow or bad network connection. Possible fixes:\\n\"+\n     \"</p>\\n\"+\n     \"<ul>\\n\"+\n     \"<li>re-rerun `output_notebook()` to attempt to load from CDN again, or</li>\\n\"+\n     \"<li>use INLINE resources instead, as so:</li>\\n\"+\n     \"</ul>\\n\"+\n     \"<code>\\n\"+\n     \"from bokeh.resources import INLINE\\n\"+\n     \"output_notebook(resources=INLINE)\\n\"+\n     \"</code>\\n\"+\n     \"</div>\"}};\n\n  function display_loaded(error = null) {\n    const el = document.getElementById(null);\n    if (el != null) {\n      const html = (() => {\n        if (typeof root.Bokeh === \"undefined\") {\n          if (error == null) {\n            return \"BokehJS is loading ...\";\n          } else {\n            return \"BokehJS failed to load.\";\n          }\n        } else {\n          const prefix = `BokehJS ${root.Bokeh.version}`;\n          if (error == null) {\n            return `${prefix} successfully loaded.`;\n          } else {\n            return `${prefix} <b>encountered errors</b> while loading and may not function as expected.`;\n          }\n        }\n      })();\n      el.innerHTML = html;\n\n      if (error != null) {\n        const wrapper = document.createElement(\"div\");\n        wrapper.style.overflow = \"auto\";\n        wrapper.style.height = \"5em\";\n        wrapper.style.resize = \"vertical\";\n        const content = document.createElement(\"div\");\n        content.style.fontFamily = \"monospace\";\n        content.style.whiteSpace = \"pre-wrap\";\n        content.style.backgroundColor = \"rgb(255, 221, 221)\";\n        content.textContent = error.stack ?? error.toString();\n        wrapper.append(content);\n        el.append(wrapper);\n      }\n    } else if (Date.now() < root._bokeh_timeout) {\n      setTimeout(() => display_loaded(error), 100);\n    }\n  }\n\n  function run_callbacks() {\n    try {\n      root._bokeh_onload_callbacks.forEach(function(callback) {\n        if (callback != null)\n          callback();\n      });\n    } finally {\n      delete root._bokeh_onload_callbacks\n    }\n    console.debug(\"Bokeh: all callbacks have finished\");\n  }\n\n  function load_libs(css_urls, js_urls, callback) {\n    if (css_urls == null) css_urls = [];\n    if (js_urls == null) js_urls = [];\n\n    root._bokeh_onload_callbacks.push(callback);\n    if (root._bokeh_is_loading > 0) {\n      console.debug(\"Bokeh: BokehJS is being loaded, scheduling callback at\", now());\n      return null;\n    }\n    if (js_urls == null || js_urls.length === 0) {\n      run_callbacks();\n      return null;\n    }\n    console.debug(\"Bokeh: BokehJS not loaded, scheduling load and callback at\", now());\n    root._bokeh_is_loading = css_urls.length + js_urls.length;\n\n    function on_load() {\n      root._bokeh_is_loading--;\n      if (root._bokeh_is_loading === 0) {\n        console.debug(\"Bokeh: all BokehJS libraries/stylesheets loaded\");\n        run_callbacks()\n      }\n    }\n\n    function on_error(url) {\n      console.error(\"failed to load \" + url);\n    }\n\n    for (let i = 0; i < css_urls.length; i++) {\n      const url = css_urls[i];\n      const element = document.createElement(\"link\");\n      element.onload = on_load;\n      element.onerror = on_error.bind(null, url);\n      element.rel = \"stylesheet\";\n      element.type = \"text/css\";\n      element.href = url;\n      console.debug(\"Bokeh: injecting link tag for BokehJS stylesheet: \", url);\n      document.body.appendChild(element);\n    }\n\n    for (let i = 0; i < js_urls.length; i++) {\n      const url = js_urls[i];\n      const element = document.createElement('script');\n      element.onload = on_load;\n      element.onerror = on_error.bind(null, url);\n      element.async = false;\n      element.src = url;\n      console.debug(\"Bokeh: injecting script tag for BokehJS library: \", url);\n      document.head.appendChild(element);\n    }\n  };\n\n  function inject_raw_css(css) {\n    const element = document.createElement(\"style\");\n    element.appendChild(document.createTextNode(css));\n    document.body.appendChild(element);\n  }\n\n  const js_urls = [\"https://cdn.bokeh.org/bokeh/release/bokeh-3.6.0.min.js\", \"https://cdn.bokeh.org/bokeh/release/bokeh-gl-3.6.0.min.js\", \"https://cdn.bokeh.org/bokeh/release/bokeh-widgets-3.6.0.min.js\", \"https://cdn.bokeh.org/bokeh/release/bokeh-tables-3.6.0.min.js\", \"https://cdn.bokeh.org/bokeh/release/bokeh-mathjax-3.6.0.min.js\"];\n  const css_urls = [];\n\n  const inline_js = [    function(Bokeh) {\n      Bokeh.set_log_level(\"info\");\n    },\nfunction(Bokeh) {\n    }\n  ];\n\n  function run_inline_js() {\n    if (root.Bokeh !== undefined || force === true) {\n      try {\n            for (let i = 0; i < inline_js.length; i++) {\n      inline_js[i].call(root, root.Bokeh);\n    }\n\n      } catch (error) {throw error;\n      }} else if (Date.now() < root._bokeh_timeout) {\n      setTimeout(run_inline_js, 100);\n    } else if (!root._bokeh_failed_load) {\n      console.log(\"Bokeh: BokehJS failed to load within specified timeout.\");\n      root._bokeh_failed_load = true;\n    } else if (force !== true) {\n      const cell = $(document.getElementById(null)).parents('.cell').data().cell;\n      cell.output_area.append_execute_result(NB_LOAD_WARNING)\n    }\n  }\n\n  if (root._bokeh_is_loading === 0) {\n    console.debug(\"Bokeh: BokehJS loaded, going straight to plotting\");\n    run_inline_js();\n  } else {\n    load_libs(css_urls, js_urls, function() {\n      console.debug(\"Bokeh: BokehJS plotting callback run at\", now());\n      run_inline_js();\n    });\n  }\n}(window));",
            "application/vnd.bokehjs_load.v0+json": ""
          },
          "metadata": {},
          "output_type": "display_data"
        },
        {
          "data": {
            "text/html": [
              "\n",
              "  <div id=\"b45059d9-3102-41e5-8811-a2b482f3a94a\" data-root-id=\"p1004\" style=\"display: contents;\"></div>\n"
            ]
          },
          "metadata": {},
          "output_type": "display_data"
        },
        {
          "data": {
            "application/javascript": "(function(root) {\n  function embed_document(root) {\n  const docs_json = {\"0e8b8c03-8e11-46e7-8ce2-435d5033e501\":{\"version\":\"3.6.0\",\"title\":\"Bokeh Application\",\"roots\":[{\"type\":\"object\",\"name\":\"Figure\",\"id\":\"p1004\",\"attributes\":{\"height\":400,\"x_range\":{\"type\":\"object\",\"name\":\"DataRange1d\",\"id\":\"p1005\"},\"y_range\":{\"type\":\"object\",\"name\":\"DataRange1d\",\"id\":\"p1006\"},\"x_scale\":{\"type\":\"object\",\"name\":\"LinearScale\",\"id\":\"p1013\"},\"y_scale\":{\"type\":\"object\",\"name\":\"LinearScale\",\"id\":\"p1014\"},\"title\":{\"type\":\"object\",\"name\":\"Title\",\"id\":\"p1011\"},\"renderers\":[{\"type\":\"object\",\"name\":\"GlyphRenderer\",\"id\":\"p1044\",\"attributes\":{\"data_source\":{\"type\":\"object\",\"name\":\"ColumnDataSource\",\"id\":\"p1001\",\"attributes\":{\"selected\":{\"type\":\"object\",\"name\":\"Selection\",\"id\":\"p1002\",\"attributes\":{\"indices\":[],\"line_indices\":[]}},\"selection_policy\":{\"type\":\"object\",\"name\":\"UnionRenderers\",\"id\":\"p1003\"},\"data\":{\"type\":\"map\",\"entries\":[[\"x\",{\"type\":\"ndarray\",\"array\":{\"type\":\"bytes\",\"data\":\"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\"},\"shape\":[5000],\"dtype\":\"float32\",\"order\":\"little\"}],[\"y\",{\"type\":\"ndarray\",\"array\":{\"type\":\"bytes\",\"data\":\"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\"},\"shape\":[5000],\"dtype\":\"float32\",\"order\":\"little\"}],[\"color\",[\"blue\",\"blue\",\"blue\",\"blue\",\"blue\",\"blue\",\"blue\",\"blue\",\"blue\",\"blue\",\"blue\",\"blue\",\"blue\",\"blue\",\"blue\",\"blue\",\"blue\",\"blue\",\"blue\",\"blue\",\"blue\",\"blue\",\"blue\",\"blue\",\"blue\",\"blue\",\"blue\",\"blue\",\"blue\",\"blue\",\"blue\",\"blue\",\"blue\",\"blue\",\"blue\",\"blue\",\"blue\",\"blue\",\"blue\",\"blue\",\"blue\",\"blue\",\"blue\",\"blue\",\"blue\",\"blue\",\"blue\",\"blue\",\"blue\",\"blue\",\"blue\",\"blue\",\"blue\",\"blue\",\"blue\",\"blue\",\"blue\",\"blue\",\"blue\",\"blue\",\"blue\",\"blue\",\"blue\",\"blue\",\"blue\",\"blue\",\"blue\",\"blue\",\"blue\",\"blue\",\"blue\",\"blue\",\"blue\",\"blue\",\"blue\",\"blue\",\"blue\",\"blue\",\"blue\",\"blue\",\"blue\",\"blue\",\"blue\",\"blue\",\"blue\",\"blue\",\"blue\",\"blue\",\"blue\",\"blue\",\"blue\",\"blue\",\"blue\",\"blue\",\"blue\",\"blue\",\"blue\",\"blue\",\"blue\",\"blue\",\"blue\",\"blue\",\"blue\",\"blue\",\"blue\",\"blue\",\"blue\",\"blue\",\"blue\",\"blue\",\"blue\",\"blue\",\"blue\",\"blue\",\"blue\",\"blue\",\"blue\",\"blue\",\"blue\",\"blue\",\"blue\",\"blue\",\"blue\",\"blue\",\"blue\",\"blue\",\"blue\",\"blue\",\"blue\",\"blue\",\"blue\",\"blue\",\"blue\",\"blue\",\"blue\",\"blue\",\"blue\",\"blue\",\"blue\",\"blue\",\"blue\",\"blue\",\"blue\",\"blue\",\"blue\",\"blue\",\"blue\",\"blue\",\"blue\",\"blue\",\"blue\",\"blue\",\"blue\",\"blue\",\"blue\",\"blue\",\"blue\",\"blue\",\"blue\",\"blue\",\"blue\",\"blue\",\"blue\",\"blue\",\"blue\",\"blue\",\"blue\",\"blue\",\"blue\",\"blue\",\"blue\",\"blue\",\"blue\",\"blue\",\"blue\",\"blue\",\"blue\",\"blue\",\"blue\",\"blue\",\"blue\",\"blue\",\"blue\",\"blue\",\"blue\",\"blue\",\"blue\",\"blue\",\"blue\",\"blue\",\"blue\",\"blue\",\"blue\",\"blue\",\"blue\",\"blue\",\"blue\",\"blue\",\"blue\",\"blue\",\"blue\",\"blue\",\"blue\",\"blue\",\"blue\",\"blue\",\"blue\",\"blue\",\"blue\",\"blue\",\"blue\",\"blue\",\"blue\",\"blue\",\"blue\",\"blue\",\"blue\",\"blue\",\"blue\",\"blue\",\"blue\",\"blue\",\"blue\",\"blue\",\"blue\",\"blue\",\"blue\",\"blue\",\"blue\",\"blue\",\"blue\",\"blue\",\"blue\",\"blue\",\"blue\",\"blue\",\"blue\",\"blue\",\"blue\",\"blue\",\"blue\",\"blue\",\"blue\",\"blue\",\"blue\",\"blue\",\"blue\",\"blue\",\"blue\",\"blue\",\"blue\",\"blue\",\"blue\",\"blue\",\"blue\",\"blue\",\"blue\",\"blue\",\"blue\",\"blue\",\"blue\",\"blue\",\"blue\",\"blue\",\"blue\",\"blue\",\"blue\",\"blue\",\"blue\",\"blue\",\"blue\",\"blue\",\"blue\",\"blue\",\"blue\",\"blue\",\"blue\",\"blue\",\"blue\",\"blue\",\"blue\",\"blue\",\"blue\",\"blue\",\"blue\",\"blue\",\"blue\",\"blue\",\"blue\",\"blue\",\"blue\",\"blue\",\"blue\",\"blue\",\"blue\",\"blue\",\"blue\",\"blue\",\"blue\",\"blue\",\"blue\",\"blue\",\"blue\",\"blue\",\"blue\",\"blue\",\"blue\",\"blue\",\"blue\",\"blue\",\"blue\",\"blue\",\"blue\",\"blue\",\"blue\",\"blue\",\"blue\",\"blue\",\"blue\",\"blue\",\"blue\",\"blue\",\"blue\",\"blue\",\"blue\",\"blue\",\"blue\",\"blue\",\"blue\",\"blue\",\"blue\",\"blue\",\"blue\",\"blue\",\"blue\",\"blue\",\"blue\",\"blue\",\"blue\",\"blue\",\"blue\",\"blue\",\"blue\",\"blue\",\"blue\",\"blue\",\"blue\",\"blue\",\"blue\",\"blue\",\"blue\",\"blue\",\"blue\",\"blue\",\"blue\",\"blue\",\"blue\",\"blue\",\"blue\",\"blue\",\"blue\",\"blue\",\"blue\",\"blue\",\"blue\",\"blue\",\"blue\",\"blue\",\"blue\",\"blue\",\"blue\",\"blue\",\"blue\",\"blue\",\"blue\",\"blue\",\"blue\",\"blue\",\"blue\",\"blue\",\"blue\",\"blue\",\"blue\",\"blue\",\"blue\",\"blue\",\"blue\",\"blue\",\"blue\",\"blue\",\"blue\",\"blue\",\"blue\",\"blue\",\"blue\",\"blue\",\"blue\",\"blue\",\"blue\",\"blue\",\"blue\",\"blue\",\"blue\",\"blue\",\"blue\",\"blue\",\"blue\",\"blue\",\"blue\",\"blue\",\"blue\",\"blue\",\"blue\",\"blue\",\"blue\",\"blue\",\"blue\",\"blue\",\"blue\",\"blue\",\"blue\",\"blue\",\"blue\",\"blue\",\"blue\",\"blue\",\"blue\",\"blue\",\"blue\",\"blue\",\"blue\",\"blue\",\"blue\",\"blue\",\"blue\",\"blue\",\"blue\",\"blue\",\"blue\",\"blue\",\"blue\",\"blue\",\"blue\",\"blue\",\"blue\",\"blue\",\"blue\",\"blue\",\"blue\",\"blue\",\"blue\",\"blue\",\"blue\",\"blue\",\"blue\",\"blue\",\"blue\",\"blue\",\"blue\",\"blue\",\"blue\",\"blue\",\"blue\",\"blue\",\"blue\",\"blue\",\"blue\",\"blue\",\"blue\",\"blue\",\"blue\",\"blue\",\"blue\",\"blue\",\"blue\",\"blue\",\"blue\",\"blue\",\"blue\",\"blue\",\"blue\",\"blue\",\"blue\",\"blue\",\"blue\",\"blue\",\"blue\",\"blue\",\"blue\",\"blue\",\"blue\",\"blue\",\"blue\",\"blue\",\"blue\",\"blue\",\"blue\",\"blue\",\"blue\",\"blue\",\"blue\",\"blue\",\"blue\",\"blue\",\"blue\",\"blue\",\"blue\",\"blue\",\"blue\",\"blue\",\"blue\",\"blue\",\"blue\",\"blue\",\"blue\",\"blue\",\"blue\",\"blue\",\"blue\",\"blue\",\"blue\",\"blue\",\"blue\",\"blue\",\"blue\",\"blue\",\"blue\",\"blue\",\"blue\",\"blue\",\"blue\",\"blue\",\"blue\",\"blue\",\"blue\",\"blue\",\"blue\",\"blue\",\"blue\",\"blue\",\"blue\",\"blue\",\"blue\",\"blue\",\"blue\",\"blue\",\"blue\",\"blue\",\"blue\",\"blue\",\"blue\",\"blue\",\"blue\",\"blue\",\"blue\",\"blue\",\"blue\",\"blue\",\"blue\",\"blue\",\"blue\",\"blue\",\"blue\",\"blue\",\"blue\",\"blue\",\"blue\",\"blue\",\"blue\",\"blue\",\"blue\",\"blue\",\"blue\",\"blue\",\"blue\",\"blue\",\"blue\",\"blue\",\"blue\",\"blue\",\"blue\",\"blue\",\"blue\",\"blue\",\"blue\",\"blue\",\"blue\",\"blue\",\"blue\",\"blue\",\"blue\",\"blue\",\"blue\",\"blue\",\"blue\",\"blue\",\"blue\",\"blue\",\"blue\",\"blue\",\"blue\",\"blue\",\"blue\",\"blue\",\"blue\",\"blue\",\"blue\",\"blue\",\"blue\",\"blue\",\"blue\",\"blue\",\"blue\",\"blue\",\"blue\",\"blue\",\"blue\",\"blue\",\"blue\",\"blue\",\"blue\",\"blue\",\"blue\",\"blue\",\"blue\",\"blue\",\"blue\",\"blue\",\"blue\",\"blue\",\"blue\",\"blue\",\"blue\",\"blue\",\"blue\",\"blue\",\"blue\",\"blue\",\"blue\",\"blue\",\"blue\",\"blue\",\"blue\",\"blue\",\"blue\",\"blue\",\"blue\",\"blue\",\"blue\",\"blue\",\"blue\",\"blue\",\"blue\",\"blue\",\"blue\",\"blue\",\"blue\",\"blue\",\"blue\",\"blue\",\"blue\",\"blue\",\"blue\",\"blue\",\"blue\",\"blue\",\"blue\",\"blue\",\"blue\",\"blue\",\"blue\",\"blue\",\"blue\",\"blue\",\"blue\",\"blue\",\"blue\",\"blue\",\"blue\",\"blue\",\"blue\",\"blue\",\"blue\",\"blue\",\"blue\",\"blue\",\"blue\",\"blue\",\"blue\",\"blue\",\"blue\",\"blue\",\"blue\",\"blue\",\"blue\",\"blue\",\"blue\",\"blue\",\"blue\",\"blue\",\"blue\",\"blue\",\"blue\",\"blue\",\"blue\",\"blue\",\"blue\",\"blue\",\"blue\",\"blue\",\"blue\",\"blue\",\"blue\",\"blue\",\"blue\",\"blue\",\"blue\",\"blue\",\"blue\",\"blue\",\"blue\",\"blue\",\"blue\",\"blue\",\"blue\",\"blue\",\"blue\",\"blue\",\"blue\",\"blue\",\"blue\",\"blue\",\"blue\",\"blue\",\"blue\",\"blue\",\"blue\",\"blue\",\"blue\",\"blue\",\"blue\",\"blue\",\"blue\",\"blue\",\"blue\",\"blue\",\"blue\",\"blue\",\"blue\",\"blue\",\"blue\",\"blue\",\"blue\",\"blue\",\"blue\",\"blue\",\"blue\",\"blue\",\"blue\",\"blue\",\"blue\",\"blue\",\"blue\",\"blue\",\"blue\",\"blue\",\"blue\",\"blue\",\"blue\",\"blue\",\"blue\",\"blue\",\"blue\",\"blue\",\"blue\",\"blue\",\"blue\",\"blue\",\"blue\",\"blue\",\"blue\",\"blue\",\"blue\",\"blue\",\"blue\",\"blue\",\"blue\",\"blue\",\"blue\",\"blue\",\"blue\",\"blue\",\"blue\",\"blue\",\"blue\",\"blue\",\"blue\",\"blue\",\"blue\",\"blue\",\"blue\",\"blue\",\"blue\",\"blue\",\"blue\",\"blue\",\"blue\",\"blue\",\"blue\",\"blue\",\"blue\",\"blue\",\"blue\",\"blue\",\"blue\",\"blue\",\"blue\",\"blue\",\"blue\",\"blue\",\"blue\",\"blue\",\"blue\",\"blue\",\"blue\",\"blue\",\"blue\",\"blue\",\"blue\",\"blue\",\"blue\",\"blue\",\"blue\",\"blue\",\"blue\",\"blue\",\"blue\",\"blue\",\"blue\",\"blue\",\"blue\",\"blue\",\"blue\",\"blue\",\"blue\",\"blue\",\"blue\",\"blue\",\"blue\",\"blue\",\"blue\",\"blue\",\"blue\",\"blue\",\"blue\",\"blue\",\"blue\",\"blue\",\"blue\",\"blue\",\"blue\",\"blue\",\"blue\",\"blue\",\"blue\",\"blue\",\"blue\",\"blue\",\"blue\",\"blue\",\"blue\",\"blue\",\"blue\",\"blue\",\"blue\",\"blue\",\"blue\",\"blue\",\"blue\",\"blue\",\"blue\",\"blue\",\"blue\",\"blue\",\"blue\",\"blue\",\"blue\",\"blue\",\"blue\",\"blue\",\"blue\",\"blue\",\"blue\",\"blue\",\"blue\",\"blue\",\"blue\",\"blue\",\"blue\",\"blue\",\"blue\",\"blue\",\"blue\",\"blue\",\"blue\",\"blue\",\"blue\",\"blue\",\"blue\",\"blue\",\"blue\",\"blue\",\"blue\",\"blue\",\"blue\",\"blue\",\"blue\",\"blue\",\"blue\",\"blue\",\"blue\",\"blue\",\"blue\",\"blue\",\"blue\",\"blue\",\"blue\",\"blue\",\"blue\",\"blue\",\"blue\",\"blue\",\"blue\",\"blue\",\"blue\",\"blue\",\"blue\",\"blue\",\"blue\",\"blue\",\"blue\",\"blue\",\"blue\",\"blue\",\"blue\",\"blue\",\"blue\",\"blue\",\"blue\",\"blue\",\"blue\",\"blue\",\"blue\",\"blue\",\"blue\",\"blue\",\"blue\",\"blue\",\"blue\",\"blue\",\"blue\",\"blue\",\"blue\",\"blue\",\"blue\",\"blue\",\"blue\",\"blue\",\"blue\",\"blue\",\"blue\",\"blue\",\"blue\",\"blue\",\"blue\",\"blue\",\"blue\",\"blue\",\"blue\",\"blue\",\"blue\",\"blue\",\"blue\",\"blue\",\"blue\",\"blue\",\"blue\",\"blue\",\"blue\",\"blue\",\"blue\",\"blue\",\"blue\",\"blue\",\"blue\",\"blue\",\"blue\",\"blue\",\"blue\",\"blue\",\"blue\",\"blue\",\"blue\",\"blue\",\"blue\",\"blue\",\"blue\",\"blue\",\"blue\",\"blue\",\"blue\",\"blue\",\"blue\",\"blue\",\"blue\",\"blue\",\"blue\",\"blue\",\"blue\",\"blue\",\"blue\",\"blue\",\"blue\",\"blue\",\"blue\",\"blue\",\"blue\",\"blue\",\"blue\",\"blue\",\"blue\",\"blue\",\"blue\",\"blue\",\"blue\",\"blue\",\"blue\",\"blue\",\"blue\",\"blue\",\"blue\",\"blue\",\"blue\",\"blue\",\"blue\",\"blue\",\"blue\",\"blue\",\"blue\",\"blue\",\"blue\",\"blue\",\"blue\",\"blue\",\"blue\",\"blue\",\"blue\",\"blue\",\"blue\",\"blue\",\"blue\",\"blue\",\"blue\",\"blue\",\"blue\",\"blue\",\"blue\",\"blue\",\"blue\",\"blue\",\"blue\",\"blue\",\"blue\",\"blue\",\"blue\",\"blue\",\"blue\",\"blue\",\"blue\",\"blue\",\"blue\",\"blue\",\"blue\",\"blue\",\"blue\",\"blue\",\"blue\",\"blue\",\"blue\",\"blue\",\"blue\",\"blue\",\"blue\",\"blue\",\"blue\",\"blue\",\"blue\",\"blue\",\"blue\",\"blue\",\"blue\",\"blue\",\"blue\",\"blue\",\"blue\",\"blue\",\"blue\",\"blue\",\"blue\",\"blue\",\"blue\",\"blue\",\"blue\",\"blue\",\"blue\",\"blue\",\"blue\",\"blue\",\"blue\",\"blue\",\"blue\",\"blue\",\"blue\",\"blue\",\"blue\",\"blue\",\"blue\",\"blue\",\"blue\",\"blue\",\"blue\",\"blue\",\"blue\",\"blue\",\"blue\",\"blue\",\"blue\",\"blue\",\"blue\",\"blue\",\"blue\",\"blue\",\"blue\",\"blue\",\"blue\",\"blue\",\"blue\",\"blue\",\"blue\",\"blue\",\"blue\",\"blue\",\"blue\",\"blue\",\"blue\",\"blue\",\"blue\",\"blue\",\"blue\",\"blue\",\"blue\",\"blue\",\"blue\",\"blue\",\"blue\",\"blue\",\"blue\",\"blue\",\"blue\",\"blue\",\"blue\",\"blue\",\"blue\",\"blue\",\"blue\",\"blue\",\"blue\",\"blue\",\"blue\",\"blue\",\"blue\",\"blue\",\"blue\",\"blue\",\"blue\",\"blue\",\"blue\",\"blue\",\"blue\",\"blue\",\"blue\",\"blue\",\"blue\",\"blue\",\"blue\",\"blue\",\"blue\",\"blue\",\"blue\",\"blue\",\"blue\",\"blue\",\"blue\",\"blue\",\"blue\",\"blue\",\"blue\",\"blue\",\"blue\",\"blue\",\"blue\",\"blue\",\"blue\",\"blue\",\"blue\",\"blue\",\"blue\",\"blue\",\"blue\",\"blue\",\"blue\",\"blue\",\"blue\",\"blue\",\"blue\",\"blue\",\"blue\",\"blue\",\"blue\",\"blue\",\"blue\",\"blue\",\"blue\",\"blue\",\"blue\",\"blue\",\"blue\",\"blue\",\"blue\",\"blue\",\"blue\",\"blue\",\"blue\",\"blue\",\"blue\",\"blue\",\"blue\",\"blue\",\"blue\",\"blue\",\"blue\",\"blue\",\"blue\",\"blue\",\"blue\",\"blue\",\"blue\",\"blue\",\"blue\",\"blue\",\"blue\",\"blue\",\"blue\",\"blue\",\"blue\",\"blue\",\"blue\",\"blue\",\"blue\",\"blue\",\"blue\",\"blue\",\"blue\",\"blue\",\"blue\",\"blue\",\"blue\",\"blue\",\"blue\",\"blue\",\"blue\",\"blue\",\"blue\",\"blue\",\"blue\",\"blue\",\"blue\",\"blue\",\"blue\",\"blue\",\"blue\",\"blue\",\"blue\",\"blue\",\"blue\",\"blue\",\"blue\",\"blue\",\"blue\",\"blue\",\"blue\",\"blue\",\"blue\",\"blue\",\"blue\",\"blue\",\"blue\",\"blue\",\"blue\",\"blue\",\"blue\",\"blue\",\"blue\",\"blue\",\"blue\",\"blue\",\"blue\",\"blue\",\"blue\",\"blue\",\"blue\",\"blue\",\"blue\",\"blue\",\"blue\",\"blue\",\"blue\",\"blue\",\"blue\",\"blue\",\"blue\",\"blue\",\"blue\",\"blue\",\"blue\",\"blue\",\"blue\",\"blue\",\"blue\",\"blue\",\"blue\",\"blue\",\"blue\",\"blue\",\"blue\",\"blue\",\"blue\",\"blue\",\"blue\",\"blue\",\"blue\",\"blue\",\"blue\",\"blue\",\"blue\",\"blue\",\"blue\",\"blue\",\"blue\",\"blue\",\"blue\",\"blue\",\"blue\",\"blue\",\"blue\",\"blue\",\"blue\",\"blue\",\"blue\",\"blue\",\"blue\",\"blue\",\"blue\",\"blue\",\"blue\",\"blue\",\"blue\",\"blue\",\"blue\",\"blue\",\"blue\",\"blue\",\"blue\",\"blue\",\"blue\",\"blue\",\"blue\",\"blue\",\"blue\",\"blue\",\"blue\",\"blue\",\"blue\",\"blue\",\"blue\",\"blue\",\"blue\",\"blue\",\"blue\",\"blue\",\"blue\",\"blue\",\"blue\",\"blue\",\"blue\",\"blue\",\"blue\",\"blue\",\"blue\",\"blue\",\"blue\",\"blue\",\"blue\",\"blue\",\"blue\",\"blue\",\"blue\",\"blue\",\"blue\",\"blue\",\"blue\",\"blue\",\"blue\",\"blue\",\"blue\",\"blue\",\"blue\",\"blue\",\"blue\",\"blue\",\"blue\",\"blue\",\"blue\",\"blue\",\"blue\",\"blue\",\"blue\",\"blue\",\"blue\",\"blue\",\"blue\",\"blue\",\"blue\",\"blue\",\"blue\",\"blue\",\"blue\",\"blue\",\"blue\",\"blue\",\"blue\",\"blue\",\"blue\",\"blue\",\"blue\",\"blue\",\"blue\",\"blue\",\"blue\",\"blue\",\"blue\",\"blue\",\"blue\",\"blue\",\"blue\",\"blue\",\"blue\",\"blue\",\"blue\",\"blue\",\"blue\",\"blue\",\"blue\",\"blue\",\"blue\",\"blue\",\"blue\",\"blue\",\"blue\",\"blue\",\"blue\",\"blue\",\"blue\",\"blue\",\"blue\",\"blue\",\"blue\",\"blue\",\"blue\",\"blue\",\"blue\",\"blue\",\"blue\",\"blue\",\"blue\",\"blue\",\"blue\",\"blue\",\"blue\",\"blue\",\"blue\",\"blue\",\"blue\",\"blue\",\"blue\",\"blue\",\"blue\",\"blue\",\"blue\",\"blue\",\"blue\",\"blue\",\"blue\",\"blue\",\"blue\",\"blue\",\"blue\",\"blue\",\"blue\",\"blue\",\"blue\",\"blue\",\"blue\",\"blue\",\"blue\",\"blue\",\"blue\",\"blue\",\"blue\",\"blue\",\"blue\",\"blue\",\"blue\",\"blue\",\"blue\",\"blue\",\"blue\",\"blue\",\"blue\",\"blue\",\"blue\",\"blue\",\"blue\",\"blue\",\"blue\",\"blue\",\"blue\",\"blue\",\"blue\",\"blue\",\"blue\",\"blue\",\"blue\",\"blue\",\"blue\",\"blue\",\"blue\",\"blue\",\"blue\",\"blue\",\"blue\",\"blue\",\"blue\",\"blue\",\"blue\",\"blue\",\"blue\",\"blue\",\"blue\",\"blue\",\"blue\",\"blue\",\"blue\",\"blue\",\"blue\",\"blue\",\"blue\",\"blue\",\"blue\",\"blue\",\"blue\",\"blue\",\"blue\",\"blue\",\"blue\",\"blue\",\"blue\",\"blue\",\"blue\",\"blue\",\"blue\",\"blue\",\"blue\",\"blue\",\"blue\",\"blue\",\"blue\",\"blue\",\"blue\",\"blue\",\"blue\",\"blue\",\"blue\",\"blue\",\"blue\",\"blue\",\"blue\",\"blue\",\"blue\",\"blue\",\"blue\",\"blue\",\"blue\",\"blue\",\"blue\",\"blue\",\"blue\",\"blue\",\"blue\",\"blue\",\"blue\",\"blue\",\"blue\",\"blue\",\"blue\",\"blue\",\"blue\",\"blue\",\"blue\",\"blue\",\"blue\",\"blue\",\"blue\",\"blue\",\"blue\",\"blue\",\"blue\",\"blue\",\"blue\",\"blue\",\"blue\",\"blue\",\"blue\",\"blue\",\"blue\",\"blue\",\"blue\",\"blue\",\"blue\",\"blue\",\"blue\",\"blue\",\"blue\",\"blue\",\"blue\",\"blue\",\"blue\",\"blue\",\"blue\",\"blue\",\"blue\",\"blue\",\"blue\",\"blue\",\"blue\",\"blue\",\"blue\",\"blue\",\"blue\",\"blue\",\"blue\",\"blue\",\"blue\",\"blue\",\"blue\",\"blue\",\"blue\",\"blue\",\"blue\",\"blue\",\"blue\",\"blue\",\"blue\",\"blue\",\"blue\",\"blue\",\"blue\",\"blue\",\"blue\",\"blue\",\"blue\",\"blue\",\"blue\",\"blue\",\"blue\",\"blue\",\"blue\",\"blue\",\"blue\",\"blue\",\"blue\",\"blue\",\"blue\",\"blue\",\"blue\",\"blue\",\"blue\",\"blue\",\"blue\",\"blue\",\"blue\",\"blue\",\"blue\",\"blue\",\"blue\",\"blue\",\"blue\",\"blue\",\"blue\",\"blue\",\"blue\",\"blue\",\"blue\",\"blue\",\"blue\",\"blue\",\"blue\",\"blue\",\"blue\",\"blue\",\"blue\",\"blue\",\"blue\",\"blue\",\"blue\",\"blue\",\"blue\",\"blue\",\"blue\",\"blue\",\"blue\",\"blue\",\"blue\",\"blue\",\"blue\",\"blue\",\"blue\",\"blue\",\"blue\",\"blue\",\"blue\",\"blue\",\"blue\",\"blue\",\"blue\",\"blue\",\"blue\",\"blue\",\"blue\",\"blue\",\"blue\",\"blue\",\"blue\",\"blue\",\"blue\",\"blue\",\"blue\",\"blue\",\"blue\",\"blue\",\"blue\",\"blue\",\"blue\",\"blue\",\"blue\",\"blue\",\"blue\",\"blue\",\"blue\",\"blue\",\"blue\",\"blue\",\"blue\",\"blue\",\"blue\",\"blue\",\"blue\",\"blue\",\"blue\",\"blue\",\"blue\",\"blue\",\"blue\",\"blue\",\"blue\",\"blue\",\"blue\",\"blue\",\"blue\",\"blue\",\"blue\",\"blue\",\"blue\",\"blue\",\"blue\",\"blue\",\"blue\",\"blue\",\"blue\",\"blue\",\"blue\",\"blue\",\"blue\",\"blue\",\"blue\",\"blue\",\"blue\",\"blue\",\"blue\",\"blue\",\"blue\",\"blue\",\"blue\",\"blue\",\"blue\",\"blue\",\"blue\",\"blue\",\"blue\",\"blue\",\"blue\",\"blue\",\"blue\",\"blue\",\"blue\",\"blue\",\"blue\",\"blue\",\"blue\",\"blue\",\"blue\",\"blue\",\"blue\",\"blue\",\"blue\",\"blue\",\"blue\",\"blue\",\"blue\",\"blue\",\"blue\",\"blue\",\"blue\",\"blue\",\"blue\",\"blue\",\"blue\",\"blue\",\"blue\",\"blue\",\"blue\",\"blue\",\"blue\",\"blue\",\"blue\",\"blue\",\"blue\",\"blue\",\"blue\",\"blue\",\"blue\",\"blue\",\"blue\",\"blue\",\"blue\",\"blue\",\"blue\",\"blue\",\"blue\",\"blue\",\"blue\",\"blue\",\"blue\",\"blue\",\"blue\",\"blue\",\"blue\",\"blue\",\"blue\",\"blue\",\"blue\",\"blue\",\"blue\",\"blue\",\"blue\",\"blue\",\"blue\",\"blue\",\"blue\",\"blue\",\"blue\",\"blue\",\"blue\",\"blue\",\"blue\",\"blue\",\"blue\",\"blue\",\"blue\",\"blue\",\"blue\",\"blue\",\"blue\",\"blue\",\"blue\",\"blue\",\"blue\",\"blue\",\"blue\",\"blue\",\"blue\",\"blue\",\"blue\",\"blue\",\"blue\",\"blue\",\"blue\",\"blue\",\"blue\",\"blue\",\"blue\",\"blue\",\"blue\",\"blue\",\"blue\",\"blue\",\"blue\",\"blue\",\"blue\",\"blue\",\"blue\",\"blue\",\"blue\",\"blue\",\"blue\",\"blue\",\"blue\",\"blue\",\"blue\",\"blue\",\"blue\",\"blue\",\"blue\",\"blue\",\"blue\",\"blue\",\"blue\",\"blue\",\"blue\",\"blue\",\"blue\",\"blue\",\"blue\",\"blue\",\"blue\",\"blue\",\"blue\",\"blue\",\"blue\",\"blue\",\"blue\",\"blue\",\"blue\",\"blue\",\"blue\",\"blue\",\"blue\",\"blue\",\"blue\",\"blue\",\"blue\",\"blue\",\"blue\",\"blue\",\"blue\",\"blue\",\"blue\",\"blue\",\"blue\",\"blue\",\"blue\",\"blue\",\"blue\",\"blue\",\"blue\",\"blue\",\"blue\",\"blue\",\"blue\",\"blue\",\"blue\",\"blue\",\"blue\",\"blue\",\"blue\",\"blue\",\"blue\",\"blue\",\"blue\",\"blue\",\"blue\",\"blue\",\"blue\",\"blue\",\"blue\",\"blue\",\"blue\",\"blue\",\"blue\",\"blue\",\"blue\",\"blue\",\"blue\",\"blue\",\"blue\",\"blue\",\"blue\",\"blue\",\"blue\",\"blue\",\"blue\",\"blue\",\"blue\",\"blue\",\"blue\",\"blue\",\"blue\",\"blue\",\"blue\",\"blue\",\"blue\",\"blue\",\"blue\",\"blue\",\"blue\",\"blue\",\"blue\",\"blue\",\"blue\",\"blue\",\"blue\",\"blue\",\"blue\",\"blue\",\"blue\",\"blue\",\"blue\",\"blue\",\"blue\",\"blue\",\"blue\",\"blue\",\"blue\",\"blue\",\"blue\",\"blue\",\"blue\",\"blue\",\"blue\",\"blue\",\"blue\",\"blue\",\"blue\",\"blue\",\"blue\",\"blue\",\"blue\",\"blue\",\"blue\",\"blue\",\"blue\",\"blue\",\"blue\",\"blue\",\"blue\",\"blue\",\"blue\",\"blue\",\"blue\",\"blue\",\"blue\",\"blue\",\"blue\",\"blue\",\"blue\",\"blue\",\"blue\",\"blue\",\"blue\",\"blue\",\"blue\",\"blue\",\"blue\",\"blue\",\"blue\",\"blue\",\"blue\",\"blue\",\"blue\",\"blue\",\"blue\",\"blue\",\"blue\",\"blue\",\"blue\",\"blue\",\"blue\",\"blue\",\"blue\",\"blue\",\"blue\",\"blue\",\"blue\",\"blue\",\"blue\",\"blue\",\"blue\",\"blue\",\"blue\",\"blue\",\"blue\",\"blue\",\"blue\",\"blue\",\"blue\",\"blue\",\"blue\",\"blue\",\"blue\",\"blue\",\"blue\",\"blue\",\"blue\",\"blue\",\"blue\",\"blue\",\"blue\",\"blue\",\"blue\",\"blue\",\"blue\",\"blue\",\"blue\",\"blue\",\"blue\",\"blue\",\"blue\",\"blue\",\"blue\",\"blue\",\"blue\",\"blue\",\"blue\",\"blue\",\"blue\",\"blue\",\"blue\",\"blue\",\"blue\",\"blue\",\"blue\",\"blue\",\"blue\",\"blue\",\"blue\",\"blue\",\"blue\",\"blue\",\"blue\",\"blue\",\"blue\",\"blue\",\"blue\",\"blue\",\"blue\",\"blue\",\"blue\",\"blue\",\"blue\",\"blue\",\"blue\",\"blue\",\"blue\",\"blue\",\"blue\",\"blue\",\"blue\",\"blue\",\"blue\",\"blue\",\"blue\",\"blue\",\"blue\",\"blue\",\"blue\",\"blue\",\"blue\",\"blue\",\"blue\",\"blue\",\"blue\",\"blue\",\"blue\",\"blue\",\"blue\",\"blue\",\"blue\",\"blue\",\"blue\",\"blue\",\"blue\",\"blue\",\"blue\",\"blue\",\"blue\",\"blue\",\"blue\",\"blue\",\"blue\",\"blue\",\"blue\",\"blue\",\"blue\",\"blue\",\"blue\",\"blue\",\"blue\",\"blue\",\"blue\",\"blue\",\"blue\",\"blue\",\"blue\",\"blue\",\"blue\",\"blue\",\"blue\",\"blue\",\"blue\",\"blue\",\"blue\",\"blue\",\"blue\",\"blue\",\"blue\",\"blue\",\"blue\",\"blue\",\"blue\",\"blue\",\"blue\",\"blue\",\"blue\",\"blue\",\"blue\",\"blue\",\"blue\",\"blue\",\"blue\",\"blue\",\"blue\",\"blue\",\"blue\",\"blue\",\"blue\",\"blue\",\"blue\",\"blue\",\"blue\",\"blue\",\"blue\",\"blue\",\"blue\",\"blue\",\"blue\",\"blue\",\"blue\",\"blue\",\"blue\",\"blue\",\"blue\",\"blue\",\"blue\",\"blue\",\"blue\",\"blue\",\"blue\",\"blue\",\"blue\",\"blue\",\"blue\",\"blue\",\"blue\",\"blue\",\"blue\",\"blue\",\"blue\",\"blue\",\"blue\",\"blue\",\"blue\",\"blue\",\"blue\",\"blue\",\"blue\",\"blue\",\"blue\",\"blue\",\"blue\",\"blue\",\"blue\",\"blue\",\"blue\",\"blue\",\"blue\",\"blue\",\"blue\",\"blue\",\"blue\",\"blue\",\"blue\",\"blue\",\"blue\",\"blue\",\"blue\",\"blue\",\"blue\",\"blue\",\"blue\",\"blue\",\"blue\",\"blue\",\"blue\",\"blue\",\"blue\",\"blue\",\"blue\",\"blue\",\"blue\",\"blue\",\"blue\",\"blue\",\"blue\",\"blue\",\"blue\",\"blue\",\"blue\",\"blue\",\"blue\",\"blue\",\"blue\",\"blue\",\"blue\",\"blue\",\"blue\",\"blue\",\"blue\",\"blue\",\"blue\",\"blue\",\"blue\",\"blue\",\"blue\",\"blue\",\"blue\",\"blue\",\"blue\",\"blue\",\"blue\",\"blue\",\"blue\",\"blue\",\"blue\",\"blue\",\"blue\",\"blue\",\"blue\",\"blue\",\"blue\",\"blue\",\"blue\",\"blue\",\"blue\",\"blue\",\"blue\",\"blue\",\"blue\",\"blue\",\"blue\",\"blue\",\"blue\",\"blue\",\"blue\",\"blue\",\"blue\",\"blue\",\"blue\",\"blue\",\"blue\",\"blue\",\"blue\",\"blue\",\"blue\",\"blue\",\"blue\",\"blue\",\"blue\",\"blue\",\"blue\",\"blue\",\"blue\",\"blue\",\"blue\",\"blue\",\"blue\",\"blue\",\"blue\",\"blue\",\"blue\",\"blue\",\"blue\",\"blue\",\"blue\",\"blue\",\"blue\",\"blue\",\"blue\",\"blue\",\"blue\",\"blue\",\"blue\",\"blue\",\"blue\",\"blue\",\"blue\",\"blue\",\"blue\",\"blue\",\"blue\",\"blue\",\"blue\",\"blue\",\"blue\",\"blue\",\"blue\",\"blue\",\"blue\",\"blue\",\"blue\",\"blue\",\"blue\",\"blue\",\"blue\",\"blue\",\"blue\",\"blue\",\"blue\",\"blue\",\"blue\",\"blue\",\"blue\",\"blue\",\"blue\",\"blue\",\"blue\",\"blue\",\"blue\",\"blue\",\"blue\",\"blue\",\"blue\",\"blue\",\"blue\",\"blue\",\"blue\",\"blue\",\"blue\",\"blue\",\"blue\",\"blue\",\"blue\",\"blue\",\"blue\",\"blue\",\"blue\",\"blue\",\"blue\",\"blue\",\"blue\",\"blue\",\"blue\",\"blue\",\"blue\",\"blue\",\"blue\",\"blue\",\"blue\",\"blue\",\"blue\",\"blue\",\"blue\",\"blue\",\"blue\",\"blue\",\"blue\",\"blue\",\"blue\",\"blue\",\"blue\",\"blue\",\"blue\",\"blue\",\"blue\",\"blue\",\"blue\",\"blue\",\"blue\",\"blue\",\"blue\",\"blue\",\"blue\",\"blue\",\"blue\",\"blue\",\"blue\",\"blue\",\"blue\",\"blue\",\"blue\",\"blue\",\"blue\",\"blue\",\"blue\",\"blue\",\"blue\",\"blue\",\"blue\",\"blue\",\"blue\",\"blue\",\"blue\",\"blue\",\"blue\",\"blue\",\"blue\",\"blue\",\"blue\",\"blue\",\"blue\",\"blue\",\"blue\",\"blue\",\"blue\",\"blue\",\"blue\",\"blue\",\"blue\",\"blue\",\"blue\",\"blue\",\"blue\",\"blue\",\"blue\",\"blue\",\"blue\",\"blue\",\"blue\",\"blue\",\"blue\",\"blue\",\"blue\",\"blue\",\"blue\",\"blue\",\"blue\",\"blue\",\"blue\",\"blue\",\"blue\",\"blue\",\"blue\",\"blue\",\"blue\",\"blue\",\"blue\",\"blue\",\"blue\",\"blue\",\"blue\",\"blue\",\"blue\",\"blue\",\"blue\",\"blue\",\"blue\",\"blue\",\"blue\",\"blue\",\"blue\",\"blue\",\"blue\",\"blue\",\"blue\",\"blue\",\"blue\",\"blue\",\"blue\",\"blue\",\"blue\",\"blue\",\"blue\",\"blue\",\"blue\",\"blue\",\"blue\",\"blue\",\"blue\",\"blue\",\"blue\",\"blue\",\"blue\",\"blue\",\"blue\",\"blue\",\"blue\",\"blue\",\"blue\",\"blue\",\"blue\",\"blue\",\"blue\",\"blue\",\"blue\",\"blue\",\"blue\",\"blue\",\"blue\",\"blue\",\"blue\",\"blue\",\"blue\",\"blue\",\"blue\",\"blue\",\"blue\",\"blue\",\"blue\",\"blue\",\"blue\",\"blue\",\"blue\",\"blue\",\"blue\",\"blue\",\"blue\",\"blue\",\"blue\",\"blue\",\"blue\",\"blue\",\"blue\",\"blue\",\"blue\",\"blue\",\"blue\",\"blue\",\"blue\",\"blue\",\"blue\",\"blue\",\"blue\",\"blue\",\"blue\",\"blue\",\"blue\",\"blue\",\"blue\",\"blue\",\"blue\",\"blue\",\"blue\",\"blue\",\"blue\",\"blue\",\"blue\",\"blue\",\"blue\",\"blue\",\"blue\",\"blue\",\"blue\",\"blue\",\"blue\",\"blue\",\"blue\",\"blue\",\"blue\",\"blue\",\"blue\",\"blue\",\"blue\",\"blue\",\"blue\",\"blue\",\"blue\",\"blue\",\"blue\",\"blue\",\"blue\",\"blue\",\"blue\",\"blue\",\"blue\",\"blue\",\"blue\",\"blue\",\"blue\",\"blue\",\"blue\",\"blue\",\"blue\",\"blue\",\"blue\",\"blue\",\"blue\",\"blue\",\"blue\",\"blue\",\"blue\",\"blue\",\"blue\",\"blue\",\"blue\",\"blue\",\"blue\",\"blue\",\"blue\",\"blue\",\"blue\",\"blue\",\"blue\",\"blue\",\"blue\",\"blue\",\"blue\",\"blue\",\"blue\",\"blue\",\"blue\",\"blue\",\"blue\",\"blue\",\"blue\",\"blue\",\"blue\",\"blue\",\"blue\",\"blue\",\"blue\",\"blue\",\"blue\",\"blue\",\"blue\",\"blue\",\"blue\",\"blue\",\"blue\",\"blue\",\"blue\",\"blue\",\"blue\",\"blue\",\"blue\",\"blue\",\"blue\",\"blue\",\"blue\",\"blue\",\"blue\",\"blue\",\"blue\",\"blue\",\"blue\",\"blue\",\"blue\",\"blue\",\"blue\",\"blue\",\"blue\",\"blue\",\"blue\",\"blue\",\"blue\",\"blue\",\"blue\",\"blue\",\"blue\",\"blue\",\"blue\",\"blue\",\"blue\",\"blue\",\"blue\",\"blue\",\"blue\",\"blue\",\"blue\",\"blue\",\"blue\",\"blue\",\"blue\",\"blue\",\"blue\",\"blue\",\"blue\",\"blue\",\"blue\",\"blue\",\"blue\",\"blue\",\"blue\",\"blue\",\"blue\",\"blue\",\"blue\",\"blue\",\"blue\",\"blue\",\"blue\",\"blue\",\"blue\",\"blue\",\"blue\",\"blue\",\"blue\",\"blue\",\"blue\",\"blue\",\"blue\",\"blue\",\"blue\",\"blue\",\"blue\",\"blue\",\"blue\",\"blue\",\"blue\",\"blue\",\"blue\",\"blue\",\"blue\",\"blue\",\"blue\",\"blue\",\"blue\",\"blue\",\"blue\",\"blue\",\"blue\",\"blue\",\"blue\",\"blue\",\"blue\",\"blue\",\"blue\",\"blue\",\"blue\",\"blue\",\"blue\",\"blue\",\"blue\",\"blue\",\"blue\",\"blue\",\"blue\",\"blue\",\"blue\",\"blue\",\"blue\",\"blue\",\"blue\",\"blue\",\"blue\",\"blue\",\"blue\",\"blue\",\"blue\",\"blue\",\"blue\",\"blue\",\"blue\",\"blue\",\"blue\",\"blue\",\"blue\",\"blue\",\"blue\",\"blue\",\"blue\",\"blue\",\"blue\",\"blue\",\"blue\",\"blue\",\"blue\",\"blue\",\"blue\",\"blue\",\"blue\",\"blue\",\"blue\",\"blue\",\"blue\",\"blue\",\"blue\",\"blue\",\"blue\",\"blue\",\"blue\",\"blue\",\"blue\",\"blue\",\"blue\",\"blue\",\"blue\",\"blue\",\"blue\",\"blue\",\"blue\",\"blue\",\"blue\",\"blue\",\"blue\",\"blue\",\"blue\",\"blue\",\"blue\",\"blue\",\"blue\",\"blue\",\"blue\",\"blue\",\"blue\",\"blue\",\"blue\",\"blue\",\"blue\",\"blue\",\"blue\",\"blue\",\"blue\",\"blue\",\"blue\",\"blue\",\"blue\",\"blue\",\"blue\",\"blue\",\"blue\",\"blue\",\"blue\",\"blue\",\"blue\",\"blue\",\"blue\",\"blue\",\"blue\",\"blue\",\"blue\",\"blue\",\"blue\",\"blue\",\"blue\",\"blue\",\"blue\",\"blue\",\"blue\",\"blue\",\"blue\",\"blue\",\"blue\",\"blue\",\"blue\",\"blue\",\"blue\",\"blue\",\"blue\",\"blue\",\"blue\",\"blue\",\"blue\",\"blue\",\"blue\",\"blue\",\"blue\",\"blue\",\"blue\",\"blue\",\"blue\",\"blue\",\"blue\",\"blue\",\"blue\",\"blue\",\"blue\",\"blue\",\"blue\",\"blue\",\"blue\",\"blue\",\"blue\",\"blue\",\"blue\",\"blue\",\"blue\",\"blue\",\"blue\",\"blue\",\"blue\",\"blue\",\"blue\",\"blue\",\"blue\",\"blue\",\"blue\",\"blue\",\"blue\",\"blue\",\"blue\",\"blue\",\"blue\",\"blue\",\"blue\",\"blue\",\"blue\",\"blue\",\"blue\",\"blue\",\"blue\",\"blue\",\"blue\",\"blue\",\"blue\",\"blue\",\"blue\",\"blue\",\"blue\",\"blue\",\"blue\",\"blue\",\"blue\",\"blue\",\"blue\",\"blue\",\"blue\",\"blue\",\"blue\",\"blue\",\"blue\",\"blue\",\"blue\",\"blue\",\"blue\",\"blue\",\"blue\",\"blue\",\"blue\",\"blue\",\"blue\",\"blue\",\"blue\",\"blue\",\"blue\",\"blue\",\"blue\",\"blue\",\"blue\",\"blue\",\"blue\",\"blue\",\"blue\",\"blue\",\"blue\",\"blue\",\"blue\",\"blue\",\"blue\",\"blue\",\"blue\",\"blue\",\"blue\",\"blue\",\"blue\",\"blue\",\"blue\",\"blue\",\"blue\",\"blue\",\"blue\",\"blue\",\"blue\",\"blue\",\"blue\",\"blue\",\"blue\",\"blue\",\"blue\",\"blue\",\"blue\",\"blue\",\"blue\",\"blue\",\"blue\",\"blue\",\"blue\",\"blue\",\"blue\",\"blue\",\"blue\",\"blue\",\"blue\",\"blue\",\"blue\",\"blue\",\"blue\",\"blue\",\"blue\",\"blue\",\"blue\",\"blue\",\"blue\",\"blue\",\"blue\",\"blue\",\"blue\",\"blue\",\"blue\",\"blue\",\"blue\",\"blue\",\"blue\",\"blue\",\"blue\",\"blue\",\"blue\",\"blue\",\"blue\",\"blue\",\"blue\",\"blue\",\"blue\",\"blue\",\"blue\",\"blue\",\"blue\",\"blue\",\"blue\",\"blue\",\"blue\",\"blue\",\"blue\",\"blue\",\"blue\",\"blue\",\"blue\",\"blue\",\"blue\",\"blue\",\"blue\",\"blue\",\"blue\",\"blue\",\"blue\",\"blue\",\"blue\",\"blue\",\"blue\",\"blue\",\"blue\",\"blue\",\"blue\",\"blue\",\"blue\",\"blue\",\"blue\",\"blue\",\"blue\",\"blue\",\"blue\",\"blue\",\"blue\",\"blue\",\"blue\",\"blue\",\"blue\",\"blue\",\"blue\",\"blue\",\"blue\",\"blue\",\"blue\",\"blue\",\"blue\",\"blue\",\"blue\",\"blue\",\"blue\",\"blue\",\"blue\",\"blue\",\"blue\",\"blue\",\"blue\",\"blue\",\"blue\",\"blue\",\"blue\",\"blue\",\"blue\",\"blue\",\"blue\",\"blue\",\"blue\",\"blue\",\"blue\",\"blue\",\"blue\",\"blue\",\"blue\",\"blue\",\"blue\",\"blue\",\"blue\",\"blue\",\"blue\",\"blue\",\"blue\",\"blue\",\"blue\",\"blue\",\"blue\",\"blue\",\"blue\",\"blue\",\"blue\",\"blue\",\"blue\",\"blue\",\"blue\",\"blue\",\"blue\",\"blue\",\"blue\",\"blue\",\"blue\",\"blue\",\"blue\",\"blue\",\"blue\",\"blue\",\"blue\",\"blue\",\"blue\",\"blue\",\"blue\",\"blue\",\"blue\",\"blue\",\"blue\",\"blue\",\"blue\",\"blue\",\"blue\",\"blue\",\"blue\",\"blue\",\"blue\",\"blue\",\"blue\",\"blue\",\"blue\",\"blue\",\"blue\",\"blue\",\"blue\",\"blue\",\"blue\",\"blue\",\"blue\",\"blue\",\"blue\",\"blue\",\"blue\",\"blue\",\"blue\",\"blue\",\"blue\",\"blue\",\"blue\",\"blue\",\"blue\",\"blue\",\"blue\",\"blue\",\"blue\",\"blue\",\"blue\",\"blue\",\"blue\",\"blue\",\"blue\",\"blue\",\"blue\",\"blue\",\"blue\",\"blue\",\"blue\",\"blue\",\"blue\",\"blue\",\"blue\",\"blue\",\"blue\",\"blue\",\"blue\",\"blue\",\"blue\",\"blue\",\"blue\",\"blue\",\"blue\",\"blue\",\"blue\",\"blue\",\"blue\",\"blue\",\"blue\",\"blue\",\"blue\",\"blue\",\"blue\",\"blue\",\"blue\",\"blue\",\"blue\",\"blue\",\"blue\",\"blue\",\"blue\",\"blue\",\"blue\",\"blue\",\"blue\",\"blue\",\"blue\",\"blue\",\"blue\",\"blue\",\"blue\",\"blue\",\"blue\",\"blue\",\"blue\",\"blue\",\"blue\",\"blue\",\"blue\",\"blue\",\"blue\",\"blue\",\"blue\",\"blue\",\"blue\",\"blue\",\"blue\",\"blue\",\"blue\",\"blue\",\"blue\",\"blue\",\"blue\",\"blue\",\"blue\",\"blue\",\"blue\",\"blue\",\"blue\",\"blue\",\"blue\",\"blue\",\"blue\",\"blue\",\"blue\",\"blue\",\"blue\",\"blue\",\"blue\",\"blue\",\"blue\",\"blue\",\"blue\",\"blue\",\"blue\",\"blue\",\"blue\",\"blue\",\"blue\",\"blue\",\"blue\",\"blue\",\"blue\",\"blue\",\"blue\",\"blue\",\"blue\",\"blue\",\"blue\",\"blue\",\"blue\",\"blue\",\"blue\",\"blue\",\"blue\",\"blue\",\"blue\",\"blue\",\"blue\",\"blue\",\"blue\",\"blue\",\"blue\",\"blue\",\"blue\",\"blue\",\"blue\",\"blue\",\"blue\",\"blue\",\"blue\",\"blue\",\"blue\",\"blue\",\"blue\",\"blue\",\"blue\",\"blue\",\"blue\",\"blue\",\"blue\",\"blue\",\"blue\",\"blue\",\"blue\",\"blue\",\"blue\",\"blue\",\"blue\",\"blue\",\"blue\",\"blue\",\"blue\",\"blue\",\"blue\",\"blue\",\"blue\",\"blue\",\"blue\",\"blue\",\"blue\",\"blue\",\"blue\",\"blue\",\"blue\",\"blue\",\"blue\",\"blue\",\"blue\",\"blue\",\"blue\",\"blue\",\"blue\",\"blue\",\"blue\",\"blue\",\"blue\",\"blue\",\"blue\",\"blue\",\"blue\",\"blue\",\"blue\",\"blue\",\"blue\",\"blue\",\"blue\",\"blue\",\"blue\",\"blue\",\"blue\",\"blue\",\"blue\",\"blue\",\"blue\",\"blue\",\"blue\",\"blue\",\"blue\",\"blue\",\"blue\",\"blue\",\"blue\",\"blue\",\"blue\",\"blue\",\"blue\",\"blue\",\"blue\",\"blue\",\"blue\",\"blue\",\"blue\",\"blue\",\"blue\",\"blue\",\"blue\",\"blue\",\"blue\",\"blue\",\"blue\",\"blue\",\"blue\",\"blue\",\"blue\",\"blue\",\"blue\",\"blue\",\"blue\",\"blue\",\"blue\",\"blue\",\"blue\",\"blue\",\"blue\",\"blue\",\"blue\",\"blue\",\"blue\",\"blue\",\"blue\",\"blue\",\"blue\",\"blue\",\"blue\",\"blue\",\"blue\",\"blue\",\"blue\",\"blue\",\"blue\",\"blue\",\"blue\",\"blue\",\"blue\",\"blue\",\"blue\",\"blue\",\"blue\",\"blue\",\"blue\",\"blue\",\"blue\",\"blue\",\"blue\",\"blue\",\"blue\",\"blue\",\"blue\",\"blue\",\"blue\",\"blue\",\"blue\",\"blue\",\"blue\",\"blue\",\"blue\",\"blue\",\"blue\",\"blue\",\"blue\",\"blue\",\"blue\",\"blue\",\"blue\",\"blue\",\"blue\",\"blue\",\"blue\",\"blue\",\"blue\",\"blue\",\"blue\",\"blue\",\"blue\",\"blue\",\"blue\",\"blue\",\"blue\",\"blue\",\"blue\",\"blue\",\"blue\",\"blue\",\"blue\",\"blue\",\"blue\",\"blue\",\"blue\",\"blue\",\"blue\",\"blue\",\"blue\",\"blue\",\"blue\",\"blue\",\"blue\",\"blue\",\"blue\",\"blue\",\"blue\",\"blue\",\"blue\",\"blue\",\"blue\",\"blue\",\"blue\",\"blue\",\"blue\",\"blue\",\"blue\",\"blue\",\"blue\",\"blue\",\"blue\",\"blue\",\"blue\",\"blue\",\"blue\",\"blue\",\"blue\",\"blue\",\"blue\",\"blue\",\"blue\",\"blue\",\"blue\",\"blue\",\"blue\",\"blue\",\"blue\",\"blue\",\"blue\",\"blue\",\"blue\",\"blue\",\"blue\",\"blue\",\"blue\",\"blue\",\"blue\",\"blue\",\"blue\",\"blue\",\"blue\",\"blue\",\"blue\",\"blue\",\"blue\",\"blue\",\"blue\",\"blue\",\"blue\",\"blue\",\"blue\",\"blue\",\"blue\",\"blue\",\"blue\",\"blue\",\"blue\",\"blue\",\"blue\",\"blue\",\"blue\",\"blue\",\"blue\",\"blue\",\"blue\",\"blue\",\"blue\",\"blue\",\"blue\",\"blue\",\"blue\",\"blue\",\"blue\",\"blue\",\"blue\",\"blue\",\"blue\",\"blue\",\"blue\",\"blue\",\"blue\",\"blue\",\"blue\",\"blue\",\"blue\",\"blue\",\"blue\",\"blue\",\"blue\",\"blue\",\"blue\",\"blue\",\"blue\",\"blue\",\"blue\",\"blue\",\"blue\",\"blue\",\"blue\",\"blue\",\"blue\",\"blue\",\"blue\",\"blue\",\"blue\",\"blue\",\"blue\",\"blue\",\"blue\",\"blue\",\"blue\",\"blue\",\"blue\",\"blue\",\"blue\",\"blue\",\"blue\",\"blue\",\"blue\",\"blue\",\"blue\",\"blue\",\"blue\",\"blue\",\"blue\",\"blue\",\"blue\",\"blue\",\"blue\",\"blue\",\"blue\",\"blue\",\"blue\",\"blue\",\"blue\",\"blue\",\"blue\",\"blue\",\"blue\",\"blue\",\"blue\",\"blue\",\"blue\",\"blue\",\"blue\",\"blue\",\"blue\",\"blue\",\"blue\",\"blue\",\"blue\",\"blue\",\"blue\",\"blue\",\"blue\",\"blue\",\"blue\",\"blue\",\"blue\",\"blue\",\"blue\",\"blue\",\"blue\",\"blue\",\"blue\",\"blue\",\"blue\",\"blue\",\"blue\",\"blue\",\"blue\",\"blue\",\"blue\",\"blue\",\"blue\",\"blue\",\"blue\",\"blue\",\"blue\",\"blue\",\"blue\",\"blue\",\"blue\",\"blue\",\"blue\",\"blue\",\"blue\",\"blue\",\"blue\",\"blue\",\"blue\",\"blue\",\"blue\",\"blue\",\"blue\",\"blue\",\"blue\",\"blue\",\"blue\",\"blue\",\"blue\",\"blue\",\"blue\",\"blue\",\"blue\",\"blue\",\"blue\",\"blue\",\"blue\",\"blue\",\"blue\",\"blue\",\"blue\",\"blue\",\"blue\",\"blue\",\"blue\",\"blue\",\"blue\",\"blue\",\"blue\",\"blue\",\"blue\",\"blue\",\"blue\",\"blue\",\"blue\",\"blue\",\"blue\",\"blue\",\"blue\",\"blue\",\"blue\",\"blue\",\"blue\",\"blue\",\"blue\",\"blue\",\"blue\",\"blue\",\"blue\",\"blue\",\"blue\",\"blue\",\"blue\",\"blue\",\"blue\",\"blue\",\"blue\",\"blue\",\"blue\",\"blue\",\"blue\",\"blue\",\"blue\",\"blue\",\"blue\",\"blue\",\"blue\",\"blue\",\"blue\",\"blue\",\"blue\",\"blue\",\"blue\",\"blue\",\"blue\",\"blue\",\"blue\",\"blue\",\"blue\",\"blue\",\"blue\",\"blue\",\"blue\",\"blue\",\"blue\",\"blue\",\"blue\",\"blue\",\"blue\",\"blue\",\"blue\",\"blue\",\"blue\",\"blue\",\"blue\",\"blue\",\"blue\",\"blue\",\"blue\",\"blue\",\"blue\",\"blue\",\"blue\",\"blue\",\"blue\",\"blue\",\"blue\",\"blue\",\"blue\",\"blue\",\"blue\",\"blue\",\"blue\",\"blue\",\"blue\",\"blue\",\"blue\",\"blue\",\"blue\",\"blue\",\"blue\",\"blue\",\"blue\",\"blue\",\"blue\",\"blue\",\"blue\",\"blue\",\"blue\",\"blue\",\"blue\",\"blue\",\"blue\",\"blue\",\"blue\",\"blue\",\"blue\",\"blue\",\"blue\",\"blue\",\"blue\",\"blue\",\"blue\",\"blue\",\"blue\",\"blue\",\"blue\",\"blue\",\"blue\",\"blue\",\"blue\",\"blue\",\"blue\",\"blue\",\"blue\",\"blue\",\"blue\",\"blue\",\"blue\",\"blue\",\"blue\",\"blue\",\"blue\",\"blue\",\"blue\",\"blue\",\"blue\",\"blue\",\"blue\",\"blue\",\"blue\",\"blue\",\"blue\",\"blue\",\"blue\",\"blue\",\"blue\",\"blue\",\"blue\",\"blue\",\"blue\",\"blue\",\"blue\",\"blue\",\"blue\",\"blue\",\"blue\",\"blue\",\"blue\",\"blue\",\"blue\",\"blue\",\"blue\",\"blue\",\"blue\",\"blue\",\"blue\",\"blue\",\"blue\",\"blue\",\"blue\",\"blue\",\"blue\",\"blue\",\"blue\",\"blue\",\"blue\",\"blue\",\"blue\",\"blue\",\"blue\",\"blue\",\"blue\",\"blue\",\"blue\",\"blue\",\"blue\",\"blue\",\"blue\",\"blue\",\"blue\",\"blue\",\"blue\",\"blue\",\"blue\",\"blue\",\"blue\",\"blue\",\"blue\",\"blue\",\"blue\",\"blue\",\"blue\",\"blue\",\"blue\",\"blue\",\"blue\",\"blue\",\"blue\",\"blue\",\"blue\",\"blue\",\"blue\",\"blue\",\"blue\",\"blue\",\"blue\",\"blue\",\"blue\",\"blue\",\"blue\",\"blue\",\"blue\",\"blue\",\"blue\",\"blue\",\"blue\",\"blue\",\"blue\",\"blue\",\"blue\",\"blue\",\"blue\",\"blue\",\"blue\",\"blue\",\"blue\",\"blue\",\"blue\",\"blue\",\"blue\",\"blue\",\"blue\",\"blue\",\"blue\",\"blue\",\"blue\",\"blue\",\"blue\",\"blue\",\"blue\",\"blue\",\"blue\",\"blue\",\"blue\",\"blue\",\"blue\",\"blue\",\"blue\",\"blue\",\"blue\",\"blue\",\"blue\",\"blue\",\"blue\",\"blue\",\"blue\",\"blue\",\"blue\",\"blue\",\"blue\",\"blue\",\"blue\",\"blue\",\"blue\",\"blue\",\"blue\",\"blue\",\"blue\",\"blue\",\"blue\",\"blue\",\"blue\",\"blue\",\"blue\",\"blue\",\"blue\",\"blue\",\"blue\",\"blue\",\"blue\",\"blue\",\"blue\",\"blue\",\"blue\",\"blue\",\"blue\",\"blue\",\"blue\",\"blue\",\"blue\",\"blue\",\"blue\",\"blue\",\"blue\",\"blue\",\"blue\",\"blue\",\"blue\",\"blue\",\"blue\",\"blue\",\"blue\",\"blue\",\"blue\",\"blue\",\"blue\",\"blue\",\"blue\",\"blue\",\"blue\",\"blue\",\"blue\",\"blue\",\"blue\",\"blue\",\"blue\",\"blue\",\"blue\",\"blue\",\"blue\",\"blue\",\"blue\",\"blue\",\"blue\",\"blue\",\"blue\",\"blue\",\"blue\",\"blue\",\"blue\",\"blue\",\"blue\",\"blue\",\"blue\",\"blue\",\"blue\",\"blue\",\"blue\",\"blue\",\"blue\",\"blue\",\"blue\",\"blue\",\"blue\",\"blue\",\"blue\",\"blue\",\"blue\",\"blue\",\"blue\",\"blue\",\"blue\",\"blue\",\"blue\",\"blue\",\"blue\",\"blue\",\"blue\",\"blue\",\"blue\",\"blue\",\"blue\",\"blue\",\"blue\",\"blue\",\"blue\",\"blue\",\"blue\",\"blue\",\"blue\",\"blue\",\"blue\",\"blue\",\"blue\",\"blue\",\"blue\",\"blue\",\"blue\",\"blue\",\"blue\",\"blue\",\"blue\",\"blue\",\"blue\",\"blue\",\"blue\",\"blue\",\"blue\",\"blue\",\"blue\",\"blue\",\"blue\",\"blue\",\"blue\",\"blue\",\"blue\",\"blue\",\"blue\",\"blue\",\"blue\",\"blue\",\"blue\",\"blue\",\"blue\",\"blue\",\"blue\",\"blue\",\"blue\",\"blue\",\"blue\",\"blue\",\"blue\",\"blue\",\"blue\",\"blue\",\"blue\",\"blue\",\"blue\",\"blue\",\"blue\",\"blue\",\"blue\",\"blue\",\"blue\",\"blue\",\"blue\",\"blue\",\"blue\",\"blue\",\"blue\",\"blue\",\"blue\",\"blue\",\"blue\",\"blue\",\"blue\",\"blue\",\"blue\",\"blue\",\"blue\",\"blue\",\"blue\",\"blue\",\"blue\",\"blue\",\"blue\",\"blue\",\"blue\",\"blue\",\"blue\",\"blue\",\"blue\",\"blue\",\"blue\",\"blue\",\"blue\",\"blue\",\"blue\",\"blue\",\"blue\",\"blue\",\"blue\",\"blue\",\"blue\",\"blue\",\"blue\",\"blue\",\"blue\",\"blue\",\"blue\",\"blue\",\"blue\",\"blue\",\"blue\",\"blue\",\"blue\",\"blue\",\"blue\",\"blue\",\"blue\",\"blue\",\"blue\",\"blue\",\"blue\",\"blue\",\"blue\",\"blue\",\"blue\",\"blue\",\"blue\",\"blue\",\"blue\",\"blue\",\"blue\",\"blue\",\"blue\",\"blue\",\"blue\",\"blue\",\"blue\",\"blue\",\"blue\",\"blue\",\"blue\",\"blue\",\"blue\",\"blue\",\"blue\",\"blue\",\"blue\",\"blue\",\"blue\",\"blue\",\"blue\",\"blue\",\"blue\",\"blue\",\"blue\",\"blue\",\"blue\",\"blue\",\"blue\",\"blue\",\"blue\",\"blue\",\"blue\",\"blue\",\"blue\",\"blue\",\"blue\",\"blue\",\"blue\",\"blue\",\"blue\",\"blue\",\"blue\",\"blue\",\"blue\",\"blue\",\"blue\",\"blue\",\"blue\",\"blue\",\"blue\",\"blue\",\"blue\",\"blue\",\"blue\",\"blue\",\"blue\",\"blue\",\"blue\",\"blue\",\"blue\",\"blue\",\"blue\",\"blue\",\"blue\",\"blue\",\"blue\",\"blue\",\"blue\",\"blue\",\"blue\",\"blue\",\"blue\",\"blue\",\"blue\",\"blue\",\"blue\",\"blue\",\"blue\",\"blue\",\"blue\",\"blue\",\"blue\",\"blue\",\"blue\",\"blue\",\"blue\",\"blue\",\"blue\",\"blue\",\"blue\",\"blue\",\"blue\",\"blue\",\"blue\",\"blue\",\"blue\",\"blue\",\"blue\",\"blue\",\"blue\",\"blue\",\"blue\",\"blue\",\"blue\",\"blue\",\"blue\",\"blue\",\"blue\",\"blue\",\"blue\",\"blue\",\"blue\",\"blue\",\"blue\",\"blue\",\"blue\",\"blue\",\"blue\",\"blue\",\"blue\",\"blue\",\"blue\",\"blue\",\"blue\",\"blue\",\"blue\",\"blue\",\"blue\",\"blue\",\"blue\",\"blue\",\"blue\",\"blue\",\"blue\",\"blue\",\"blue\",\"blue\",\"blue\",\"blue\",\"blue\",\"blue\",\"blue\",\"blue\",\"blue\",\"blue\",\"blue\",\"blue\",\"blue\",\"blue\",\"blue\",\"blue\",\"blue\",\"blue\",\"blue\",\"blue\",\"blue\",\"blue\",\"blue\",\"blue\",\"blue\",\"blue\",\"blue\",\"blue\",\"blue\",\"blue\",\"blue\",\"blue\",\"blue\",\"blue\",\"blue\",\"blue\",\"blue\",\"blue\",\"blue\",\"blue\",\"blue\",\"blue\",\"blue\",\"blue\",\"blue\",\"blue\",\"blue\",\"blue\",\"blue\",\"blue\",\"blue\",\"blue\",\"blue\",\"blue\",\"blue\",\"blue\",\"blue\",\"blue\",\"blue\",\"blue\",\"blue\",\"blue\",\"blue\",\"blue\",\"blue\",\"blue\",\"blue\",\"blue\",\"blue\",\"blue\",\"blue\",\"blue\",\"blue\",\"blue\",\"blue\",\"blue\",\"blue\",\"blue\",\"blue\",\"blue\",\"blue\",\"blue\",\"blue\",\"blue\",\"blue\",\"blue\",\"blue\",\"blue\",\"blue\",\"blue\",\"blue\",\"blue\",\"blue\",\"blue\",\"blue\",\"blue\",\"blue\",\"blue\",\"blue\",\"blue\",\"blue\",\"blue\",\"blue\",\"blue\",\"blue\",\"blue\",\"blue\",\"blue\",\"blue\",\"blue\",\"blue\",\"blue\",\"blue\",\"blue\",\"blue\",\"blue\",\"blue\",\"blue\",\"blue\",\"blue\",\"blue\",\"blue\",\"blue\",\"blue\",\"blue\",\"blue\",\"blue\",\"blue\",\"blue\",\"blue\",\"blue\",\"blue\",\"blue\",\"blue\",\"blue\",\"blue\",\"blue\",\"blue\",\"blue\",\"blue\",\"blue\",\"blue\",\"blue\",\"blue\",\"blue\",\"blue\",\"blue\",\"blue\",\"blue\",\"blue\",\"blue\",\"blue\",\"blue\",\"blue\",\"blue\",\"blue\",\"blue\",\"blue\",\"blue\",\"blue\",\"blue\",\"blue\",\"blue\",\"blue\",\"blue\",\"blue\",\"blue\",\"blue\",\"blue\",\"blue\",\"blue\",\"blue\",\"blue\",\"blue\",\"blue\",\"blue\",\"blue\",\"blue\",\"blue\",\"blue\",\"blue\",\"blue\",\"blue\",\"blue\",\"blue\",\"blue\",\"blue\",\"blue\",\"blue\",\"blue\",\"blue\",\"blue\",\"blue\",\"blue\",\"blue\",\"blue\",\"blue\",\"blue\",\"blue\",\"blue\",\"blue\",\"blue\",\"blue\",\"blue\",\"blue\",\"blue\",\"blue\",\"blue\",\"blue\",\"blue\",\"blue\",\"blue\",\"blue\",\"blue\",\"blue\",\"blue\",\"blue\",\"blue\",\"blue\",\"blue\",\"blue\",\"blue\",\"blue\",\"blue\",\"blue\",\"blue\",\"blue\",\"blue\",\"blue\",\"blue\",\"blue\",\"blue\",\"blue\",\"blue\",\"blue\",\"blue\",\"blue\",\"blue\",\"blue\",\"blue\",\"blue\",\"blue\",\"blue\",\"blue\",\"blue\",\"blue\",\"blue\",\"blue\",\"blue\",\"blue\",\"blue\",\"blue\",\"blue\",\"blue\",\"blue\",\"blue\",\"blue\",\"blue\",\"blue\",\"blue\",\"blue\",\"blue\",\"blue\",\"blue\",\"blue\",\"blue\",\"blue\",\"blue\",\"blue\",\"blue\",\"blue\",\"blue\",\"blue\",\"blue\",\"blue\",\"blue\",\"blue\",\"blue\",\"blue\",\"blue\",\"blue\",\"blue\",\"blue\",\"blue\",\"blue\",\"blue\",\"blue\",\"blue\",\"blue\",\"blue\",\"blue\",\"blue\",\"blue\",\"blue\",\"blue\",\"blue\",\"blue\",\"blue\",\"blue\",\"blue\",\"blue\",\"blue\",\"blue\",\"blue\",\"blue\",\"blue\",\"blue\",\"blue\",\"blue\",\"blue\",\"blue\",\"blue\",\"blue\",\"blue\",\"blue\",\"blue\",\"blue\",\"blue\",\"blue\",\"blue\",\"blue\",\"blue\",\"blue\",\"blue\",\"blue\",\"blue\",\"blue\",\"blue\",\"blue\",\"blue\",\"blue\",\"blue\",\"blue\",\"blue\",\"blue\",\"blue\",\"blue\",\"blue\",\"blue\",\"blue\",\"blue\",\"blue\",\"blue\",\"blue\",\"blue\",\"blue\",\"blue\",\"blue\",\"blue\",\"blue\",\"blue\",\"blue\",\"blue\",\"blue\",\"blue\",\"blue\",\"blue\",\"blue\",\"blue\",\"blue\",\"blue\",\"blue\",\"blue\",\"blue\",\"blue\",\"blue\",\"blue\",\"blue\",\"blue\",\"blue\",\"blue\",\"blue\",\"blue\",\"blue\",\"blue\",\"blue\",\"blue\",\"blue\",\"blue\",\"blue\",\"blue\",\"blue\",\"blue\",\"blue\",\"blue\",\"blue\",\"blue\",\"blue\",\"blue\",\"blue\",\"blue\",\"blue\",\"blue\",\"blue\",\"blue\",\"blue\",\"blue\",\"blue\",\"blue\",\"blue\",\"blue\",\"blue\",\"blue\",\"blue\",\"blue\",\"blue\",\"blue\",\"blue\",\"blue\",\"blue\",\"blue\",\"blue\",\"blue\",\"blue\",\"blue\",\"blue\",\"blue\",\"blue\",\"blue\",\"blue\",\"blue\",\"blue\",\"blue\",\"blue\",\"blue\",\"blue\",\"blue\",\"blue\",\"blue\",\"blue\",\"blue\",\"blue\",\"blue\",\"blue\",\"blue\",\"blue\",\"blue\",\"blue\",\"blue\",\"blue\",\"blue\",\"blue\",\"blue\",\"blue\",\"blue\",\"blue\",\"blue\",\"blue\",\"blue\",\"blue\",\"blue\",\"blue\",\"blue\",\"blue\",\"blue\",\"blue\",\"blue\",\"blue\",\"blue\",\"blue\",\"blue\",\"blue\",\"blue\",\"blue\",\"blue\",\"blue\",\"blue\",\"blue\",\"blue\",\"blue\",\"blue\",\"blue\",\"blue\",\"blue\",\"blue\",\"blue\",\"blue\",\"blue\",\"blue\",\"blue\",\"blue\",\"blue\",\"blue\",\"blue\",\"blue\",\"blue\",\"blue\",\"blue\",\"blue\",\"blue\",\"blue\",\"blue\",\"blue\",\"blue\",\"blue\",\"blue\"]],[\"token\",[\"verified\",\"2gb\",\"illinois\",\"jazz\",\"checking\",\"telescope\",\"seasons\",\"astrologer\",\"contribution\",\"homemade\",\"heroes\",\"warcraft\",\"kumar\",\"tester\",\"politically\",\"conquer\",\"columbia\",\"quiet\",\"repeat\",\"kapil\",\"involve\",\"mckinsey\",\"switched\",\"att\",\"instance\",\"innocent\",\"portuguese\",\"subscribers\",\"cabinet\",\"terror\",\"85\",\"rotation\",\"shirts\",\"drawn\",\"bi\",\"aspergers\",\"inspiration\",\"beats\",\"\\u00a3\",\"approximately\",\"asset\",\"empathy\",\"rooting\",\"ia\",\"dandruff\",\"slab\",\"operator\",\"horrible\",\"dominant\",\"ocd\",\"spacetime\",\"blow\",\"installing\",\"learnt\",\"separation\",\"institution\",\"temples\",\"hons\",\"pound\",\"removing\",\"unemployment\",\"greenlit\",\"audit\",\"supplement\",\"roller\",\"dota\",\"tiny\",\"equally\",\"braces\",\"aggressive\",\"corn\",\"camps\",\"additional\",\"consent\",\"granted\",\"welfare\",\"myths\",\"stations\",\"timeline\",\"psychologist\",\"nagpur\",\"herself\",\"cooper\",\"exgirlfriend\",\"intercourse\",\"flip\",\"hurts\",\"lpa\",\"nerve\",\"tvs\",\"halloween\",\"screenshot\",\"biomedical\",\"covered\",\"milky\",\"onsite\",\"aside\",\"meaningful\",\"stretch\",\"joker\",\"encounter\",\"tone\",\"founders\",\"talked\",\"respectively\",\"downloads\",\"cocaine\",\"toxic\",\"sword\",\"fuck\",\"trainer\",\"partition\",\"boxing\",\"grid\",\"practicing\",\"menu\",\"cms\",\"indore\",\"ate\",\"volunteer\",\"misconceptions\",\"pics\",\"flies\",\"instantly\",\"trans\",\"friday\",\"sociopaths\",\"ctc\",\"hoax\",\"detailed\",\"sizes\",\"rejection\",\"limitations\",\"bharat\",\"kissing\",\"renewable\",\"oriented\",\"countrys\",\"dumps\",\"spiders\",\"technological\",\"advertisement\",\"headache\",\"zodiac\",\"accommodation\",\"venus\",\"calcium\",\"passenger\",\"falls\",\"overnight\",\"pickup\",\"gary\",\"transportation\",\"odds\",\"jupiter\",\"purchasing\",\"fluently\",\"flu\",\"photons\",\"conductor\",\"ohio\",\"balaji\",\"mcdonalds\",\"betting\",\"irrational\",\"sachin\",\"deactivate\",\"estimate\",\"hairs\",\"fluent\",\"errors\",\"remaining\",\"marriages\",\"medieval\",\"charles\",\"spider\",\"oxford\",\"gita\",\"races\",\"liquor\",\"poland\",\"lease\",\"co2\",\"selenium\",\"attempts\",\"crystal\",\"manaphy\",\"knight\",\"collapsed\",\"wheels\",\"behaviour\",\"bitcoins\",\"parliament\",\"himher\",\"handsome\",\"thousands\",\"caring\",\"kings\",\"lucky\",\"workplace\",\"condom\",\"intuitive\",\"chronic\",\"eyesight\",\"simulation\",\"prank\",\"quickest\",\"concert\",\"popularity\",\"connections\",\"disorders\",\"scripting\",\"appearance\",\"js\",\"depth\",\"cheque\",\"longterm\",\"documentaries\",\"dioxide\",\"bright\",\"info\",\"diseases\",\"appeal\",\"snap\",\"smoked\",\"singers\",\"boil\",\"probably\",\"temperatures\",\"appearing\",\"olive\",\"ntse\",\"telecom\",\"brief\",\"discrimination\",\"ethnic\",\"cache\",\"passionate\",\"shoulder\",\"assault\",\"marshmallow\",\"momentum\",\"yr\",\"migrate\",\"retire\",\"cet\",\"canvas\",\"vietnamese\",\"institutions\",\"meter\",\"roots\",\"integer\",\"imported\",\"ants\",\"lyft\",\"piercing\",\"il\",\"poop\",\"organisms\",\"ve\",\"entropy\",\"calm\",\"saddest\",\"toward\",\"myth\",\"sight\",\"filling\",\"hdmi\",\"satisfied\",\"transactions\",\"pharmacy\",\"nursing\",\"correlation\",\"regression\",\"awake\",\"md\",\"nri\",\"recommendations\",\"bin\",\"finland\",\"multi\",\"voted\",\"discovery\",\"edward\",\"touching\",\"immigrant\",\"geometry\",\"indicate\",\"ourselves\",\"texting\",\"seek\",\"expecting\",\"dj\",\"brake\",\"helicopter\",\"blonde\",\"triple\",\"ladies\",\"vivekananda\",\"switching\",\"prostitution\",\"banana\",\"magazines\",\"shippuden\",\"lucknow\",\"2019\",\"failing\",\"elizabeth\",\"irish\",\"ebook\",\"temporary\",\"governor\",\"wasting\",\"weekends\",\"cpt\",\"wax\",\"labor\",\"instruments\",\"instrumentation\",\"hates\",\"hip\",\"arnab\",\"bubble\",\"employers\",\"aadhaar\",\"boyfriends\",\"jake\",\"explained\",\"yesterday\",\"beta\",\"extrovert\",\"andhra\",\"micromax\",\"vertical\",\"lay\",\"nonprofit\",\"dubbed\",\"typing\",\"automotive\",\"thomas\",\"procedures\",\"priority\",\"funded\",\"arabs\",\"siblings\",\"guinea\",\"missile\",\"luck\",\"strategic\",\"defend\",\"module\",\"tuition\",\"acids\",\"controller\",\"committee\",\"housing\",\"integral\",\"peaceful\",\"refugees\",\"prescription\",\"interns\",\"supported\",\"womans\",\"dentist\",\"wives\",\"village\",\"affecting\",\"lte\",\"beaches\",\"austin\",\"substance\",\"engagement\",\"trainee\",\"measures\",\"trailer\",\"purchased\",\"15000\",\"uttar\",\"glue\",\"dtu\",\"medal\",\"photon\",\"engg\",\"violin\",\"column\",\"somehow\",\"rotate\",\"3000\",\"virat\",\"forgotten\",\"fingers\",\"slim\",\"arrest\",\"covalent\",\"ncert\",\"kernel\",\"da\",\"alarm\",\"ngo\",\"4gb\",\"productivity\",\"planned\",\"district\",\"berlin\",\"lists\",\"leads\",\"slang\",\"defence\",\"aspiring\",\"56\",\"enemy\",\"farming\",\"muller\",\"pays\",\"liver\",\"membrane\",\"secretly\",\"plug\",\"gum\",\"eclipse\",\"chewing\",\"labs\",\"zombie\",\"authority\",\"males\",\"argentina\",\"tasks\",\"fell\",\"nails\",\"palestine\",\"tanks\",\"identical\",\"deck\",\"qualification\",\"leadership\",\"kohli\",\"pronunciation\",\"hello\",\"violent\",\"sabha\",\"respiration\",\"transform\",\"warranty\",\"faculty\",\"adolf\",\"expenses\",\"jersey\",\"mercury\",\"whiskey\",\"tackle\",\"tweet\",\"blame\",\"cruise\",\"mahindra\",\"discharge\",\"reduced\",\"vodka\",\"mahatma\",\"bass\",\"compete\",\"stains\",\"pill\",\"swim\",\"ali\",\"gf\",\"ford\",\"prince\",\"sweat\",\"performing\",\"limits\",\"leonardo\",\"cow\",\"resolve\",\"matters\",\"pharmaceutical\",\"ray\",\"remotely\",\"pf\",\"clinical\",\"bpo\",\"homeless\",\"husbands\",\"rising\",\"newtons\",\"outcome\",\"derivative\",\"alpha\",\"grown\",\"capitalism\",\"astronaut\",\"hybrid\",\"palm\",\"teens\",\"hits\",\"airplanes\",\"none\",\"admin\",\"applicable\",\"amcat\",\"spam\",\"neutrality\",\"pixel\",\"festival\",\"faces\",\"molar\",\"snakes\",\"sip\",\"kik\",\"farm\",\"ltd\",\"votes\",\"publishing\",\"comfort\",\"frontend\",\"spin\",\"diagnosed\",\"buildings\",\"\\u00b0\",\"cashless\",\"addictive\",\"extinct\",\"ugc\",\"coke\",\"llb\",\"phrases\",\"struggle\",\"drives\",\"fiber\",\"grocery\",\"achieved\",\"penny\",\"bath\",\"allies\",\"uninstall\",\"ny\",\"appears\",\"effort\",\"satellites\",\"confirmed\",\"loneliness\",\"illuminati\",\"uri\",\"lucid\",\"preferably\",\"neither\",\"\\u221a\",\"pacific\",\"americas\",\"bs\",\"graduated\",\"bills\",\"tube\",\"germans\",\"assume\",\"cleared\",\"mate\",\"divide\",\"versions\",\"fallen\",\"journey\",\"anthem\",\"certificates\",\"looked\",\"sponsor\",\"useless\",\"dependent\",\"invite\",\"guru\",\"keyword\",\"aipmt\",\"clone\",\"kgs\",\"chip\",\"origins\",\"wide\",\"motivational\",\"elite\",\"wanna\",\"unity\",\"cough\",\"connecting\",\"mystery\",\"kim\",\"syrian\",\"voldemort\",\"responsibilities\",\"molecules\",\"boobs\",\"holidays\",\"tutorial\",\"circumstances\",\"fiitjee\",\"islands\",\"bypass\",\"slowly\",\"mixture\",\"aluminum\",\"salesforce\",\"twin\",\"iot\",\"remedy\",\"sheets\",\"pole\",\"hated\",\"females\",\"protected\",\"irs\",\"insecure\",\"entering\",\"neuroscience\",\"offices\",\"delta\",\"suggestion\",\"snapdeal\",\"backstory\",\"periodic\",\"cancelled\",\"mans\",\"complicated\",\"bitsat\",\"pleasure\",\"loop\",\"dropbox\",\"selfish\",\"nude\",\"20000\",\"voter\",\"variables\",\"victory\",\"closest\",\"compensation\",\"extended\",\"locations\",\"cracked\",\"perks\",\"ended\",\"exit\",\"awareness\",\"pakistanis\",\"ebooks\",\"bull\",\"unblock\",\"100000\",\"entrepreneurship\",\"infrastructure\",\"scotland\",\"guest\",\"attacked\",\"hurting\",\"lion\",\"reject\",\"purposes\",\"knife\",\"thai\",\"ipl\",\"knee\",\"accepting\",\"spent\",\"punjabi\",\"tab\",\"quoras\",\"caffeine\",\"athletes\",\"ink\",\"cooked\",\"improving\",\"invaded\",\"allah\",\"thermodynamics\",\"mortgage\",\"firsttime\",\"achievements\",\"issued\",\"breath\",\"award\",\"llc\",\"legends\",\"mood\",\"influenced\",\"proteins\",\"holy\",\"performed\",\"pee\",\"blocks\",\"molecule\",\"interests\",\"imei\",\"requires\",\"cisco\",\"moves\",\"marrying\",\"mca\",\"perfectly\",\"iisc\",\"corporation\",\"shiva\",\"viruses\",\"difficulty\",\"50000\",\"volte\",\"shampoo\",\"secular\",\"transplant\",\"ghz\",\"ahead\",\"crew\",\"interact\",\"depend\",\"hawaii\",\"hiv\",\"evening\",\"vegetable\",\"revenge\",\"suppose\",\"busy\",\"label\",\"rogue\",\"rational\",\"hillstation\",\"brains\",\"urdu\",\"imagine\",\"salaries\",\"survey\",\"g4\",\"butt\",\"manufacturers\",\"saas\",\"residency\",\"recommendation\",\"purple\",\"fault\",\"aadhar\",\"aging\",\"bhopal\",\"conducted\",\"loses\",\"infection\",\"forest\",\"impacts\",\"collection\",\"fridge\",\"diamond\",\"mis\",\"recorded\",\"march\",\"conditioner\",\"signature\",\"listed\",\"branches\",\"manchester\",\"wanting\",\"perception\",\"absolutely\",\"servers\",\"soluble\",\"swami\",\"lumia\",\"directors\",\"52\",\"2008\",\"gaining\",\"stereotypes\",\"homes\",\"vegas\",\"jam\",\"behave\",\"relatively\",\"forum\",\"ib\",\"earphones\",\"facilities\",\"april\",\"finally\",\"tail\",\"capacitor\",\"tiger\",\"deaf\",\"deliver\",\"django\",\"expand\",\"skip\",\"nearly\",\"maybe\",\"task\",\"gateway\",\"strangest\",\"abstract\",\"adding\",\"suck\",\"tim\",\"printed\",\"sigma\",\"immigrate\",\"decline\",\"arrested\",\"95\",\"narcissistic\",\"freelancing\",\"patterns\",\"expired\",\"casual\",\"tablets\",\"patients\",\"lean\",\"pieces\",\"laymans\",\"whatever\",\"polish\",\"lemon\",\"abortion\",\"i3\",\"theorem\",\"h\",\"compulsory\",\"helped\",\"sons\",\"feminism\",\"compiler\",\"tested\",\"enhance\",\"adhd\",\"manhattan\",\"iii\",\"nail\",\"eee\",\"deals\",\"excellent\",\"ipo\",\"folder\",\"sand\",\"continuous\",\"capable\",\"libraries\",\"aggregate\",\"64\",\"bsnl\",\"profiles\",\"spirit\",\"pulled\",\"owns\",\"deloitte\",\"therapist\",\"acts\",\"millions\",\"authors\",\"marathi\",\"dvd\",\"coconut\",\"swiss\",\"interaction\",\"ncr\",\"kannada\",\"smallest\",\"advisable\",\"smartest\",\"sorry\",\"normally\",\"ends\",\"rome\",\"spectrum\",\"cousin\",\"75\",\"suzuki\",\"nights\",\"cap\",\"enable\",\"counselling\",\"proxy\",\"margin\",\"shops\",\"hackers\",\"tatkal\",\"opened\",\"cinema\",\"consumption\",\"coal\",\"silent\",\"choosing\",\"introduction\",\"electromagnetic\",\"hcl\",\"complaint\",\"puppies\",\"vc\",\"symbols\",\"lenses\",\"username\",\"arrow\",\"adopted\",\"affects\",\"sudden\",\"pcm\",\"gel\",\"affair\",\"pinterest\",\"statements\",\"supplements\",\"justified\",\"turns\",\"santa\",\"shoe\",\"trek\",\"headphone\",\"girlfriends\",\"verizon\",\"rocket\",\"conference\",\"ego\",\"srm\",\"afghanistan\",\"nucleus\",\"generated\",\"chinas\",\"ww1\",\"consultancy\",\"socially\",\"allen\",\"berkeley\",\"missed\",\"crying\",\"introduced\",\"ps3\",\"flour\",\"brought\",\"elder\",\"minecraft\",\"9th\",\"freelancer\",\"circles\",\"scars\",\"entertainment\",\"turbine\",\"deeply\",\"rom\",\"evolved\",\"nato\",\"strengths\",\"ide\",\"tweets\",\"scholarships\",\"mentor\",\"collect\",\"hdfc\",\"mandarin\",\"solo\",\"terrible\",\"influential\",\"professionals\",\"65\",\"recognition\",\"nvidia\",\"cia\",\"designs\",\"10k\",\"creation\",\"tom\",\"rated\",\"introverts\",\"boiling\",\"communism\",\"treaty\",\"whereas\",\"thanks\",\"cigarette\",\"bengaluru\",\"oneplus\",\"reserve\",\"advertise\",\"nits\",\"helping\",\"bruce\",\"mp3\",\"severe\",\"proposal\",\"cultures\",\"tap\",\"animated\",\"planes\",\"hall\",\"cognitive\",\"supports\",\"keys\",\"gotten\",\"feedback\",\"recording\",\"proceed\",\"membership\",\"console\",\"overseas\",\"hows\",\"william\",\"billionaires\",\"updated\",\"pre\",\"organizations\",\"messi\",\"unexpected\",\"nitrogen\",\"hungry\",\"nigeria\",\"sync\",\"arduino\",\"gross\",\"outer\",\"searching\",\"workers\",\"outlook\",\"europeans\",\"founder\",\"lectures\",\"legitimate\",\"camp\",\"ordinary\",\"investments\",\"bone\",\"raising\",\"quite\",\"ages\",\"joint\",\"johnson\",\"destination\",\"concerned\",\"belief\",\"refrigerator\",\"implications\",\"manga\",\"mandatory\",\"obamas\",\"lawyers\",\"bedroom\",\"icon\",\"qualifications\",\"qa\",\"bikes\",\"boston\",\"holding\",\"session\",\"appointment\",\"weaknesses\",\"iphones\",\"motorcycle\",\"schizophrenia\",\"5th\",\"intellectual\",\"eaten\",\"attending\",\"medals\",\"adsense\",\"nda\",\"6th\",\"kali\",\"georgia\",\"wechat\",\"earlier\",\"drone\",\"truck\",\"horse\",\"merchant\",\"torque\",\"seed\",\"backend\",\"holmes\",\"graduating\",\"400\",\"bones\",\"sufficient\",\"participate\",\"rifle\",\"shock\",\"downloaded\",\"earthquake\",\"breasts\",\"secretary\",\"insert\",\"damaged\",\"massive\",\"standing\",\"remainder\",\"programme\",\"holocaust\",\"totally\",\"belt\",\"affairs\",\"nokia\",\"mechanism\",\"pin\",\"scan\",\"fought\",\"superpower\",\"poetry\",\"signals\",\"educated\",\"scariest\",\"trains\",\"closer\",\"weapon\",\"icici\",\"serial\",\"bicycle\",\"terminal\",\"finished\",\"stolen\",\"inspiring\",\"cuisine\",\"spark\",\"sounds\",\"pricing\",\"click\",\"underwear\",\"kidney\",\"bengal\",\"invention\",\"discount\",\"chase\",\"evaluate\",\"distributed\",\"themes\",\"amd\",\"stem\",\"st\",\"genre\",\"vegetables\",\"council\",\"bihar\",\"thick\",\"mouse\",\"worry\",\"newly\",\"updates\",\"candy\",\"prepaid\",\"wet\",\"rap\",\"motors\",\"implemented\",\"theoretical\",\"fabric\",\"mexican\",\"portfolio\",\"technique\",\"icse\",\"expansion\",\"evolutionary\",\"justify\",\"trick\",\"attached\",\"lightning\",\"pitch\",\"armed\",\"einstein\",\"conversion\",\"iitjee\",\"declared\",\"admit\",\"acquisition\",\"innovation\",\"runs\",\"wwe\",\"trial\",\"memories\",\"refuse\",\"netherlands\",\"committed\",\"fraud\",\"jailbreak\",\"settle\",\"badly\",\"approved\",\"eligibility\",\"trend\",\"increases\",\"comic\",\"quorans\",\"cellular\",\"matches\",\"receiving\",\"bmw\",\"vlsi\",\"signed\",\"lakes\",\"350\",\"communications\",\"pork\",\"joined\",\"anyway\",\"differentiate\",\"actresses\",\"29\",\"ethics\",\"premier\",\"hearing\",\"vehicles\",\"drama\",\"instant\",\"lips\",\"dates\",\"july\",\"holiday\",\"coach\",\"malayalam\",\"superior\",\"soviet\",\"plate\",\"throw\",\"worship\",\"bars\",\"sharma\",\"mothers\",\"integrated\",\"clubs\",\"bug\",\"melbourne\",\"co\",\"bisexual\",\"regions\",\"lesson\",\"heads\",\"reader\",\"snake\",\"qualify\",\"paul\",\"causing\",\"disappear\",\"era\",\"lets\",\"qualified\",\"spiritual\",\"wolf\",\"requirement\",\"journalism\",\"studied\",\"lowest\",\"vader\",\"coursera\",\"stark\",\"configuration\",\"verbal\",\"undergrad\",\"dimensions\",\"transition\",\"efficiently\",\"interstellar\",\"locked\",\"summary\",\"chandigarh\",\"ghosts\",\"included\",\"operate\",\"dimension\",\"mount\",\"noticed\",\"rating\",\"somewhere\",\"martin\",\"bra\",\"bird\",\"zuckerberg\",\"sensor\",\"audience\",\"dirty\",\"starbucks\",\"permission\",\"residential\",\"wholesale\",\"assets\",\"clearly\",\"km\",\"invade\",\"ipcc\",\"fb\",\"shell\",\"shave\",\"loud\",\"tip\",\"seeds\",\"sets\",\"polar\",\"although\",\"june\",\"judaism\",\"anti\",\"instrument\",\"seven\",\"shooting\",\"j\",\"portal\",\"tower\",\"github\",\"linked\",\"admitted\",\"punishment\",\"mid\",\"micro\",\"cured\",\"lifestyle\",\"nor\",\"upset\",\"challenge\",\"soap\",\"standards\",\"integration\",\"lottery\",\"lab\",\"williams\",\"odd\",\"soil\",\"sensitive\",\"route\",\"tattoos\",\"coin\",\"declare\",\"frame\",\"differential\",\"bowl\",\"softwares\",\"notifications\",\"maintenance\",\"inner\",\"apples\",\"converted\",\"recruiter\",\"bombay\",\"command\",\"posting\",\"controlled\",\"balls\",\"personally\",\"poker\",\"extract\",\"hired\",\"bugs\",\"providers\",\"loans\",\"calculator\",\"attractions\",\"torrents\",\"keywords\",\"profession\",\"blogging\",\"transport\",\"sue\",\"anonymously\",\"compounds\",\"robot\",\"buddhism\",\"sweet\",\"defense\",\"nobody\",\"uc\",\"defined\",\"division\",\"bags\",\"epic\",\"unhealthy\",\"craziest\",\"urban\",\"combination\",\"pair\",\"laugh\",\"cv\",\"usd\",\"launched\",\"usps\",\"visited\",\"nexus\",\"regularly\",\"brothers\",\"broker\",\"concentrate\",\"agreement\",\"nervous\",\"frozen\",\"detail\",\"sir\",\"situations\",\"borderline\",\"angularjs\",\"abusive\",\"tourism\",\"relate\",\"august\",\"communist\",\"accountant\",\"dumb\",\"arab\",\"b2b\",\"du\",\"thermal\",\"asians\",\"threat\",\"karma\",\"passive\",\"homosexuality\",\"putting\",\"quantitative\",\"relativity\",\"sanskrit\",\"opinions\",\"verify\",\"bear\",\"roll\",\"expanding\",\"teenage\",\"jeans\",\"providing\",\"shared\",\"extreme\",\"mi\",\"vr\",\"progress\",\"greece\",\"cpu\",\"ips\",\"merge\",\"reputation\",\"loving\",\"salman\",\"iss\",\"warm\",\"dental\",\"extension\",\"attraction\",\"fictional\",\"journal\",\"login\",\"secondary\",\"recognize\",\"southern\",\"ph\",\"lunch\",\"wallet\",\"ronaldo\",\"larger\",\"actions\",\"fathers\",\"adopt\",\"claims\",\"bottom\",\"therapy\",\"patient\",\"described\",\"virginity\",\"functional\",\"ionic\",\"chartered\",\"discover\",\"55\",\"21st\",\"biased\",\"mad\",\"northern\",\"onto\",\"liberals\",\"premium\",\"neutral\",\"detect\",\"diagram\",\"sperm\",\"ga\",\"bleach\",\"spread\",\"contributions\",\"activate\",\"prior\",\"safest\",\"holder\",\"360\",\"aim\",\"rental\",\"families\",\"everybody\",\"shut\",\"payments\",\"150\",\"cube\",\"vegan\",\"newspaper\",\"beef\",\"houses\",\"preferred\",\"simultaneously\",\"marked\",\"reactions\",\"emergency\",\"protection\",\"cab\",\"forex\",\"norway\",\"immigrants\",\"googles\",\"ssb\",\"wing\",\"yrs\",\"ensure\",\"spy\",\"reasoning\",\"strange\",\"forgive\",\"turkish\",\"tag\",\"ranking\",\"platforms\",\"fox\",\"existed\",\"walmart\",\"lazy\",\"ears\",\"clock\",\"beam\",\"rare\",\"bush\",\"2011\",\"stops\",\"batteries\",\"certified\",\"naked\",\"worldwide\",\"staying\",\"lifetime\",\"ted\",\"lake\",\"wealthy\",\"transit\",\"stephen\",\"rural\",\"versa\",\"pets\",\"commonly\",\"adults\",\"ultimate\",\"genius\",\"vinegar\",\"allows\",\"aid\",\"retirement\",\"airtel\",\"sciences\",\"mountain\",\"drinks\",\"tour\",\"wind\",\"seattle\",\"disabled\",\"bodies\",\"lesbian\",\"governments\",\"kinetic\",\"tumblr\",\"absolute\",\"author\",\"toilet\",\"whey\",\"sleepy\",\"molecular\",\"watches\",\"inventions\",\"rain\",\"34\",\"angular\",\"o\",\"dish\",\"however\",\"agents\",\"abs\",\"switzerland\",\"transformer\",\"clearing\",\"consciousness\",\"broadband\",\"uae\",\"automatic\",\"opposed\",\"geography\",\"astronauts\",\"decisions\",\"cement\",\"induction\",\"luxury\",\"upvotes\",\"politicians\",\"posted\",\"toefl\",\"kitchen\",\"noise\",\"radius\",\"dye\",\"miles\",\"risks\",\"scientifically\",\"mnc\",\"propose\",\"prepared\",\"iiit\",\"mention\",\"equipment\",\"darth\",\"january\",\"surname\",\"raised\",\"attitude\",\"gta\",\"david\",\"hike\",\"awkward\",\"proven\",\"productive\",\"lg\",\"filled\",\"atmosphere\",\"lee\",\"irctc\",\"addicted\",\"dynamic\",\"employment\",\"weekend\",\"replacement\",\"singing\",\"owners\",\"bipolar\",\"tomorrow\",\"poems\",\"default\",\"kvpy\",\"sauce\",\"competitors\",\"russians\",\"sample\",\"crimes\",\"hang\",\"inspired\",\"furniture\",\"throughout\",\"presence\",\"efficiency\",\"leg\",\"biological\",\"pilani\",\"conversations\",\"inspirational\",\"bachelor\",\"centers\",\"withdraw\",\"fundamental\",\"comparison\",\"november\",\"fifa\",\"penalty\",\"algebra\",\"joke\",\"htc\",\"pilots\",\"collapse\",\"texts\",\"vocabulary\",\"moved\",\"sc\",\"smile\",\"october\",\"dot\",\"genetic\",\"architect\",\"url\",\"51\",\"sore\",\"uniform\",\"re\",\"rails\",\"smaller\",\"marine\",\"terrorists\",\"nazi\",\"breast\",\"politician\",\"subtitles\",\"chosen\",\"egypt\",\"thin\",\"packages\",\"editor\",\"bands\",\"mythology\",\"reasonable\",\"permit\",\"acceptable\",\"seriously\",\"iraq\",\"fever\",\"visitor\",\"honest\",\"friction\",\"offering\",\"smarter\",\"ahmedabad\",\"replaced\",\"resolution\",\"burning\",\"bridge\",\"catholic\",\"calendar\",\"resident\",\"policies\",\"forced\",\"leading\",\"arm\",\"deserve\",\"context\",\"coolest\",\"arranged\",\"arizona\",\"comics\",\"harm\",\"democrats\",\"jail\",\"breed\",\"anywhere\",\"psu\",\"christ\",\"violence\",\"agriculture\",\"objective\",\"moments\",\"infinity\",\"supporting\",\"critical\",\"trees\",\"beyond\",\"bag\",\"vitamin\",\"assembly\",\"solved\",\"array\",\"perspective\",\"pas\",\"wwii\",\"skinny\",\"contains\",\"lift\",\"cleaning\",\"peter\",\"aap\",\"pimples\",\"initial\",\"lesserknown\",\"sights\",\"principles\",\"realize\",\"millionaire\",\"faux\",\"orbit\",\"desire\",\"hi\",\"prophet\",\"suits\",\"careers\",\"thinks\",\"quantity\",\"spots\",\"wage\",\"asleep\",\"sociology\",\"guard\",\"units\",\"structural\",\"operation\",\"pants\",\"w\",\"bulk\",\"possibly\",\"drunk\",\"fired\",\"accident\",\"inch\",\"bottle\",\"aerospace\",\"narcissist\",\"ux\",\"angeles\",\"wood\",\"index\",\"safely\",\"robotics\",\"edition\",\"metals\",\"practices\",\"scheme\",\"interior\",\"diabetes\",\"nobel\",\"youth\",\"lived\",\"september\",\"chief\",\"proposed\",\"assuming\",\"sin\",\"counter\",\"disable\",\"introduce\",\"restore\",\"swimming\",\"intern\",\"answering\",\"mentioned\",\"crash\",\"laser\",\"teenagers\",\"presentation\",\"quran\",\"classified\",\"demonetisation\",\"communicate\",\"cotton\",\"autism\",\"anger\",\"environmental\",\"stable\",\"7th\",\"bread\",\"invited\",\"wisdom\",\"wrote\",\"widely\",\"minor\",\"formal\",\"dreaming\",\"managers\",\"escape\",\"pollution\",\"taiwan\",\"verification\",\"los\",\"figures\",\"26\",\"illness\",\"sides\",\"compatible\",\"pack\",\"conspiracy\",\"hedge\",\"flights\",\"dropped\",\"former\",\"suffer\",\"aware\",\"designers\",\"mahabharata\",\"evolve\",\"weigh\",\"dies\",\"fruits\",\"cc\",\"butter\",\"sharing\",\"atoms\",\"tongue\",\"transaction\",\"poverty\",\"suffering\",\"presidents\",\"resistance\",\"adam\",\"civilization\",\"mining\",\"toronto\",\"stick\",\"increased\",\"wild\",\"freelance\",\"removal\",\"aws\",\"rio\",\"principle\",\"asus\",\"cute\",\"consumer\",\"pool\",\"variable\",\"tutorials\",\"advance\",\"keeping\",\"visible\",\"cognizant\",\"equations\",\"rooms\",\"krishna\",\"printer\",\"tooth\",\"mentally\",\"realistic\",\"automobile\",\"cake\",\"tie\",\"beach\",\"ghost\",\"comfortable\",\"mysql\",\"oral\",\"closed\",\"helps\",\"maharashtra\",\"admissions\",\"i5\",\"partners\",\"axis\",\"beliefs\",\"neck\",\"clans\",\"hidden\",\"cyber\",\"voting\",\"bacteria\",\"layer\",\"chhattisgarh\",\"5000\",\"sitting\",\"murder\",\"argument\",\"f\",\"privacy\",\"syndrome\",\"2010\",\"bite\",\"vacation\",\"isro\",\"trouble\",\"records\",\"answered\",\"digit\",\"defeat\",\"childhood\",\"5s\",\"gates\",\"f1\",\"town\",\"anal\",\"copper\",\"talks\",\"affiliate\",\"sociopath\",\"installed\",\"static\",\"copyright\",\"animation\",\"donate\",\"stranger\",\"bcom\",\"destroyed\",\"gujarat\",\"foundation\",\"prize\",\"components\",\"foreigner\",\"arms\",\"unlimited\",\"needing\",\"settings\",\"item\",\"eve\",\"competition\",\"landing\",\"beard\",\"patent\",\"ending\",\"2020\",\"incident\",\"petroleum\",\"florida\",\"particularly\",\"ups\",\"generator\",\"leather\",\"heal\",\"experiment\",\"28\",\"passing\",\"talent\",\"remote\",\"300\",\"published\",\"impossible\",\"steam\",\"80\",\"washing\",\"guilty\",\"punjab\",\"70\",\"album\",\"bullet\",\"paris\",\"interface\",\"agencies\",\"mission\",\"digits\",\"modis\",\"recruitment\",\"manipal\",\"telling\",\"meal\",\"orange\",\"stone\",\"links\",\"ab\",\"upper\",\"cameras\",\"p\",\"combat\",\"passion\",\"shower\",\"thailand\",\"beings\",\"grad\",\"27\",\"finger\",\"jump\",\"lights\",\"ui\",\"bba\",\"sweden\",\"arrive\",\"4th\",\"amendment\",\"window\",\"satellite\",\"al\",\"matlab\",\"jokes\",\"muhammad\",\"expression\",\"booking\",\"dinner\",\"skype\",\"lots\",\"2018\",\"teen\",\"finish\",\"dslr\",\"mens\",\"proud\",\"entrepreneurs\",\"ukraine\",\"coins\",\"scenario\",\"transmission\",\"ignore\",\"pride\",\"contribute\",\"grand\",\"curve\",\"false\",\"operations\",\"breakup\",\"eventually\",\"acquire\",\"commission\",\"lies\",\"spoken\",\"pills\",\"masturbating\",\"jackson\",\"airbnb\",\"delivered\",\"disk\",\"radiation\",\"plays\",\"marvel\",\"particle\",\"breakfast\",\"smartphones\",\"relevant\",\"quota\",\"refund\",\"inches\",\"telugu\",\"angel\",\"eastern\",\"inflation\",\"predict\",\"annoying\",\"obc\",\"tough\",\"conduct\",\"originate\",\"notification\",\"backup\",\"harder\",\"richest\",\"pronounce\",\"sri\",\"wheel\",\"wasnt\",\"oldest\",\"sheet\",\"soda\",\"20s\",\"wipro\",\"awesome\",\"facial\",\"z\",\"noida\",\"confident\",\"fbi\",\"corrupt\",\"succeed\",\"reddit\",\"associate\",\"input\",\"guns\",\"rahul\",\"baking\",\"description\",\"musical\",\"apache\",\"nowadays\",\"fluid\",\"capacity\",\"loose\",\"freshman\",\"cfa\",\"optional\",\"theres\",\"ps4\",\"trends\",\"jon\",\"richard\",\"legit\",\"nodejs\",\"document\",\"sexually\",\"particles\",\"singer\",\"printing\",\"captain\",\"valuable\",\"several\",\"aiims\",\"boot\",\"sit\",\"zone\",\"billionaire\",\"floor\",\"gravitational\",\"export\",\"motivation\",\"golden\",\"transgender\",\"healthcare\",\"heaven\",\"81\",\"leaves\",\"listening\",\"overall\",\"press\",\"dishes\",\"railways\",\"warming\",\"enfield\",\"extent\",\"acceleration\",\"afford\",\"bonds\",\"border\",\"registration\",\"cast\",\"hope\",\"shipping\",\"karnataka\",\"specifically\",\"opportunity\",\"arabia\",\"pump\",\"pg\",\"carrier\",\"plot\",\"kingdom\",\"contract\",\"painful\",\"kindle\",\"boring\",\"essential\",\"disney\",\"charger\",\"seconds\",\"measured\",\"honda\",\"ba\",\"makeup\",\"\\u2013\",\"mini\",\"annual\",\"traits\",\"retrieve\",\"willing\",\"swift\",\"consume\",\"hindus\",\"psychopath\",\"tells\",\"solving\",\"conditions\",\"artists\",\"spotify\",\"bomb\",\"integrate\",\"stuck\",\"nikon\",\"gadgets\",\"womens\",\"judge\",\"republicans\",\"vacuum\",\"felt\",\"putin\",\"tennis\",\"concentration\",\"fans\",\"constantly\",\"matrix\",\"secrets\",\"spot\",\"soft\",\"stored\",\"neural\",\"submit\",\"scores\",\"ola\",\"wire\",\"gdp\",\"jaipur\",\"typically\",\"airline\",\"roles\",\"cheaper\",\"machines\",\"shift\",\"impress\",\"basics\",\"32\",\"conservative\",\"birds\",\"tend\",\"duty\",\"setup\",\"rude\",\"pink\",\"church\",\"mine\",\"jack\",\"sending\",\"cooking\",\"versus\",\"expert\",\"olympic\",\"biotechnology\",\"gurgaon\",\"worked\",\"codes\",\"successfully\",\"hardware\",\"faith\",\"pr\",\"television\",\"compound\",\"vit\",\"universal\",\"thank\",\"grammatically\",\"chicago\",\"ivy\",\"worried\",\"enterprise\",\"sodium\",\"railway\",\"remedies\",\"racism\",\"tracking\",\"psychological\",\"apartment\",\"magazine\",\"martial\",\"beauty\",\"waiting\",\"attacks\",\"horror\",\"fantasy\",\"ma\",\"select\",\"increasing\",\"metro\",\"opt\",\"map\",\"watched\",\"gear\",\"icloud\",\"james\",\"comedy\",\"lollipop\",\"ireland\",\"upcoming\",\"italian\",\"oven\",\"emotionally\",\"decided\",\"lakh\",\"grey\",\"kept\",\"produced\",\"mouth\",\"manual\",\"dhoni\",\"fill\",\"throat\",\"shoot\",\"liked\",\"innovative\",\"immediately\",\"lonely\",\"fighting\",\"max\",\"accidentally\",\"schedule\",\"orgasm\",\"rape\",\"ride\",\"muscles\",\"graduates\",\"taller\",\"boost\",\"lakhs\",\"microwave\",\"electrons\",\"upon\",\"attract\",\"ap\",\"abuse\",\"earths\",\"forever\",\"underrated\",\"facing\",\"terrorist\",\"alien\",\"celebrity\",\"frequently\",\"vpn\",\"wales\",\"powder\",\"superman\",\"mixed\",\"caught\",\"goods\",\"beginning\",\"starts\",\"atomic\",\"associated\",\"triangle\",\"parties\",\"banning\",\"k\",\"honey\",\"monitor\",\"graph\",\"leaders\",\"embedded\",\"juice\",\"split\",\"lady\",\"sequence\",\"911\",\"harassment\",\"nepal\",\"pop\",\"habit\",\"setting\",\"edge\",\"ww2\",\"gps\",\"federal\",\"charged\",\"lying\",\"empty\",\"whenever\",\"airplane\",\"jet\",\"destroy\",\"ies\",\"wouldnt\",\"quick\",\"decrease\",\"robert\",\"pradesh\",\"professors\",\"massage\",\"held\",\"spending\",\"markets\",\"objects\",\"chart\",\"mechanics\",\"silver\",\"usage\",\"basketball\",\"gen\",\"periods\",\"identity\",\"individuals\",\"css\",\"soul\",\"ipod\",\"chest\",\"understanding\",\"coast\",\"classic\",\"spain\",\"babies\",\"sd\",\"hostel\",\"shirt\",\"further\",\"logical\",\"franchise\",\"obtain\",\"foreigners\",\"fully\",\"region\",\"designed\",\"cheated\",\"beneficial\",\"shes\",\"accent\",\"couldnt\",\"queen\",\"sick\",\"blowing\",\"properly\",\"stronger\",\"returns\",\"condition\",\"musk\",\"ugly\",\"teams\",\"filter\",\"snow\",\"glasses\",\"employer\",\"solid\",\"followed\",\"embarrassing\",\"auto\",\"meeting\",\"belong\",\"strike\",\"internships\",\"bachelors\",\"administration\",\"temple\",\"wealth\",\"retail\",\"speakers\",\"electoral\",\"headphones\",\"streaming\",\"mirror\",\"diesel\",\"republic\",\"antivirus\",\"customers\",\"atm\",\"vagina\",\"cigarettes\",\"aptitude\",\"lewis\",\"saudi\",\"puppy\",\"recovery\",\"jimmy\",\"obsessed\",\"domestic\",\"pen\",\"batch\",\"de\",\"drawing\",\"ai\",\"medium\",\"simply\",\"photoshop\",\"sms\",\"turning\",\"nadu\",\"appropriate\",\"adobe\",\"substitute\",\"fruit\",\"recipes\",\"fighter\",\"saving\",\"greater\",\"cheat\",\"routine\",\"push\",\"sherlock\",\"arguments\",\"sony\",\"import\",\"soldiers\",\"charges\",\"emotions\",\"ibm\",\"un\",\"innovations\",\"itunes\",\"consultant\",\"iims\",\"relations\",\"psychopaths\",\"existing\",\"angle\",\"clash\",\"bus\",\"australian\",\"crazy\",\"pull\",\"theories\",\"savings\",\"suit\",\"contrast\",\"calculus\",\"pi\",\"credits\",\"bluetooth\",\"himself\",\"traveling\",\"criminal\",\"xiaomi\",\"zealand\",\"seats\",\"electron\",\"script\",\"11th\",\"lessons\",\"programmers\",\"december\",\"flag\",\"singh\",\"arabic\",\"sale\",\"nfl\",\"grammar\",\"killing\",\"virgin\",\"differently\",\"poem\",\"provided\",\"automation\",\"shy\",\"translation\",\"mathematical\",\"45\",\"celebrities\",\"spring\",\"downloading\",\"dr\",\"organization\",\"majority\",\"clients\",\"hd\",\"motivate\",\"thats\",\"thesis\",\"door\",\"weakest\",\"saw\",\"canon\",\"younger\",\"costs\",\"river\",\"rings\",\"factory\",\"decent\",\"clintons\",\"holes\",\"desert\",\"divorce\",\"sold\",\"cheese\",\"atom\",\"taught\",\"minute\",\"ocean\",\"crisis\",\"represent\",\"surgical\",\"parent\",\"brexit\",\"possibility\",\"longest\",\"edit\",\"scholarship\",\"motivated\",\"chocolate\",\"faced\",\"90\",\"parallel\",\"foot\",\"examination\",\"friendly\",\"kinds\",\"wins\",\"islamic\",\"degrees\",\"registered\",\"distribution\",\"junior\",\"gave\",\"sing\",\"articles\",\"hadoop\",\"saved\",\"hero\",\"ear\",\"asks\",\"improved\",\"teenager\",\"forms\",\"wash\",\"provides\",\"washington\",\"strikes\",\"binary\",\"syria\",\"indonesia\",\"powers\",\"highly\",\"heshe\",\"happiness\",\"director\",\"citizenship\",\"knew\",\"humanity\",\"translate\",\"nba\",\"permanently\",\"soccer\",\"todays\",\"challenges\",\"barack\",\"title\",\"latin\",\"fitness\",\"genuine\",\"investor\",\"dislike\",\"scenes\",\"hacker\",\"bangladesh\",\"ebay\",\"earning\",\"dell\",\"paytm\",\"spouse\",\"bored\",\"roman\",\"official\",\"dragon\",\"park\",\"except\",\"habits\",\"quote\",\"astrology\",\"congress\",\"automatically\",\"island\",\"religions\",\"christianity\",\"supreme\",\"owner\",\"hell\",\"wikipedia\",\"cancel\",\"industries\",\"actress\",\"client\",\"visual\",\"michael\",\"remain\",\"ability\",\"concrete\",\"conflict\",\"string\",\"linear\",\"supposed\",\"engines\",\"2012\",\"\\u2018\",\"lesser\",\"traditional\",\"episodes\",\"goals\",\"tata\",\"opening\",\"target\",\"weak\",\"anonymous\",\"bjp\",\"resource\",\"concepts\",\"ruby\",\"friendship\",\"nyc\",\"pretty\",\"implement\",\"painting\",\"ill\",\"agency\",\"reverse\",\"confused\",\"italy\",\"response\",\"yellow\",\"dance\",\"contain\",\"vice\",\"editing\",\"acting\",\"weirdest\",\"feels\",\"govt\",\"accounting\",\"rise\",\"wise\",\"leaving\",\"lens\",\"artist\",\"arvind\",\"pattern\",\"scared\",\"attention\",\"airlines\",\"sky\",\"malaysia\",\"port\",\"attempt\",\"element\",\"classical\",\"shown\",\"safety\",\"including\",\"tablet\",\"la\",\"terrorism\",\"commit\",\"maps\",\"african\",\"viewed\",\"calling\",\"6s\",\"agent\",\"output\",\"justice\",\"don\",\"addiction\",\"lock\",\"vegetarian\",\"britain\",\"percent\",\"meditation\",\"ibps\",\"monthly\",\"writers\",\"forward\",\"stuff\",\"mr\",\"ready\",\"forgot\",\"flying\",\"recommended\",\"fields\",\"blind\",\"l\",\"hinduism\",\"desktop\",\"host\",\"tattoo\",\"maintain\",\"boards\",\"helpful\",\"semester\",\"load\",\"tier\",\"agree\",\"factor\",\"elon\",\"freshers\",\"sql\",\"cases\",\"exact\",\"confidence\",\"behavior\",\"hacked\",\"quotes\",\"hydrogen\",\"pakistani\",\"masturbate\",\"divided\",\"skill\",\"fine\",\"falling\",\"chess\",\"charging\",\"pages\",\"vector\",\"supporters\",\"waste\",\"sanders\",\"affordable\",\"unlock\",\"techniques\",\"wine\",\"keyboard\",\"cm\",\"wireless\",\"lawyer\",\"egg\",\"cope\",\"mindblowing\",\"recipe\",\"corruption\",\"scored\",\"secure\",\"teaching\",\"opposite\",\"educational\",\"bernie\",\"y\",\"library\",\"models\",\"kid\",\"stack\",\"separate\",\"19\",\"extremely\",\"properties\",\"cable\",\"magic\",\"removed\",\"computing\",\"hospital\",\"beer\",\"christians\",\"twice\",\"kg\",\"consulting\",\"whose\",\"serious\",\"petrol\",\"travelling\",\"revolution\",\"custom\",\"structures\",\"guide\",\"celebrate\",\"lenovo\",\"turned\",\"ielts\",\"grades\",\"fuel\",\"relative\",\"oracle\",\"academy\",\"lack\",\"passed\",\"relation\",\"values\",\"movement\",\"strategies\",\"eu\",\"emotional\",\"legs\",\"pokemon\",\"3g\",\"iran\",\"mostly\",\"jewish\",\"offered\",\"log\",\"hasnt\",\"explanation\",\"signal\",\"stores\",\"syllabus\",\"bits\",\"yoga\",\"weapons\",\"gods\",\"10000\",\"delivery\",\"gb\",\"sum\",\"letters\",\"venture\",\"selection\",\"winning\",\"35\",\"comment\",\"consequences\",\"sport\",\"items\",\"seems\",\"ring\",\"jealous\",\"laptops\",\"criteria\",\"fresh\",\"reference\",\"bitcoin\",\"infinite\",\"perform\",\"brazil\",\"density\",\"plans\",\"hosting\",\"clothing\",\"hong\",\"dying\",\"heavy\",\"steve\",\"gone\",\"damage\",\"missing\",\"ethical\",\"republican\",\"contacts\",\"activity\",\"electronic\",\"qualities\",\"piano\",\"hisher\",\"repair\",\"posts\",\"disease\",\"winter\",\"ten\",\"publish\",\"paint\",\"physically\",\"executive\",\"deposit\",\"elements\",\"xbox\",\"ceo\",\"visitors\",\"discovered\",\"tickets\",\"literature\",\"primary\",\"naturally\",\"senior\",\"u\",\"hardest\",\"debate\",\"frequency\",\"vietnam\",\"cry\",\"assistant\",\"gifts\",\"practical\",\"funny\",\"valid\",\"liberal\",\"refer\",\"beat\",\"shape\",\"institutes\",\"msc\",\"internal\",\"located\",\"significant\",\"scientists\",\"g\",\"ship\",\"proper\",\"independence\",\"added\",\"hes\",\"catch\",\"urine\",\"effectively\",\"named\",\"responsible\",\"strength\",\"whos\",\"immigration\",\"vehicle\",\"tesla\",\"kong\",\"meth\",\"england\",\"huge\",\"pizza\",\"rejected\",\"george\",\"fan\",\"salt\",\"browser\",\"sat\",\"loved\",\"fees\",\"walking\",\"symbol\",\"equity\",\"ubuntu\",\"alternatives\",\"theme\",\"virus\",\"manufacturing\",\"cutoff\",\"pure\",\"22\",\"introvert\",\"unable\",\"greek\",\"rice\",\"gst\",\"happening\",\"centre\",\"kiss\",\"prison\",\"bigger\",\"font\",\"construction\",\"exercises\",\"keeps\",\"gmat\",\"offers\",\"cross\",\"nasa\",\"unit\",\"advertising\",\"cup\",\"fixed\",\"limited\",\"billion\",\"subjects\",\"arts\",\"worlds\",\"stupid\",\"breaking\",\"funding\",\"tank\",\"generate\",\"efficient\",\"exists\",\"atheist\",\"entrepreneur\",\"direction\",\"broken\",\"offline\",\"firms\",\"station\",\"magnetic\",\"include\",\"aliens\",\"tinder\",\"logo\",\"photography\",\"worse\",\"besides\",\"path\",\"somebody\",\"interviews\",\"persons\",\"figure\",\"placed\",\"nation\",\"knows\",\"unmarried\",\"hp\",\"profitable\",\"tricks\",\"boss\",\"reply\",\"scam\",\"circle\",\"processor\",\"debt\",\"growing\",\"royal\",\"fiction\",\"department\",\"mistake\",\"weird\",\"graphics\",\"external\",\"article\",\"volume\",\"scratch\",\"chain\",\"protect\",\"storage\",\"texas\",\"liquid\",\"circuit\",\"graphic\",\"tired\",\"weather\",\"oxygen\",\"velocity\",\"dad\",\"band\",\"teachers\",\"drugs\",\"complex\",\"studio\",\"accenture\",\"leader\",\"levels\",\"goal\",\"logic\",\"acne\",\"plastic\",\"motion\",\"button\",\"peoples\",\"vision\",\"gap\",\"dollar\",\"computers\",\"stomach\",\"sources\",\"constant\",\"draw\",\"dress\",\"calculated\",\"sort\",\"3rd\",\"club\",\"channels\",\"creating\",\"candidates\",\"kejriwal\",\"broke\",\"sentences\",\"format\",\"emails\",\"raw\",\"stanford\",\"completed\",\"documents\",\"pan\",\"showing\",\"enter\",\"unknown\",\"bought\",\"router\",\"claim\",\"six\",\"technologies\",\"\\u20b9\",\"flipkart\",\"infosys\",\"mutual\",\"angry\",\"iits\",\"affected\",\"prices\",\"shares\",\"naruto\",\"processing\",\"finding\",\"democratic\",\"evolution\",\"harmful\",\"dual\",\"virtual\",\"member\",\"wave\",\"actual\",\"extra\",\"radio\",\"citizens\",\"e\",\"hr\",\"previous\",\"stopped\",\"walk\",\"redmi\",\"speaker\",\"torrent\",\"smoke\",\"mistakes\",\"flash\",\"iron\",\"entire\",\"individual\",\"express\",\"flow\",\"mode\",\"aircraft\",\"section\",\"planets\",\"10th\",\"respond\",\"easier\",\"evil\",\"percentile\",\"seeing\",\"calories\",\"upgrade\",\"professor\",\"v\",\"launch\",\"staff\",\"till\",\"silicon\",\"entry\",\"constitution\",\"century\",\"notice\",\"ie\",\"atheists\",\"tests\",\"21\",\"became\",\"kerala\",\"truly\",\"count\",\"essay\",\"papers\",\"accurate\",\"colors\",\"respect\",\"ideal\",\"rock\",\"reliance\",\"peace\",\"masturbation\",\"audio\",\"random\",\"independent\",\"colour\",\"hotels\",\"presidency\",\"generation\",\"paypal\",\"shot\",\"central\",\"released\",\"occur\",\"display\",\"industrial\",\"particular\",\"risk\",\"eg\",\"belly\",\"pet\",\"similarities\",\"organic\",\"marijuana\",\"networks\",\"aspects\",\"flat\",\"d\",\"comments\",\"nose\",\"identify\",\"rbi\",\"improvement\",\"directly\",\"framework\",\"suggestions\",\"designing\",\"brands\",\"religious\",\"influence\",\"novels\",\"statistics\",\"historical\",\"ground\",\"commerce\",\"pregnancy\",\"romantic\",\"failure\",\"wearing\",\"john\",\"apart\",\"bay\",\"symptoms\",\"200\",\"couple\",\"60\",\"canadian\",\"lie\",\"print\",\"carry\",\"gender\",\"experienced\",\"pounds\",\"reservation\",\"either\",\"stage\",\"artificial\",\"fit\",\"blogs\",\"developing\",\"environment\",\"learned\",\"copy\",\"phase\",\"bond\",\"democracy\",\"cgpa\",\"operating\",\"surface\",\"officers\",\"h1b\",\"ip\",\"workout\",\"fee\",\"elected\",\"hands\",\"largest\",\"sad\",\"shouldnt\",\"seat\",\"sister\",\"developers\",\"despite\",\"scene\",\"po\",\"diploma\",\"request\",\"empire\",\"ratio\",\"considering\",\"academic\",\"tree\",\"register\",\"advantage\",\"eligible\",\"nit\",\"shop\",\"intel\",\"funniest\",\"alternative\",\"fail\",\"ads\",\"nature\",\"miss\",\"involved\",\"overrated\",\"attend\",\"freedom\",\"dna\",\"beginners\",\"raise\",\"dry\",\"failed\",\"legally\",\"batman\",\"upload\",\"carbon\",\"regret\",\"applied\",\"points\",\"investors\",\"pick\",\"equivalent\",\"connected\",\"christmas\",\"lyrics\",\"nations\",\"caused\",\"bsc\",\"1st\",\"action\",\"activities\",\"biology\",\"hide\",\"asia\",\"takes\",\"require\",\"alive\",\"mom\",\"cycle\",\"generally\",\"campaign\",\"fair\",\"wake\",\"bit\",\"rules\",\"olympics\",\"racist\",\"areas\",\"eggs\",\"feature\",\"sap\",\"taxes\",\"ad\",\"shall\",\"theyre\",\"species\",\"pilot\",\"firm\",\"fish\",\"define\",\"doctors\",\"piece\",\"itself\",\"bang\",\"solutions\",\"iim\",\"2013\",\"wanted\",\"length\",\"burn\",\"waves\",\"bar\",\"gives\",\"forces\",\"christian\",\"anybody\",\"relationships\",\"nice\",\"wedding\",\"various\",\"brother\",\"films\",\"cream\",\"suddenly\",\"philippines\",\"fashion\",\"truth\",\"gpa\",\"cgl\",\"tall\",\"goa\",\"hacking\",\"statement\",\"reset\",\"materials\",\"played\",\"match\",\"usb\",\"novel\",\"unusual\",\"knowing\",\"selected\",\"valley\",\"chrome\",\"couples\",\"becomes\",\"died\",\"cheating\",\"community\",\"groups\",\"category\",\"pursuing\",\"writer\",\"mexico\",\"anymore\",\"sugar\",\"climate\",\"brown\",\"players\",\"ii\",\"reviews\",\"took\",\"led\",\"connection\",\"begin\",\"html\",\"changing\",\"received\",\"plants\",\"debit\",\"record\",\"revenue\",\"mars\",\"strongest\",\"members\",\"formed\",\"union\",\"thought\",\"existence\",\"kashmir\",\"gandhi\",\"pdf\",\"banned\",\"0\",\"plane\",\"treated\",\"electricity\",\"scale\",\"basis\",\"moral\",\"images\",\"methods\",\"certification\",\"voltage\",\"style\",\"base\",\"excel\",\"amazing\",\"regarding\",\"result\",\"rates\",\"hold\",\"indias\",\"airport\",\"businesses\",\"feet\",\"built\",\"linkedin\",\"signs\",\"above\",\"networking\",\"r\",\"shopping\",\"looks\",\"went\",\"placements\",\"bed\",\"experiences\",\"daughter\",\"tourist\",\"employee\",\"caste\",\"wait\",\"direct\",\"especially\",\"feed\",\"continue\",\"expected\",\"algorithm\",\"depressed\",\"shoes\",\"soon\",\"supply\",\"stress\",\"24\",\"inr\",\"foods\",\"rent\",\"architecture\",\"ban\",\"entrance\",\"actors\",\"messenger\",\"unique\",\"kolkata\",\"funds\",\"rupee\",\"promote\",\"rupees\",\"jews\",\"23\",\"cook\",\"cultural\",\"accepted\",\"hear\",\"glass\",\"road\",\"joining\",\"measure\",\"havent\",\"metal\",\"resume\",\"afraid\",\"turkey\",\"meat\",\"goes\",\"installation\",\"netflix\",\"benefit\",\"demand\",\"release\",\"produce\",\"report\",\"cover\",\"changes\",\"double\",\"2nd\",\"reaction\",\"killed\",\"steel\",\"requirements\",\"france\",\"exchange\",\"ac\",\"quantum\",\"reliable\",\"box\",\"results\",\"lives\",\"treatment\",\"4g\",\"ece\",\"probability\",\"sleeping\",\"philosophy\",\"handle\",\"forget\",\"driver\",\"demonetization\",\"algorithms\",\"trade\",\"rule\",\"muscle\",\"calls\",\"tried\",\"mental\",\"sure\",\"quit\",\"navy\",\"achieve\",\"francisco\",\"location\",\"until\",\"sense\",\"anxiety\",\"wordpress\",\"focus\",\"fact\",\"production\",\"conversation\",\"motor\",\"five\",\"attracted\",\"hit\",\"analyst\",\"moto\",\"isis\",\"chicken\",\"sector\",\"permanent\",\"along\",\"king\",\"slow\",\"candidate\",\"minutes\",\"purchase\",\"gun\",\"selling\",\"usually\",\"\\u2026\",\"fly\",\"round\",\"panel\",\"error\",\"stocks\",\"api\",\"remember\",\"africa\",\"paying\",\"hitler\",\"3d\",\"regular\",\"losing\",\"mail\",\"yahoo\",\"cheapest\",\"older\",\"concept\",\"characters\",\"definition\",\"lines\",\"pm\",\"cloud\",\"cats\",\"russian\",\"ipad\",\"korean\",\"proof\",\"battle\",\"stars\",\"stream\",\"recent\",\"typical\",\"performance\",\"harvard\",\"restaurant\",\"origin\",\"listen\",\"smell\",\"decide\",\"serve\",\"undergraduate\",\"profit\",\"situation\",\"surgery\",\"asking\",\"plant\",\"link\",\"square\",\"completing\",\"four\",\"trust\",\"payment\",\"gym\",\"andor\",\"worklife\",\"guitar\",\"elections\",\"half\",\"investing\",\"scientist\",\"street\",\"needs\",\"native\",\"thoughts\",\"reality\",\"40\",\"medicine\",\"race\",\"choice\",\"longer\",\"came\",\"applying\",\"hiring\",\"west\",\"weed\",\"hacks\",\"step\",\"sea\",\"crime\",\"devices\",\"event\",\"citizen\",\"14\",\"17\",\"ticket\",\"fund\",\"equation\",\"suicide\",\"whom\",\"met\",\"almost\",\"designer\",\"local\",\"departments\",\"khan\",\"customer\",\"banking\",\"javascript\",\"trip\",\"issue\",\"react\",\"cannot\",\"dubai\",\"wall\",\"touch\",\"parts\",\"loves\",\"clothes\",\"straight\",\"sexual\",\"active\",\"inpatient\",\"dreams\",\"protein\",\"table\",\"exercise\",\"lord\",\"mtech\",\"creative\",\"ball\",\"speaking\",\"son\",\"receive\",\"dollars\",\"domain\",\"prospects\",\"hour\",\"graduation\",\"commercial\",\"themselves\",\"factors\",\"jesus\",\"programmer\",\"recommend\",\"replace\",\"chat\",\"placement\",\"episode\",\"fastest\",\"restaurants\",\"object\",\"drivers\",\"gaming\",\"mark\",\"taste\",\"seem\",\"perfect\",\"potential\",\"trumps\",\"appear\",\"rights\",\"equal\",\"rest\",\"package\",\"meant\",\"drop\",\"cool\",\"material\",\"potter\",\"events\",\"convince\",\"completely\",\"n\",\"zero\",\"significance\",\"lower\",\"feelings\",\"followers\",\"evidence\",\"certain\",\"later\",\"original\",\"bible\",\"disorder\",\"testing\",\"via\",\"stand\",\"actor\",\"characteristics\",\"cities\",\"reach\",\"ago\",\"mbbs\",\"speech\",\"electric\",\"approach\",\"scientific\",\"root\",\"analytics\",\"below\",\"grade\",\"mains\",\"topic\",\"fun\",\"ancient\",\"adult\",\"standard\",\"ice\",\"everyday\",\"population\",\"invented\",\"european\",\"intelligent\",\"11\",\"subject\",\"rehab\",\"background\",\"giving\",\"platform\",\"flight\",\"thrones\",\"maths\",\"dc\",\"teeth\",\"mit\",\"weeks\",\"east\",\"means\",\"programs\",\"beginner\",\"heat\",\"third\",\"tea\",\"range\",\"london\",\"maximum\",\"enjoy\",\"2000\",\"cells\",\"quickly\",\"here\",\"expensive\",\"phrase\",\"partner\",\"league\",\"anime\",\"latest\",\"specific\",\"whether\",\"functions\",\"os\",\"fire\",\"saying\",\"secret\",\"13\",\"planet\",\"hole\",\"super\",\"teacher\",\"strong\",\"accounts\",\"minister\",\"database\",\"economic\",\"channel\",\"estate\",\"ram\",\"switch\",\"asian\",\"smoking\",\"branch\",\"israel\",\"18\",\"features\",\"success\",\"lead\",\"total\",\"key\",\"master\",\"ok\",\"favourite\",\"psychology\",\"pok\\u00e9mon\",\"nothing\",\"clean\",\"25\",\"politics\",\"drinking\",\"sometimes\",\"recently\",\"korea\",\"sent\",\"poor\",\"hindu\",\"hollywood\",\"survive\",\"cure\",\"property\",\"return\",\"narendra\",\"budget\",\"sports\",\"limit\",\"arent\",\"boys\",\"driving\",\"whole\",\"cash\",\"smartphone\",\"php\",\"developed\",\"ssc\",\"hot\",\"attractive\",\"tool\",\"physical\",\"ecommerce\",\"sbi\",\"morning\",\"animal\",\"multiple\",\"loan\",\"acid\",\"fresher\",\"spanish\",\"moving\",\"decision\",\"county\",\"determined\",\"becoming\",\"seo\",\"summer\",\"manage\",\"server\",\"competitive\",\"milk\",\"importance\",\"banks\",\"cheap\",\"powerful\",\"issues\",\"penis\",\"according\",\"analysis\",\"bike\",\"position\",\"western\",\"advanced\",\"campus\",\"highest\",\"front\",\"court\",\"status\",\"gravity\",\"positions\",\"comes\",\"steps\",\"complete\",\"electronics\",\"won\",\"hurt\",\"certificate\",\"temperature\",\"player\",\"someones\",\"communication\",\"million\",\"talking\",\"preparing\",\"finance\",\"cancer\",\"9\",\"harry\",\"accept\",\"2014\",\"plus\",\"born\",\"tcs\",\"license\",\"bring\",\"teach\",\"practice\",\"trading\",\"m\",\"might\",\"opportunities\",\"global\",\"wish\",\"outside\",\"attack\",\"procedure\",\"needed\",\"update\",\"coffee\",\"provider\",\"rather\",\"16\",\"allow\",\"tamil\",\"mix\",\"connect\",\"room\",\"watching\",\"deep\",\"york\",\"image\",\"birth\",\"sign\",\"birthday\",\"playing\",\"wars\",\"grads\",\"hire\",\"phones\",\"cbse\",\"details\",\"clear\",\"cricket\",\"dangerous\",\"track\",\"corporate\",\"voice\",\"upsc\",\"content\",\"okay\",\"san\",\"heart\",\"far\",\"heard\",\"prove\",\"positive\",\"moment\",\"sales\",\"opinion\",\"engineers\",\"block\",\"diet\",\"coding\",\"core\",\"baby\",\"father\",\"little\",\"large\",\"blocked\",\"distance\",\"land\",\"simple\",\"husband\",\"told\",\"traffic\",\"prevent\",\"pictures\",\"planning\",\"fear\",\"classes\",\"towards\",\"technical\",\"building\",\"trying\",\"photo\",\"early\",\"uses\",\"sydney\",\"startups\",\"act\",\"id\",\"describe\",\"12th\",\"may\",\"formula\",\"gets\",\"present\",\"wont\",\"cut\",\"treat\",\"mathematics\",\"visiting\",\"eye\",\"policy\",\"close\",\"cse\",\"suitable\",\"version\",\"tools\",\"head\",\"minimum\",\"chennai\",\"easily\",\"method\",\"intelligence\",\"gre\",\"mother\",\"doctor\",\"macbook\",\"deleted\",\"gas\",\"suggest\",\"cards\",\"files\",\"loss\",\"art\",\"easiest\",\"late\",\"among\",\"together\",\"depression\",\"higher\",\"alone\",\"economics\",\"dead\",\"growth\",\"insurance\",\"gold\",\"necessary\",\"neet\",\"blog\",\"example\",\"memory\",\"crack\",\"consider\",\"works\",\"currency\",\"recruit\",\"pursue\",\"strategy\",\"young\",\"cs\",\"projects\",\"50\",\"manager\",\"abroad\",\"schools\",\"illegal\",\"inside\",\"stories\",\"hand\",\"t\",\"greatest\",\"personality\",\"galaxy\",\"device\",\"views\",\"user\",\"chemistry\",\"cars\",\"iq\",\"prefer\",\"picture\",\"nuclear\",\"middle\",\"applications\",\"gmail\",\"laws\",\"final\",\"capital\",\"kids\",\"society\",\"fake\",\"bill\",\"save\",\"though\",\"likely\",\"determine\",\"shows\",\"character\",\"snapchat\",\"youre\",\"eyes\",\"islam\",\"marry\",\"brand\",\"yet\",\"impact\",\"speak\",\"within\",\"rich\",\"resources\",\"net\",\"non\",\"pressure\",\"changed\",\"allowed\",\"obama\",\"cold\",\"running\",\"feeling\",\"jio\",\"football\",\"gift\",\"written\",\"buying\",\"mac\",\"spend\",\"prime\",\"blue\",\"train\",\"studies\",\"negative\",\"thinking\",\"solution\",\"sun\",\"least\",\"following\",\"install\",\"else\",\"muslims\",\"camera\",\"vote\",\"linux\",\"expect\",\"german\",\"recover\",\"starting\",\"crush\",\"coming\",\"muslim\",\"modern\",\"battery\",\"provide\",\"access\",\"presidential\",\"interest\",\"dating\",\"pro\",\"likes\",\"french\",\"singapore\",\"useful\",\"already\",\"professional\",\"percentage\",\"drink\",\"created\",\"board\",\"passport\",\"structure\",\"case\",\"height\",\"microsoft\",\"break\",\"screen\",\"names\",\"chance\",\"special\",\"30\",\"skin\",\"natural\",\"color\",\"interested\",\"amount\",\"pain\",\"healthy\",\"hack\",\"messages\",\"ias\",\"gay\",\"disadvantages\",\"pass\",\"moon\",\"systems\",\"hindi\",\"financial\",\"taken\",\"yes\",\"sim\",\"pregnant\",\"faster\",\"animals\",\"internship\",\"let\",\"photos\",\"balance\",\"sound\",\"due\",\"knowledge\",\"charge\",\"message\",\"officer\",\"solar\",\"military\",\"meet\",\"option\",\"reading\",\"across\",\"overcome\",\"everyone\",\"everything\",\"wife\",\"reduce\",\"chances\",\"samsung\",\"income\",\"bollywood\",\"season\",\"europe\",\"boy\",\"currently\",\"ex\",\"smart\",\"california\",\"engine\",\"paid\",\"army\",\"contact\",\"address\",\"wants\",\"ones\",\"gain\",\"reasons\",\"avoid\",\"please\",\"note\",\"known\",\"pune\",\"film\",\"national\",\"once\",\"users\",\"porn\",\"scope\",\"twitter\",\"drug\",\"rank\",\"japan\",\"fight\",\"transfer\",\"political\",\"green\",\"news\",\"self\",\"uber\",\"basic\",\"british\",\"religion\",\"hyderabad\",\"topics\",\"explain\",\"phd\",\"eating\",\"letter\",\"calculate\",\"ive\",\"tech\",\"personal\",\"japanese\",\"check\",\"hotel\",\"wifi\",\"beautiful\",\"difficult\",\"paper\",\"languages\",\"investment\",\"develop\",\"north\",\"electrical\",\"ios\",\"alcohol\",\"exactly\",\"profile\",\"past\",\"exams\",\"ca\",\"convert\",\"vs\",\"understand\",\"care\",\"dream\",\"try\",\"americans\",\"lost\",\"chemical\",\"source\",\"b\",\"admission\",\"easy\",\"must\",\"three\",\"effect\",\"view\",\"options\",\"page\",\"away\",\"red\",\"said\",\"line\",\"short\",\"happy\",\"security\",\"dark\",\"preparation\",\"second\",\"fat\",\"matter\",\"few\",\"since\",\"role\",\"pc\",\"office\",\"team\",\"delete\",\"cell\",\"election\",\"economy\",\"term\",\"dogs\",\"text\",\"female\",\"effective\",\"brain\",\"share\",\"digital\",\"btech\",\"russia\",\"\\u201c\",\"party\",\"numbers\",\"20\",\"store\",\"male\",\"mass\",\"turn\",\"left\",\"married\",\"rs\",\"taking\",\"those\",\"password\",\"follow\",\"advice\",\"isnt\",\"15\",\"types\",\"network\",\"\\u201d\",\"week\",\"purpose\",\"related\",\"fix\",\"started\",\"courses\",\"masters\",\"grow\",\"8\",\"fast\",\"leave\",\"100\",\"often\",\"found\",\"pros\",\"marriage\",\"cons\",\"quality\",\"words\",\"kill\",\"price\",\"near\",\"modi\",\"enough\",\"search\",\"python\",\"x\",\"blood\",\"math\",\"yourself\",\"drive\",\"size\",\"star\",\"graduate\",\"majors\",\"500\",\"model\",\"studying\",\"general\",\"oil\",\"colleges\",\"area\",\"developer\",\"germany\",\"industry\",\"full\",\"training\",\"says\",\"period\",\"videos\",\"universe\",\"fall\",\"daily\",\"information\",\"foreign\",\"credit\",\"force\",\"12\",\"youve\",\"south\",\"offer\",\"set\",\"add\",\"send\",\"australia\",\"center\",\"1000\",\"famous\",\"2015\",\"lot\",\"function\",\"tax\",\"correct\",\"solve\",\"advantages\",\"coaching\",\"institute\",\"effects\",\"guys\",\"again\",\"group\",\"hours\",\"side\",\"sentence\",\"low\",\"similar\",\"plan\",\"children\",\"answers\",\"talk\",\"marks\",\"ideas\",\"theory\",\"death\",\"compared\",\"night\",\"remove\",\"dog\",\"anything\",\"single\",\"successful\",\"gate\",\"indians\",\"put\",\"problems\",\"move\",\"writing\",\"point\",\"invest\",\"asked\",\"biggest\",\"others\",\"stock\",\"notes\",\"story\",\"machine\",\"private\",\"sell\",\"seen\",\"required\",\"field\",\"file\",\"rate\",\"humans\",\"application\",\"face\",\"sites\",\"mind\",\"facts\",\"mumbai\",\"post\",\"stay\",\"child\",\"terms\",\"products\",\"control\",\"legal\",\"police\",\"didnt\",\"level\",\"worst\",\"hate\",\"visit\",\"called\",\"amazon\",\"causes\",\"health\",\"form\",\"physics\",\"iit\",\"skills\",\"times\",\"medical\",\"based\",\"list\",\"websites\",\"die\",\"part\",\"less\",\"benefits\",\"apple\",\"instead\",\"these\",\"boyfriend\",\"sleep\",\"canada\",\"reason\",\"education\",\"cause\",\"jee\",\"value\",\"today\",\"media\",\"public\",\"happened\",\"product\",\"research\",\"main\",\"behind\",\"international\",\"project\",\"uk\",\"differ\",\"7\",\"places\",\"wear\",\"order\",\"date\",\"etc\",\"small\",\"songs\",\"apps\",\"email\",\"given\",\"wrong\",\"site\",\"normal\",\"culture\",\"also\",\"civil\",\"city\",\"available\",\"house\",\"exist\",\"startup\",\"services\",\"ms\",\"both\",\"down\",\"2017\",\"run\",\"cat\",\"well\",\"space\",\"join\",\"deal\",\"games\",\"visa\",\"rid\",\"air\",\"speed\",\"popular\",\"problem\",\"support\",\"current\",\"pakistan\",\"choose\",\"build\",\"idea\",\"america\",\"whatsapp\",\"affect\",\"law\",\"technology\",\"call\",\"6\",\"universities\",\"family\",\"marketing\",\"major\",\"actually\",\"favorite\",\"light\",\"bangalore\",\"woman\",\"because\",\"type\",\"program\",\"looking\",\"living\",\"open\",\"believe\",\"month\",\"able\",\"management\",\"travel\",\"degree\",\"show\",\"interesting\",\"score\",\"months\",\"series\",\"chinese\",\"development\",\"end\",\"code\",\"design\",\"per\",\"employees\",\"review\",\"clinton\",\"common\",\"kind\",\"internet\",\"song\",\"download\",\"course\",\"parents\",\"jobs\",\"such\",\"increase\",\"java\",\"god\",\"another\",\"united\",\"girlfriend\",\"mechanical\",\"always\",\"next\",\"never\",\"around\",\"tips\",\"mba\",\"myself\",\"hillary\",\"apply\",\"answer\",\"something\",\"considered\",\"making\",\"differences\",\"market\",\"compare\",\"great\",\"keep\",\"test\",\"s\",\"win\",\"against\",\"states\",\"earn\",\"youtube\",\"worth\",\"delhi\",\"energy\",\"laptop\",\"american\",\"lose\",\"each\",\"hard\",\"makes\",\"age\",\"ask\",\"safe\",\"body\",\"power\",\"salary\",\"4\",\"watch\",\"white\",\"windows\",\"instagram\",\"history\",\"pay\",\"every\",\"last\",\"create\",\"relationship\",\"music\",\"too\",\"meaning\",\"state\",\"average\",\"earth\",\"got\",\"process\",\"class\",\"tv\",\"eat\",\"done\",\"happens\",\"days\",\"big\",\"off\",\"improve\",\"future\",\"place\",\"man\",\"human\",\"government\",\"play\",\"countries\",\"food\",\"service\",\"students\",\"weight\",\"game\",\"engineer\",\"write\",\"very\",\"interview\",\"web\",\"tell\",\"social\",\"girls\",\"video\",\"look\",\"having\",\"guy\",\"home\",\"hair\",\"usa\",\"doesnt\",\"word\",\"bank\",\"friend\",\"true\",\"experience\",\"career\",\"president\",\"question\",\"own\",\"china\",\"come\",\"under\",\"working\",\"him\",\"doing\",\"donald\",\"friends\",\"right\",\"5\",\"cost\",\"mobile\",\"even\",\"movies\",\"then\",\"c\",\"\\u2019\",\"exam\",\"men\",\"learning\",\"card\",\"war\",\"read\",\"programming\",\"black\",\"anyone\",\"high\",\"10\",\"companies\",\"car\",\"getting\",\"give\",\"important\",\"questions\",\"cant\",\"iphone\",\"website\",\"top\",\"water\",\"prepare\",\"during\",\"real\",\"say\",\"system\",\"name\",\"through\",\"two\",\"1\",\"our\",\"study\",\"3\",\"university\",\"made\",\"back\",\"happen\",\"stop\",\"student\",\"sex\",\"bad\",\"language\",\"going\",\"same\",\"before\",\"software\",\"school\",\"live\",\"country\",\"android\",\"science\",\"help\",\"she\",\"see\",\"thing\",\"women\",\"over\",\"data\",\"examples\",\"computer\",\"had\",\"ways\",\"change\",\"while\",\"book\",\"english\",\"account\",\"still\",\"movie\",\"books\",\"2016\",\"facebook\",\"free\",\"number\",\"college\",\"app\",\"2\",\"just\",\"now\",\"no\",\"trump\",\"company\",\"only\",\"old\",\"been\",\"google\",\"phone\",\"long\",\"different\",\"girl\",\"his\",\"her\",\"years\",\"really\",\"them\",\"using\",\"business\",\"need\",\"being\",\"buy\",\"day\",\"person\",\"things\",\"possible\",\"could\",\"were\",\"its\",\"love\",\"engineering\",\"im\",\"used\",\"online\",\"go\",\"year\",\"he\",\"into\",\"feel\",\"dont\",\"first\",\"up\"]]]}}},\"view\":{\"type\":\"object\",\"name\":\"CDSView\",\"id\":\"p1045\",\"attributes\":{\"filter\":{\"type\":\"object\",\"name\":\"AllIndices\",\"id\":\"p1046\"}}},\"glyph\":{\"type\":\"object\",\"name\":\"Scatter\",\"id\":\"p1041\",\"attributes\":{\"x\":{\"type\":\"field\",\"field\":\"x\"},\"y\":{\"type\":\"field\",\"field\":\"y\"},\"size\":{\"type\":\"value\",\"value\":10},\"line_color\":{\"type\":\"field\",\"field\":\"color\"},\"line_alpha\":{\"type\":\"value\",\"value\":0.25},\"fill_color\":{\"type\":\"field\",\"field\":\"color\"},\"fill_alpha\":{\"type\":\"value\",\"value\":0.25},\"hatch_color\":{\"type\":\"field\",\"field\":\"color\"},\"hatch_alpha\":{\"type\":\"value\",\"value\":0.25}}},\"nonselection_glyph\":{\"type\":\"object\",\"name\":\"Scatter\",\"id\":\"p1042\",\"attributes\":{\"x\":{\"type\":\"field\",\"field\":\"x\"},\"y\":{\"type\":\"field\",\"field\":\"y\"},\"size\":{\"type\":\"value\",\"value\":10},\"line_color\":{\"type\":\"field\",\"field\":\"color\"},\"line_alpha\":{\"type\":\"value\",\"value\":0.1},\"fill_color\":{\"type\":\"field\",\"field\":\"color\"},\"fill_alpha\":{\"type\":\"value\",\"value\":0.1},\"hatch_color\":{\"type\":\"field\",\"field\":\"color\"},\"hatch_alpha\":{\"type\":\"value\",\"value\":0.1}}},\"muted_glyph\":{\"type\":\"object\",\"name\":\"Scatter\",\"id\":\"p1043\",\"attributes\":{\"x\":{\"type\":\"field\",\"field\":\"x\"},\"y\":{\"type\":\"field\",\"field\":\"y\"},\"size\":{\"type\":\"value\",\"value\":10},\"line_color\":{\"type\":\"field\",\"field\":\"color\"},\"line_alpha\":{\"type\":\"value\",\"value\":0.2},\"fill_color\":{\"type\":\"field\",\"field\":\"color\"},\"fill_alpha\":{\"type\":\"value\",\"value\":0.2},\"hatch_color\":{\"type\":\"field\",\"field\":\"color\"},\"hatch_alpha\":{\"type\":\"value\",\"value\":0.2}}}}}],\"toolbar\":{\"type\":\"object\",\"name\":\"Toolbar\",\"id\":\"p1012\",\"attributes\":{\"tools\":[{\"type\":\"object\",\"name\":\"PanTool\",\"id\":\"p1025\"},{\"type\":\"object\",\"name\":\"WheelZoomTool\",\"id\":\"p1026\",\"attributes\":{\"renderers\":\"auto\"}},{\"type\":\"object\",\"name\":\"BoxZoomTool\",\"id\":\"p1027\",\"attributes\":{\"overlay\":{\"type\":\"object\",\"name\":\"BoxAnnotation\",\"id\":\"p1028\",\"attributes\":{\"syncable\":false,\"line_color\":\"black\",\"line_alpha\":1.0,\"line_width\":2,\"line_dash\":[4,4],\"fill_color\":\"lightgrey\",\"fill_alpha\":0.5,\"level\":\"overlay\",\"visible\":false,\"left\":{\"type\":\"number\",\"value\":\"nan\"},\"right\":{\"type\":\"number\",\"value\":\"nan\"},\"top\":{\"type\":\"number\",\"value\":\"nan\"},\"bottom\":{\"type\":\"number\",\"value\":\"nan\"},\"left_units\":\"canvas\",\"right_units\":\"canvas\",\"top_units\":\"canvas\",\"bottom_units\":\"canvas\",\"handles\":{\"type\":\"object\",\"name\":\"BoxInteractionHandles\",\"id\":\"p1034\",\"attributes\":{\"all\":{\"type\":\"object\",\"name\":\"AreaVisuals\",\"id\":\"p1033\",\"attributes\":{\"fill_color\":\"white\",\"hover_fill_color\":\"lightgray\"}}}}}}}},{\"type\":\"object\",\"name\":\"SaveTool\",\"id\":\"p1035\"},{\"type\":\"object\",\"name\":\"ResetTool\",\"id\":\"p1036\"},{\"type\":\"object\",\"name\":\"HelpTool\",\"id\":\"p1037\"},{\"type\":\"object\",\"name\":\"HoverTool\",\"id\":\"p1047\",\"attributes\":{\"renderers\":\"auto\",\"tooltips\":[[\"token\",\"@token\"]]}}],\"active_scroll\":{\"id\":\"p1026\"}}},\"left\":[{\"type\":\"object\",\"name\":\"LinearAxis\",\"id\":\"p1020\",\"attributes\":{\"ticker\":{\"type\":\"object\",\"name\":\"BasicTicker\",\"id\":\"p1021\",\"attributes\":{\"mantissas\":[1,2,5]}},\"formatter\":{\"type\":\"object\",\"name\":\"BasicTickFormatter\",\"id\":\"p1022\"},\"major_label_policy\":{\"type\":\"object\",\"name\":\"AllLabels\",\"id\":\"p1023\"}}}],\"below\":[{\"type\":\"object\",\"name\":\"LinearAxis\",\"id\":\"p1015\",\"attributes\":{\"ticker\":{\"type\":\"object\",\"name\":\"BasicTicker\",\"id\":\"p1016\",\"attributes\":{\"mantissas\":[1,2,5]}},\"formatter\":{\"type\":\"object\",\"name\":\"BasicTickFormatter\",\"id\":\"p1017\"},\"major_label_policy\":{\"type\":\"object\",\"name\":\"AllLabels\",\"id\":\"p1018\"}}}],\"center\":[{\"type\":\"object\",\"name\":\"Grid\",\"id\":\"p1019\",\"attributes\":{\"axis\":{\"id\":\"p1015\"}}},{\"type\":\"object\",\"name\":\"Grid\",\"id\":\"p1024\",\"attributes\":{\"dimension\":1,\"axis\":{\"id\":\"p1020\"}}}]}}]}};\n  const render_items = [{\"docid\":\"0e8b8c03-8e11-46e7-8ce2-435d5033e501\",\"roots\":{\"p1004\":\"b45059d9-3102-41e5-8811-a2b482f3a94a\"},\"root_ids\":[\"p1004\"]}];\n  void root.Bokeh.embed.embed_items_notebook(docs_json, render_items);\n  }\n  if (root.Bokeh !== undefined) {\n    embed_document(root);\n  } else {\n    let attempts = 0;\n    const timer = setInterval(function(root) {\n      if (root.Bokeh !== undefined) {\n        clearInterval(timer);\n        embed_document(root);\n      } else {\n        attempts++;\n        if (attempts > 100) {\n          clearInterval(timer);\n          console.log(\"Bokeh: ERROR: Unable to run BokehJS code because BokehJS library is missing\");\n        }\n      }\n    }, 10, root)\n  }\n})(window);",
            "application/vnd.bokehjs_exec.v0+json": ""
          },
          "metadata": {
            "application/vnd.bokehjs_exec.v0+json": {
              "id": "p1004"
            }
          },
          "output_type": "display_data"
        },
        {
          "data": {
            "text/html": [
              "<div style=\"display: table;\"><div style=\"display: table-row;\"><div style=\"display: table-cell;\"><b title=\"bokeh.plotting._figure.figure\">figure</b>(</div><div style=\"display: table-cell;\">id&nbsp;=&nbsp;'p1004', <span id=\"p1051\" style=\"cursor: pointer;\">&hellip;)</span></div></div><div class=\"p1050\" style=\"display: none;\"><div style=\"display: table-cell;\"></div><div style=\"display: table-cell;\">above&nbsp;=&nbsp;[],</div></div><div class=\"p1050\" style=\"display: none;\"><div style=\"display: table-cell;\"></div><div style=\"display: table-cell;\">align&nbsp;=&nbsp;'auto',</div></div><div class=\"p1050\" style=\"display: none;\"><div style=\"display: table-cell;\"></div><div style=\"display: table-cell;\">aspect_ratio&nbsp;=&nbsp;None,</div></div><div class=\"p1050\" style=\"display: none;\"><div style=\"display: table-cell;\"></div><div style=\"display: table-cell;\">aspect_scale&nbsp;=&nbsp;1,</div></div><div class=\"p1050\" style=\"display: none;\"><div style=\"display: table-cell;\"></div><div style=\"display: table-cell;\">attribution&nbsp;=&nbsp;[],</div></div><div class=\"p1050\" style=\"display: none;\"><div style=\"display: table-cell;\"></div><div style=\"display: table-cell;\">background_fill_alpha&nbsp;=&nbsp;1.0,</div></div><div class=\"p1050\" style=\"display: none;\"><div style=\"display: table-cell;\"></div><div style=\"display: table-cell;\">background_fill_color&nbsp;=&nbsp;'#ffffff',</div></div><div class=\"p1050\" style=\"display: none;\"><div style=\"display: table-cell;\"></div><div style=\"display: table-cell;\">below&nbsp;=&nbsp;[LinearAxis(id='p1015', ...)],</div></div><div class=\"p1050\" style=\"display: none;\"><div style=\"display: table-cell;\"></div><div style=\"display: table-cell;\">border_fill_alpha&nbsp;=&nbsp;1.0,</div></div><div class=\"p1050\" style=\"display: none;\"><div style=\"display: table-cell;\"></div><div style=\"display: table-cell;\">border_fill_color&nbsp;=&nbsp;'#ffffff',</div></div><div class=\"p1050\" style=\"display: none;\"><div style=\"display: table-cell;\"></div><div style=\"display: table-cell;\">center&nbsp;=&nbsp;[Grid(id='p1019', ...), Grid(id='p1024', ...)],</div></div><div class=\"p1050\" style=\"display: none;\"><div style=\"display: table-cell;\"></div><div style=\"display: table-cell;\">context_menu&nbsp;=&nbsp;None,</div></div><div class=\"p1050\" style=\"display: none;\"><div style=\"display: table-cell;\"></div><div style=\"display: table-cell;\">css_classes&nbsp;=&nbsp;[],</div></div><div class=\"p1050\" style=\"display: none;\"><div style=\"display: table-cell;\"></div><div style=\"display: table-cell;\">css_variables&nbsp;=&nbsp;{},</div></div><div class=\"p1050\" style=\"display: none;\"><div style=\"display: table-cell;\"></div><div style=\"display: table-cell;\">disabled&nbsp;=&nbsp;False,</div></div><div class=\"p1050\" style=\"display: none;\"><div style=\"display: table-cell;\"></div><div style=\"display: table-cell;\">elements&nbsp;=&nbsp;[],</div></div><div class=\"p1050\" style=\"display: none;\"><div style=\"display: table-cell;\"></div><div style=\"display: table-cell;\">extra_x_ranges&nbsp;=&nbsp;{},</div></div><div class=\"p1050\" style=\"display: none;\"><div style=\"display: table-cell;\"></div><div style=\"display: table-cell;\">extra_x_scales&nbsp;=&nbsp;{},</div></div><div class=\"p1050\" style=\"display: none;\"><div style=\"display: table-cell;\"></div><div style=\"display: table-cell;\">extra_y_ranges&nbsp;=&nbsp;{},</div></div><div class=\"p1050\" style=\"display: none;\"><div style=\"display: table-cell;\"></div><div style=\"display: table-cell;\">extra_y_scales&nbsp;=&nbsp;{},</div></div><div class=\"p1050\" style=\"display: none;\"><div style=\"display: table-cell;\"></div><div style=\"display: table-cell;\">flow_mode&nbsp;=&nbsp;'block',</div></div><div class=\"p1050\" style=\"display: none;\"><div style=\"display: table-cell;\"></div><div style=\"display: table-cell;\">frame_align&nbsp;=&nbsp;True,</div></div><div class=\"p1050\" style=\"display: none;\"><div style=\"display: table-cell;\"></div><div style=\"display: table-cell;\">frame_height&nbsp;=&nbsp;None,</div></div><div class=\"p1050\" style=\"display: none;\"><div style=\"display: table-cell;\"></div><div style=\"display: table-cell;\">frame_width&nbsp;=&nbsp;None,</div></div><div class=\"p1050\" style=\"display: none;\"><div style=\"display: table-cell;\"></div><div style=\"display: table-cell;\">height&nbsp;=&nbsp;400,</div></div><div class=\"p1050\" style=\"display: none;\"><div style=\"display: table-cell;\"></div><div style=\"display: table-cell;\">height_policy&nbsp;=&nbsp;'auto',</div></div><div class=\"p1050\" style=\"display: none;\"><div style=\"display: table-cell;\"></div><div style=\"display: table-cell;\">hidpi&nbsp;=&nbsp;True,</div></div><div class=\"p1050\" style=\"display: none;\"><div style=\"display: table-cell;\"></div><div style=\"display: table-cell;\">hold_render&nbsp;=&nbsp;False,</div></div><div class=\"p1050\" style=\"display: none;\"><div style=\"display: table-cell;\"></div><div style=\"display: table-cell;\">js_event_callbacks&nbsp;=&nbsp;{},</div></div><div class=\"p1050\" style=\"display: none;\"><div style=\"display: table-cell;\"></div><div style=\"display: table-cell;\">js_property_callbacks&nbsp;=&nbsp;{},</div></div><div class=\"p1050\" style=\"display: none;\"><div style=\"display: table-cell;\"></div><div style=\"display: table-cell;\">left&nbsp;=&nbsp;[LinearAxis(id='p1020', ...)],</div></div><div class=\"p1050\" style=\"display: none;\"><div style=\"display: table-cell;\"></div><div style=\"display: table-cell;\">lod_factor&nbsp;=&nbsp;10,</div></div><div class=\"p1050\" style=\"display: none;\"><div style=\"display: table-cell;\"></div><div style=\"display: table-cell;\">lod_interval&nbsp;=&nbsp;300,</div></div><div class=\"p1050\" style=\"display: none;\"><div style=\"display: table-cell;\"></div><div style=\"display: table-cell;\">lod_threshold&nbsp;=&nbsp;2000,</div></div><div class=\"p1050\" style=\"display: none;\"><div style=\"display: table-cell;\"></div><div style=\"display: table-cell;\">lod_timeout&nbsp;=&nbsp;500,</div></div><div class=\"p1050\" style=\"display: none;\"><div style=\"display: table-cell;\"></div><div style=\"display: table-cell;\">margin&nbsp;=&nbsp;None,</div></div><div class=\"p1050\" style=\"display: none;\"><div style=\"display: table-cell;\"></div><div style=\"display: table-cell;\">match_aspect&nbsp;=&nbsp;False,</div></div><div class=\"p1050\" style=\"display: none;\"><div style=\"display: table-cell;\"></div><div style=\"display: table-cell;\">max_height&nbsp;=&nbsp;None,</div></div><div class=\"p1050\" style=\"display: none;\"><div style=\"display: table-cell;\"></div><div style=\"display: table-cell;\">max_width&nbsp;=&nbsp;None,</div></div><div class=\"p1050\" style=\"display: none;\"><div style=\"display: table-cell;\"></div><div style=\"display: table-cell;\">min_border&nbsp;=&nbsp;5,</div></div><div class=\"p1050\" style=\"display: none;\"><div style=\"display: table-cell;\"></div><div style=\"display: table-cell;\">min_border_bottom&nbsp;=&nbsp;None,</div></div><div class=\"p1050\" style=\"display: none;\"><div style=\"display: table-cell;\"></div><div style=\"display: table-cell;\">min_border_left&nbsp;=&nbsp;None,</div></div><div class=\"p1050\" style=\"display: none;\"><div style=\"display: table-cell;\"></div><div style=\"display: table-cell;\">min_border_right&nbsp;=&nbsp;None,</div></div><div class=\"p1050\" style=\"display: none;\"><div style=\"display: table-cell;\"></div><div style=\"display: table-cell;\">min_border_top&nbsp;=&nbsp;None,</div></div><div class=\"p1050\" style=\"display: none;\"><div style=\"display: table-cell;\"></div><div style=\"display: table-cell;\">min_height&nbsp;=&nbsp;None,</div></div><div class=\"p1050\" style=\"display: none;\"><div style=\"display: table-cell;\"></div><div style=\"display: table-cell;\">min_width&nbsp;=&nbsp;None,</div></div><div class=\"p1050\" style=\"display: none;\"><div style=\"display: table-cell;\"></div><div style=\"display: table-cell;\">name&nbsp;=&nbsp;None,</div></div><div class=\"p1050\" style=\"display: none;\"><div style=\"display: table-cell;\"></div><div style=\"display: table-cell;\">outline_line_alpha&nbsp;=&nbsp;1.0,</div></div><div class=\"p1050\" style=\"display: none;\"><div style=\"display: table-cell;\"></div><div style=\"display: table-cell;\">outline_line_cap&nbsp;=&nbsp;'butt',</div></div><div class=\"p1050\" style=\"display: none;\"><div style=\"display: table-cell;\"></div><div style=\"display: table-cell;\">outline_line_color&nbsp;=&nbsp;'#e5e5e5',</div></div><div class=\"p1050\" style=\"display: none;\"><div style=\"display: table-cell;\"></div><div style=\"display: table-cell;\">outline_line_dash&nbsp;=&nbsp;[],</div></div><div class=\"p1050\" style=\"display: none;\"><div style=\"display: table-cell;\"></div><div style=\"display: table-cell;\">outline_line_dash_offset&nbsp;=&nbsp;0,</div></div><div class=\"p1050\" style=\"display: none;\"><div style=\"display: table-cell;\"></div><div style=\"display: table-cell;\">outline_line_join&nbsp;=&nbsp;'bevel',</div></div><div class=\"p1050\" style=\"display: none;\"><div style=\"display: table-cell;\"></div><div style=\"display: table-cell;\">outline_line_width&nbsp;=&nbsp;1,</div></div><div class=\"p1050\" style=\"display: none;\"><div style=\"display: table-cell;\"></div><div style=\"display: table-cell;\">output_backend&nbsp;=&nbsp;'canvas',</div></div><div class=\"p1050\" style=\"display: none;\"><div style=\"display: table-cell;\"></div><div style=\"display: table-cell;\">renderers&nbsp;=&nbsp;[GlyphRenderer(id='p1044', ...)],</div></div><div class=\"p1050\" style=\"display: none;\"><div style=\"display: table-cell;\"></div><div style=\"display: table-cell;\">reset_policy&nbsp;=&nbsp;'standard',</div></div><div class=\"p1050\" style=\"display: none;\"><div style=\"display: table-cell;\"></div><div style=\"display: table-cell;\">resizable&nbsp;=&nbsp;False,</div></div><div class=\"p1050\" style=\"display: none;\"><div style=\"display: table-cell;\"></div><div style=\"display: table-cell;\">right&nbsp;=&nbsp;[],</div></div><div class=\"p1050\" style=\"display: none;\"><div style=\"display: table-cell;\"></div><div style=\"display: table-cell;\">sizing_mode&nbsp;=&nbsp;None,</div></div><div class=\"p1050\" style=\"display: none;\"><div style=\"display: table-cell;\"></div><div style=\"display: table-cell;\">styles&nbsp;=&nbsp;{},</div></div><div class=\"p1050\" style=\"display: none;\"><div style=\"display: table-cell;\"></div><div style=\"display: table-cell;\">stylesheets&nbsp;=&nbsp;[],</div></div><div class=\"p1050\" style=\"display: none;\"><div style=\"display: table-cell;\"></div><div style=\"display: table-cell;\">subscribed_events&nbsp;=&nbsp;PropertyValueSet(),</div></div><div class=\"p1050\" style=\"display: none;\"><div style=\"display: table-cell;\"></div><div style=\"display: table-cell;\">syncable&nbsp;=&nbsp;True,</div></div><div class=\"p1050\" style=\"display: none;\"><div style=\"display: table-cell;\"></div><div style=\"display: table-cell;\">tags&nbsp;=&nbsp;[],</div></div><div class=\"p1050\" style=\"display: none;\"><div style=\"display: table-cell;\"></div><div style=\"display: table-cell;\">title&nbsp;=&nbsp;Title(id='p1011', ...),</div></div><div class=\"p1050\" style=\"display: none;\"><div style=\"display: table-cell;\"></div><div style=\"display: table-cell;\">title_location&nbsp;=&nbsp;'above',</div></div><div class=\"p1050\" style=\"display: none;\"><div style=\"display: table-cell;\"></div><div style=\"display: table-cell;\">toolbar&nbsp;=&nbsp;Toolbar(id='p1012', ...),</div></div><div class=\"p1050\" style=\"display: none;\"><div style=\"display: table-cell;\"></div><div style=\"display: table-cell;\">toolbar_inner&nbsp;=&nbsp;False,</div></div><div class=\"p1050\" style=\"display: none;\"><div style=\"display: table-cell;\"></div><div style=\"display: table-cell;\">toolbar_location&nbsp;=&nbsp;'right',</div></div><div class=\"p1050\" style=\"display: none;\"><div style=\"display: table-cell;\"></div><div style=\"display: table-cell;\">toolbar_sticky&nbsp;=&nbsp;True,</div></div><div class=\"p1050\" style=\"display: none;\"><div style=\"display: table-cell;\"></div><div style=\"display: table-cell;\">visible&nbsp;=&nbsp;True,</div></div><div class=\"p1050\" style=\"display: none;\"><div style=\"display: table-cell;\"></div><div style=\"display: table-cell;\">width&nbsp;=&nbsp;600,</div></div><div class=\"p1050\" style=\"display: none;\"><div style=\"display: table-cell;\"></div><div style=\"display: table-cell;\">width_policy&nbsp;=&nbsp;'auto',</div></div><div class=\"p1050\" style=\"display: none;\"><div style=\"display: table-cell;\"></div><div style=\"display: table-cell;\">x_range&nbsp;=&nbsp;DataRange1d(id='p1005', ...),</div></div><div class=\"p1050\" style=\"display: none;\"><div style=\"display: table-cell;\"></div><div style=\"display: table-cell;\">x_scale&nbsp;=&nbsp;LinearScale(id='p1013', ...),</div></div><div class=\"p1050\" style=\"display: none;\"><div style=\"display: table-cell;\"></div><div style=\"display: table-cell;\">y_range&nbsp;=&nbsp;DataRange1d(id='p1006', ...),</div></div><div class=\"p1050\" style=\"display: none;\"><div style=\"display: table-cell;\"></div><div style=\"display: table-cell;\">y_scale&nbsp;=&nbsp;LinearScale(id='p1014', ...))</div></div></div>\n",
              "<script>\n",
              "(function() {\n",
              "  let expanded = false;\n",
              "  const ellipsis = document.getElementById(\"p1051\");\n",
              "  ellipsis.addEventListener(\"click\", function() {\n",
              "    const rows = document.getElementsByClassName(\"p1050\");\n",
              "    for (let i = 0; i < rows.length; i++) {\n",
              "      const el = rows[i];\n",
              "      el.style.display = expanded ? \"none\" : \"table-row\";\n",
              "    }\n",
              "    ellipsis.innerHTML = expanded ? \"&hellip;)\" : \"&lsaquo;&lsaquo;&lsaquo;\";\n",
              "    expanded = !expanded;\n",
              "  });\n",
              "})();\n",
              "</script>\n"
            ],
            "text/plain": [
              "figure(id='p1004', ...)"
            ]
          },
          "execution_count": 78,
          "metadata": {},
          "output_type": "execute_result"
        }
      ],
      "source": [
        "draw_vectors(embedding[:, 0], embedding[:, 1], token=top_words)"
      ]
    },
    {
      "cell_type": "markdown",
      "metadata": {
        "id": "hkKwtvtYOJe_"
      },
      "source": [
        "Для сдачи задания необходимо загрузить функции `subsample_frequent_words` и `get_negative_sampling_prob`, а также сгенерировать файл для посылки ниже и приложить в соответствующую задачу. Успехов!"
      ]
    },
    {
      "cell_type": "code",
      "execution_count": 85,
      "metadata": {
        "colab": {
          "base_uri": "https://localhost:8080/"
        },
        "id": "jWBI6jcDOJfA",
        "outputId": "fc96a0e1-5f91-4494-b2ff-0a9af16ec2ef"
      },
      "outputs": [
        {
          "name": "stdout",
          "output_type": "stream",
          "text": [
            "File saved to `submission_dict.json`\n"
          ]
        }
      ],
      "source": [
        "# do not change the code in the block below\n",
        "# __________start of block__________\n",
        "import os\n",
        "import json\n",
        "\n",
        "assert os.path.exists(\n",
        "    \"words_subset.txt\"\n",
        "), \"Please, download `words_subset.txt` and place it in the working directory\"\n",
        "\n",
        "with open(\"words_subset.txt\") as iofile:\n",
        "    selected_words = iofile.read().split(\"\\n\")\n",
        "\n",
        "\n",
        "def get_matrix_for_selected_words(selected_words, embedding_matrix, word_to_index):\n",
        "    word_vectors = []\n",
        "    for word in selected_words:\n",
        "        index = word_to_index.get(word, None)\n",
        "        vector = [0.0] * embedding_matrix.shape[1]\n",
        "        if index is not None:\n",
        "            vector = embedding_matrix[index].numpy().tolist()\n",
        "        word_vectors.append(vector)\n",
        "    return word_vectors\n",
        "\n",
        "\n",
        "word_vectors = get_matrix_for_selected_words(\n",
        "    selected_words, embedding_matrix_context, word_to_index\n",
        ")\n",
        "\n",
        "with open(\"submission_dict4.json\", \"w\") as iofile:\n",
        "    json.dump(word_vectors, iofile)\n",
        "print(\"File saved to `submission_dict.json`\")\n",
        "# __________end of block__________"
      ]
    }
  ],
  "metadata": {
    "colab": {
      "provenance": []
    },
    "kernelspec": {
      "display_name": "py3_research",
      "language": "python",
      "name": "python3"
    },
    "language_info": {
      "codemirror_mode": {
        "name": "ipython",
        "version": 3
      },
      "file_extension": ".py",
      "mimetype": "text/x-python",
      "name": "python",
      "nbconvert_exporter": "python",
      "pygments_lexer": "ipython3",
      "version": "3.11.2"
    },
    "widgets": {
      "application/vnd.jupyter.widget-state+json": {
        "34b2e36c5d974976aff383116c07b32f": {
          "model_module": "@jupyter-widgets/controls",
          "model_module_version": "1.5.0",
          "model_name": "DescriptionStyleModel",
          "state": {
            "_model_module": "@jupyter-widgets/controls",
            "_model_module_version": "1.5.0",
            "_model_name": "DescriptionStyleModel",
            "_view_count": null,
            "_view_module": "@jupyter-widgets/base",
            "_view_module_version": "1.2.0",
            "_view_name": "StyleView",
            "description_width": ""
          }
        },
        "36a28b8a8b7f416ba23930b189695b50": {
          "model_module": "@jupyter-widgets/base",
          "model_module_version": "1.2.0",
          "model_name": "LayoutModel",
          "state": {
            "_model_module": "@jupyter-widgets/base",
            "_model_module_version": "1.2.0",
            "_model_name": "LayoutModel",
            "_view_count": null,
            "_view_module": "@jupyter-widgets/base",
            "_view_module_version": "1.2.0",
            "_view_name": "LayoutView",
            "align_content": null,
            "align_items": null,
            "align_self": null,
            "border": null,
            "bottom": null,
            "display": null,
            "flex": null,
            "flex_flow": null,
            "grid_area": null,
            "grid_auto_columns": null,
            "grid_auto_flow": null,
            "grid_auto_rows": null,
            "grid_column": null,
            "grid_gap": null,
            "grid_row": null,
            "grid_template_areas": null,
            "grid_template_columns": null,
            "grid_template_rows": null,
            "height": null,
            "justify_content": null,
            "justify_items": null,
            "left": null,
            "margin": null,
            "max_height": null,
            "max_width": null,
            "min_height": null,
            "min_width": null,
            "object_fit": null,
            "object_position": null,
            "order": null,
            "overflow": null,
            "overflow_x": null,
            "overflow_y": null,
            "padding": null,
            "right": null,
            "top": null,
            "visibility": null,
            "width": null
          }
        },
        "40c43a1e5e64454bac7d2808246159e7": {
          "model_module": "@jupyter-widgets/controls",
          "model_module_version": "1.5.0",
          "model_name": "FloatProgressModel",
          "state": {
            "_dom_classes": [],
            "_model_module": "@jupyter-widgets/controls",
            "_model_module_version": "1.5.0",
            "_model_name": "FloatProgressModel",
            "_view_count": null,
            "_view_module": "@jupyter-widgets/controls",
            "_view_module_version": "1.5.0",
            "_view_name": "ProgressView",
            "bar_style": "success",
            "description": "",
            "description_tooltip": null,
            "layout": "IPY_MODEL_36a28b8a8b7f416ba23930b189695b50",
            "max": 1000,
            "min": 0,
            "orientation": "horizontal",
            "style": "IPY_MODEL_806b3a63ee4b4e2fbb151cdfc1e637c0",
            "value": 1000
          }
        },
        "806b3a63ee4b4e2fbb151cdfc1e637c0": {
          "model_module": "@jupyter-widgets/controls",
          "model_module_version": "1.5.0",
          "model_name": "ProgressStyleModel",
          "state": {
            "_model_module": "@jupyter-widgets/controls",
            "_model_module_version": "1.5.0",
            "_model_name": "ProgressStyleModel",
            "_view_count": null,
            "_view_module": "@jupyter-widgets/base",
            "_view_module_version": "1.2.0",
            "_view_name": "StyleView",
            "bar_color": null,
            "description_width": ""
          }
        },
        "861d3aba6c75404590c01200c4449319": {
          "model_module": "@jupyter-widgets/base",
          "model_module_version": "1.2.0",
          "model_name": "LayoutModel",
          "state": {
            "_model_module": "@jupyter-widgets/base",
            "_model_module_version": "1.2.0",
            "_model_name": "LayoutModel",
            "_view_count": null,
            "_view_module": "@jupyter-widgets/base",
            "_view_module_version": "1.2.0",
            "_view_name": "LayoutView",
            "align_content": null,
            "align_items": null,
            "align_self": null,
            "border": null,
            "bottom": null,
            "display": null,
            "flex": null,
            "flex_flow": null,
            "grid_area": null,
            "grid_auto_columns": null,
            "grid_auto_flow": null,
            "grid_auto_rows": null,
            "grid_column": null,
            "grid_gap": null,
            "grid_row": null,
            "grid_template_areas": null,
            "grid_template_columns": null,
            "grid_template_rows": null,
            "height": null,
            "justify_content": null,
            "justify_items": null,
            "left": null,
            "margin": null,
            "max_height": null,
            "max_width": null,
            "min_height": null,
            "min_width": null,
            "object_fit": null,
            "object_position": null,
            "order": null,
            "overflow": null,
            "overflow_x": null,
            "overflow_y": null,
            "padding": null,
            "right": null,
            "top": null,
            "visibility": null,
            "width": null
          }
        },
        "97666e8648764888acfd7aadcc2589e5": {
          "model_module": "@jupyter-widgets/controls",
          "model_module_version": "1.5.0",
          "model_name": "HBoxModel",
          "state": {
            "_dom_classes": [],
            "_model_module": "@jupyter-widgets/controls",
            "_model_module_version": "1.5.0",
            "_model_name": "HBoxModel",
            "_view_count": null,
            "_view_module": "@jupyter-widgets/controls",
            "_view_module_version": "1.5.0",
            "_view_name": "HBoxView",
            "box_style": "",
            "children": [
              "IPY_MODEL_a16f658f479a41729477f8e271e89fde",
              "IPY_MODEL_40c43a1e5e64454bac7d2808246159e7",
              "IPY_MODEL_a102023ae6eb459e810cf59878e36250"
            ],
            "layout": "IPY_MODEL_e06e4493f9e640d6bad404846b971412"
          }
        },
        "a102023ae6eb459e810cf59878e36250": {
          "model_module": "@jupyter-widgets/controls",
          "model_module_version": "1.5.0",
          "model_name": "HTMLModel",
          "state": {
            "_dom_classes": [],
            "_model_module": "@jupyter-widgets/controls",
            "_model_module_version": "1.5.0",
            "_model_name": "HTMLModel",
            "_view_count": null,
            "_view_module": "@jupyter-widgets/controls",
            "_view_module_version": "1.5.0",
            "_view_name": "HTMLView",
            "description": "",
            "description_tooltip": null,
            "layout": "IPY_MODEL_861d3aba6c75404590c01200c4449319",
            "placeholder": "​",
            "style": "IPY_MODEL_34b2e36c5d974976aff383116c07b32f",
            "value": " 1000/1000 [48:53&lt;00:00,  3.16s/it]"
          }
        },
        "a16f658f479a41729477f8e271e89fde": {
          "model_module": "@jupyter-widgets/controls",
          "model_module_version": "1.5.0",
          "model_name": "HTMLModel",
          "state": {
            "_dom_classes": [],
            "_model_module": "@jupyter-widgets/controls",
            "_model_module_version": "1.5.0",
            "_model_name": "HTMLModel",
            "_view_count": null,
            "_view_module": "@jupyter-widgets/controls",
            "_view_module_version": "1.5.0",
            "_view_name": "HTMLView",
            "description": "",
            "description_tooltip": null,
            "layout": "IPY_MODEL_d1e87bfc30534458a81789e917a87189",
            "placeholder": "​",
            "style": "IPY_MODEL_a74d130f6151444aad3b9513b790fad1",
            "value": "100%"
          }
        },
        "a74d130f6151444aad3b9513b790fad1": {
          "model_module": "@jupyter-widgets/controls",
          "model_module_version": "1.5.0",
          "model_name": "DescriptionStyleModel",
          "state": {
            "_model_module": "@jupyter-widgets/controls",
            "_model_module_version": "1.5.0",
            "_model_name": "DescriptionStyleModel",
            "_view_count": null,
            "_view_module": "@jupyter-widgets/base",
            "_view_module_version": "1.2.0",
            "_view_name": "StyleView",
            "description_width": ""
          }
        },
        "d1e87bfc30534458a81789e917a87189": {
          "model_module": "@jupyter-widgets/base",
          "model_module_version": "1.2.0",
          "model_name": "LayoutModel",
          "state": {
            "_model_module": "@jupyter-widgets/base",
            "_model_module_version": "1.2.0",
            "_model_name": "LayoutModel",
            "_view_count": null,
            "_view_module": "@jupyter-widgets/base",
            "_view_module_version": "1.2.0",
            "_view_name": "LayoutView",
            "align_content": null,
            "align_items": null,
            "align_self": null,
            "border": null,
            "bottom": null,
            "display": null,
            "flex": null,
            "flex_flow": null,
            "grid_area": null,
            "grid_auto_columns": null,
            "grid_auto_flow": null,
            "grid_auto_rows": null,
            "grid_column": null,
            "grid_gap": null,
            "grid_row": null,
            "grid_template_areas": null,
            "grid_template_columns": null,
            "grid_template_rows": null,
            "height": null,
            "justify_content": null,
            "justify_items": null,
            "left": null,
            "margin": null,
            "max_height": null,
            "max_width": null,
            "min_height": null,
            "min_width": null,
            "object_fit": null,
            "object_position": null,
            "order": null,
            "overflow": null,
            "overflow_x": null,
            "overflow_y": null,
            "padding": null,
            "right": null,
            "top": null,
            "visibility": null,
            "width": null
          }
        },
        "e06e4493f9e640d6bad404846b971412": {
          "model_module": "@jupyter-widgets/base",
          "model_module_version": "1.2.0",
          "model_name": "LayoutModel",
          "state": {
            "_model_module": "@jupyter-widgets/base",
            "_model_module_version": "1.2.0",
            "_model_name": "LayoutModel",
            "_view_count": null,
            "_view_module": "@jupyter-widgets/base",
            "_view_module_version": "1.2.0",
            "_view_name": "LayoutView",
            "align_content": null,
            "align_items": null,
            "align_self": null,
            "border": null,
            "bottom": null,
            "display": null,
            "flex": null,
            "flex_flow": null,
            "grid_area": null,
            "grid_auto_columns": null,
            "grid_auto_flow": null,
            "grid_auto_rows": null,
            "grid_column": null,
            "grid_gap": null,
            "grid_row": null,
            "grid_template_areas": null,
            "grid_template_columns": null,
            "grid_template_rows": null,
            "height": null,
            "justify_content": null,
            "justify_items": null,
            "left": null,
            "margin": null,
            "max_height": null,
            "max_width": null,
            "min_height": null,
            "min_width": null,
            "object_fit": null,
            "object_position": null,
            "order": null,
            "overflow": null,
            "overflow_x": null,
            "overflow_y": null,
            "padding": null,
            "right": null,
            "top": null,
            "visibility": null,
            "width": null
          }
        }
      }
    }
  },
  "nbformat": 4,
  "nbformat_minor": 0
}
